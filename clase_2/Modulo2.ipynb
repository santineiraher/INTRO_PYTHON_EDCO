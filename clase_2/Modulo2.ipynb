{
 "cells": [
  {
   "cell_type": "markdown",
   "metadata": {},
   "source": [
    "# **Introducción al análisis de datos en Python** \n",
    "### Profesora: Catalina Bernal"
   ]
  },
  {
   "cell_type": "markdown",
   "metadata": {},
   "source": [
    "# Clase 2: Estructuras de datos y control de flujo\n",
    "> **Objetivo**: El objetivo de este taller es profundizar algunas estructuras de datos básicas en Python y herramientas de control de flujo como ciclos y condicionales.\n"
   ]
  },
  {
   "cell_type": "markdown",
   "metadata": {},
   "source": [
    "## Listas\n",
    "Las listas en Python son una estructura de datos que permite almacenar una colección ordenada de elementos. Los elementos pueden ser de cualquier tipo, como números, cadenas de texto, booleanos, otras listas, objetos personalizados, entre otros.\n",
    "\n",
    "Las listas se definen utilizando corchetes [] y separando los elementos por comas. Por ejemplo, una lista de números enteros se puede definir así:\n",
    "\n",
    "```python\n",
    "numeros = [1, 2, 3, 4, 5]\n",
    "```\n",
    "\n",
    "Además, es posible acceder a los elementos de una lista mediante su índice, **que comienza en 0 para el primer elemento**. Por ejemplo, `numeros[0]` devuelve el primer elemento de la lista numeros, que en este caso es 1. También es posible acceder a una porción de la lista utilizando la notación de slicing, por ejemplo, `numeros[1:3]` devuelve una lista que contiene los elementos en las posiciones 1 y 2 (excluyendo la posición 3)."
   ]
  },
  {
   "cell_type": "code",
   "execution_count": null,
   "metadata": {},
   "outputs": [],
   "source": [
    "numeros = [6,10,13,40,-10] "
   ]
  },
  {
   "cell_type": "code",
   "execution_count": null,
   "metadata": {},
   "outputs": [],
   "source": [
    "numeros[1:3]"
   ]
  },
  {
   "cell_type": "code",
   "execution_count": null,
   "metadata": {},
   "outputs": [],
   "source": [
    "numeros[1:4]"
   ]
  },
  {
   "cell_type": "code",
   "execution_count": null,
   "metadata": {},
   "outputs": [],
   "source": [
    "numeros[2:]"
   ]
  },
  {
   "cell_type": "markdown",
   "metadata": {},
   "source": [
    "Métodos de lista\n",
    "\n",
    "- `len(lista)`: el número de elementos de la lista\n",
    "- `lista.append(elemento)`: agrega al final de la lista un elemento\n",
    "- `lista.reverse()`: invertir el orden de la lista\n",
    "- `lista.pop(indice)`: elimina el elemento del indice dado de la lista\n",
    "- `lista.insert(indice,elemento)`: agrega un elemento en el indice especificado\n",
    "- `lista.sort()`: ordena la lista"
   ]
  },
  {
   "cell_type": "code",
   "execution_count": null,
   "metadata": {},
   "outputs": [],
   "source": [
    "len(numeros)"
   ]
  },
  {
   "cell_type": "code",
   "execution_count": null,
   "metadata": {},
   "outputs": [],
   "source": [
    "# Agregar un elemento al final de la lista\n",
    "print(numeros)\n",
    "numeros.append(8)\n",
    "print(numeros)"
   ]
  },
  {
   "cell_type": "code",
   "execution_count": null,
   "metadata": {},
   "outputs": [],
   "source": [
    "# Insertar un elemento en un índice específico\n",
    "print(numeros)\n",
    "numeros.insert(3,343)\n",
    "print(numeros)"
   ]
  },
  {
   "cell_type": "code",
   "execution_count": null,
   "metadata": {},
   "outputs": [],
   "source": [
    "#Invertir el orden de una lista\n",
    "print(numeros)\n",
    "numeros.reverse()\n",
    "print(numeros)"
   ]
  },
  {
   "cell_type": "code",
   "execution_count": null,
   "metadata": {},
   "outputs": [],
   "source": [
    "# Elimina un elemento en un índice específico\n",
    "print(numeros)\n",
    "numeros.pop(3)\n",
    "print(numeros)"
   ]
  },
  {
   "cell_type": "code",
   "execution_count": null,
   "metadata": {},
   "outputs": [],
   "source": [
    "?list.insert"
   ]
  },
  {
   "cell_type": "code",
   "execution_count": null,
   "metadata": {},
   "outputs": [],
   "source": [
    "help(list.insert)"
   ]
  },
  {
   "cell_type": "code",
   "execution_count": null,
   "metadata": {},
   "outputs": [],
   "source": [
    "# Crear una lista de los números del 0 al 10\n",
    "list(range(0, 10))"
   ]
  },
  {
   "cell_type": "code",
   "execution_count": null,
   "metadata": {},
   "outputs": [],
   "source": [
    "# Crear una lista de los números impares del 0 al 10\n",
    "impares = list(range(1, 11, 2))\n",
    "print(impares)"
   ]
  },
  {
   "cell_type": "code",
   "execution_count": null,
   "metadata": {},
   "outputs": [],
   "source": [
    "# Ordenar una lista\n",
    "impares.sort(reverse=True)"
   ]
  },
  {
   "cell_type": "code",
   "execution_count": null,
   "metadata": {},
   "outputs": [],
   "source": [
    "edades = [43,21,57,35,28,45]"
   ]
  },
  {
   "cell_type": "code",
   "execution_count": null,
   "metadata": {},
   "outputs": [],
   "source": [
    "edades.sort() #Por defecto es orden ascendente"
   ]
  },
  {
   "cell_type": "code",
   "execution_count": null,
   "metadata": {},
   "outputs": [],
   "source": [
    "# Crear una lista descendente del 100 al 90\n",
    "list(range(100,89,-1))"
   ]
  },
  {
   "cell_type": "code",
   "execution_count": null,
   "metadata": {},
   "outputs": [],
   "source": [
    "nueva_lista = list(range(90,101))\n",
    "nueva_lista.reverse()"
   ]
  },
  {
   "cell_type": "code",
   "execution_count": null,
   "metadata": {},
   "outputs": [],
   "source": [
    "nueva_lista"
   ]
  },
  {
   "cell_type": "markdown",
   "metadata": {},
   "source": [
    "Para modificar los elementos de una lista en Python, se puede acceder a ellos mediante su índice y asignarles un nuevo valor. Por ejemplo, si tenemos la siguiente lista:"
   ]
  },
  {
   "cell_type": "code",
   "execution_count": null,
   "metadata": {},
   "outputs": [],
   "source": [
    "frutas = [\"manzana\", \"banana\", \"banana\",\"banana\",\"kiwi\", \"pera\"]"
   ]
  },
  {
   "cell_type": "markdown",
   "metadata": {},
   "source": [
    "Podemos modificar el segundo elemento \"banana\" por \"fresa\" de la siguiente manera:"
   ]
  },
  {
   "cell_type": "code",
   "execution_count": null,
   "metadata": {},
   "outputs": [],
   "source": [
    "frutas[1] = \"fresa\""
   ]
  },
  {
   "cell_type": "code",
   "execution_count": null,
   "metadata": {},
   "outputs": [],
   "source": [
    "print(frutas)"
   ]
  },
  {
   "cell_type": "code",
   "execution_count": null,
   "metadata": {},
   "outputs": [],
   "source": [
    "frutas[1:3]"
   ]
  },
  {
   "cell_type": "markdown",
   "metadata": {},
   "source": [
    "También es posible modificar varios elementos de la lista al mismo tiempo usando la notación de slicing. Por ejemplo, para cambiar los elementos de la posición 1 y 2 por \"mango\" y \"piña\" respectivamente, se puede hacer lo siguiente:"
   ]
  },
  {
   "cell_type": "code",
   "execution_count": null,
   "metadata": {},
   "outputs": [],
   "source": [
    "frutas[1:3] = [\"mango\", \"piña\"]"
   ]
  },
  {
   "cell_type": "code",
   "execution_count": null,
   "metadata": {},
   "outputs": [],
   "source": [
    "print(frutas)"
   ]
  },
  {
   "cell_type": "markdown",
   "metadata": {},
   "source": [
    "\n",
    "Es importante tener en cuenta que los elementos de una lista son mutables, por lo que si un elemento es una lista, se puede modificar los elementos de esa lista interna mediante su índice."
   ]
  },
  {
   "cell_type": "code",
   "execution_count": null,
   "metadata": {},
   "outputs": [],
   "source": [
    "# Creemos una lista con las características de talla y peso de diferentes personas\n",
    "car_camilo = [182, 80]\n",
    "car_valentina = [175, 65]\n",
    "personas = [car_camilo, car_valentina]"
   ]
  },
  {
   "cell_type": "code",
   "execution_count": null,
   "metadata": {},
   "outputs": [],
   "source": [
    "personas[1][0]"
   ]
  },
  {
   "cell_type": "markdown",
   "metadata": {},
   "source": [
    "### Funciones internas matemáticas"
   ]
  },
  {
   "cell_type": "code",
   "execution_count": null,
   "metadata": {},
   "outputs": [],
   "source": [
    "lista = [-3,-1,1, 3, 5, 7, 9]"
   ]
  },
  {
   "cell_type": "code",
   "execution_count": null,
   "metadata": {},
   "outputs": [],
   "source": [
    "max(lista)"
   ]
  },
  {
   "cell_type": "code",
   "execution_count": null,
   "metadata": {},
   "outputs": [],
   "source": [
    "min(lista)"
   ]
  },
  {
   "cell_type": "code",
   "execution_count": null,
   "metadata": {},
   "outputs": [],
   "source": [
    "sum(lista)"
   ]
  },
  {
   "cell_type": "markdown",
   "metadata": {},
   "source": [
    "### Listas por comprensión\n",
    "\n",
    "Nos permiten crear listas a partir de transformaciones y filtros de otras listas."
   ]
  },
  {
   "cell_type": "code",
   "execution_count": null,
   "metadata": {},
   "outputs": [],
   "source": [
    "numeros = list(range(100))"
   ]
  },
  {
   "cell_type": "code",
   "execution_count": null,
   "metadata": {},
   "outputs": [],
   "source": [
    "cuadrados_pares = [t**2 for t in numeros if t%2==1 and t**2<1000]"
   ]
  },
  {
   "cell_type": "code",
   "execution_count": null,
   "metadata": {},
   "outputs": [],
   "source": [
    "colores = ['rojo','naranja','azul','amarillo','morado']\n",
    "colores_mayuscula = [col.upper() for col in colores]\n",
    "print(colores_mayuscula)"
   ]
  },
  {
   "cell_type": "code",
   "execution_count": null,
   "metadata": {},
   "outputs": [],
   "source": [
    "lista"
   ]
  },
  {
   "cell_type": "code",
   "execution_count": null,
   "metadata": {},
   "outputs": [],
   "source": [
    "sum([abs(numero) for numero in lista])"
   ]
  },
  {
   "cell_type": "markdown",
   "metadata": {},
   "source": [
    "## Tuplas\n",
    "En Python, una tupla es una estructura de datos similar a una lista, pero con la diferencia de que las tuplas son inmutables. Esto significa que una vez que se ha creado una tupla, no se puede modificar su contenido.\n",
    "\n",
    "Las tuplas se definen utilizando paréntesis `()` y separando los elementos por comas. Por ejemplo, una tupla que contiene los meses del año se puede definir así:"
   ]
  },
  {
   "cell_type": "code",
   "execution_count": null,
   "metadata": {},
   "outputs": [],
   "source": [
    "meses = (\"Enero\", \"Febrero\", \"Marzo\", \"Abril\", \"Mayo\", \"Junio\", \"Julio\", \"Agosto\", \"Septiembre\", \"Octubre\", \"Noviembre\", \"Diciembre\")"
   ]
  },
  {
   "cell_type": "code",
   "execution_count": null,
   "metadata": {},
   "outputs": [],
   "source": [
    "# Nombre, Apellido, Documento de Identidad, Dirección\n",
    "(\"Karen\",\"Gonzalez\",1007637191, \"Cra 72 #112-90\")"
   ]
  },
  {
   "cell_type": "code",
   "execution_count": null,
   "metadata": {},
   "outputs": [],
   "source": [
    "meses[4]"
   ]
  },
  {
   "cell_type": "code",
   "execution_count": null,
   "metadata": {},
   "outputs": [],
   "source": [
    "meses[4:10]"
   ]
  },
  {
   "cell_type": "markdown",
   "metadata": {},
   "source": [
    "A diferencia de las listas, no se pueden agregar ni eliminar elementos de una tupla, ni modificar los valores de sus elementos. Sin embargo, se pueden realizar algunas operaciones con las tuplas, como acceder a sus elementos mediante el índice, hacer slicing o concatenar dos tuplas para crear una nueva tupla.\n",
    "\n",
    "Las tuplas suelen ser útiles cuando se necesita almacenar una colección de elementos que no van a cambiar durante la ejecución del programa, ya que son más eficientes en términos de memoria y rendimiento que las listas. Además, las tuplas se utilizan a menudo para devolver varios valores de una función en Python."
   ]
  },
  {
   "cell_type": "markdown",
   "metadata": {},
   "source": [
    "Un ejemplo práctico del uso de tuplas en Python es en la representación de coordenadas en un plano cartesiano. En este caso, cada punto en el plano puede ser representado como una tupla de dos valores: la coordenada x y la coordenada y.\n",
    "\n",
    "Por ejemplo, supongamos que tenemos una lista de puntos en el plano cartesiano, donde cada punto se representa como una tupla de dos valores:"
   ]
  },
  {
   "cell_type": "code",
   "execution_count": null,
   "metadata": {},
   "outputs": [],
   "source": [
    "puntos = [(0, 0), (1, 2), (3, 5), (-1, 4)]"
   ]
  },
  {
   "cell_type": "code",
   "execution_count": null,
   "metadata": {},
   "outputs": [],
   "source": [
    "type(puntos)"
   ]
  },
  {
   "cell_type": "code",
   "execution_count": null,
   "metadata": {},
   "outputs": [],
   "source": [
    "type(puntos[3])"
   ]
  },
  {
   "cell_type": "markdown",
   "metadata": {},
   "source": [
    "Podemos acceder a los valores de cada coordenada de un punto usando la notación de índice. Por ejemplo, para obtener la coordenada x del segundo punto, podemos hacer lo siguiente:"
   ]
  },
  {
   "cell_type": "code",
   "execution_count": null,
   "metadata": {},
   "outputs": [],
   "source": [
    "puntos[1]"
   ]
  },
  {
   "cell_type": "code",
   "execution_count": null,
   "metadata": {},
   "outputs": [],
   "source": [
    "x = puntos[1][0]\n",
    "x"
   ]
  },
  {
   "cell_type": "code",
   "execution_count": null,
   "metadata": {},
   "outputs": [],
   "source": [
    "y = puntos[1][1]\n",
    "y"
   ]
  },
  {
   "cell_type": "code",
   "execution_count": null,
   "metadata": {},
   "outputs": [],
   "source": [
    "x,y = puntos[1]"
   ]
  },
  {
   "cell_type": "code",
   "execution_count": null,
   "metadata": {},
   "outputs": [],
   "source": [
    "x"
   ]
  },
  {
   "cell_type": "code",
   "execution_count": null,
   "metadata": {},
   "outputs": [],
   "source": [
    "y"
   ]
  },
  {
   "cell_type": "markdown",
   "metadata": {},
   "source": [
    "## Diccionarios\n",
    "En Python, un diccionario es una estructura de datos que permite almacenar una colección de elementos, donde cada elemento está asociado a una clave única. En lugar de utilizar un índice numérico como en el caso de las listas y tuplas, se utiliza una clave para acceder a los elementos del diccionario.\n",
    "\n",
    "Los diccionarios se definen utilizando llaves `{}` y separando cada clave y su correspondiente valor por dos puntos `:`. Por ejemplo, un diccionario que representa la información de un estudiante podría tener las siguientes claves y valores:"
   ]
  },
  {
   "cell_type": "code",
   "execution_count": null,
   "metadata": {},
   "outputs": [],
   "source": [
    "diccionario = {\"llave1\":\"elemento\", \n",
    "               \"llave2\":\"elemento2\",\n",
    "              \"llave3\":\"elemento3\",\n",
    "              123: \"nombre\",\n",
    "              \"llave5\":45}"
   ]
  },
  {
   "cell_type": "code",
   "execution_count": null,
   "metadata": {},
   "outputs": [],
   "source": [
    "estudiante = {\"nombre\": \"Juan\",\n",
    "              \"apellido\": \"Pérez\",\n",
    "              \"edad\": 20,\n",
    "              \"profesión\": \"Ingeniero\"}"
   ]
  },
  {
   "cell_type": "code",
   "execution_count": null,
   "metadata": {},
   "outputs": [],
   "source": [
    "diccionario = {\"agua\": \"water\", \"mesa\":\"table\"}"
   ]
  },
  {
   "cell_type": "markdown",
   "metadata": {},
   "source": [
    "En este ejemplo, cada clave (nombre, apellido, edad, carrera) está asociada a un valor (Juan, Pérez, 20, Ingeniería), y se puede acceder a cada valor utilizando su clave. Por ejemplo, para obtener el nombre del estudiante, se puede hacer lo siguiente:"
   ]
  },
  {
   "cell_type": "code",
   "execution_count": null,
   "metadata": {},
   "outputs": [],
   "source": [
    "nombre = estudiante[\"nombre\"]\n",
    "nombre"
   ]
  },
  {
   "cell_type": "markdown",
   "metadata": {},
   "source": [
    "También es posible agregar o modificar elementos en un diccionario utilizando una clave. Por ejemplo, para agregar el teléfono del estudiante al diccionario, se puede hacer lo siguiente:"
   ]
  },
  {
   "cell_type": "code",
   "execution_count": null,
   "metadata": {},
   "outputs": [],
   "source": [
    "estudiante[\"telefono\"] = \"555-1234\"\n",
    "estudiante"
   ]
  },
  {
   "cell_type": "markdown",
   "metadata": {},
   "source": [
    "Los diccionarios son útiles cuando se necesita almacenar datos que se pueden asociar con una clave, como información de usuarios, registros de base de datos o configuraciones de un programa. Además, los diccionarios permiten un acceso más rápido y eficiente a los datos que las listas o tuplas."
   ]
  },
  {
   "cell_type": "code",
   "execution_count": null,
   "metadata": {},
   "outputs": [],
   "source": [
    "estudiante.keys()"
   ]
  },
  {
   "cell_type": "code",
   "execution_count": null,
   "metadata": {},
   "outputs": [],
   "source": [
    "estudiante.values()"
   ]
  },
  {
   "cell_type": "markdown",
   "metadata": {},
   "source": [
    "**zip()** es una función asocia los elementos de dos listas entre sí, en el orden en el que vengan.\n",
    "\n",
    "Para construir un diccionario, utilizamos\n",
    "\n",
    "`dict(zip(lista_llaves,lista_valores))`"
   ]
  },
  {
   "cell_type": "code",
   "execution_count": null,
   "metadata": {},
   "outputs": [],
   "source": [
    "lista_llaves = [\"A\",\"B\",\"C\"]\n",
    "valores_llaves = [1,2,3,4,5,6,7]\n",
    "\n",
    "dict(zip(lista_llaves,valores_llaves))"
   ]
  },
  {
   "cell_type": "markdown",
   "metadata": {},
   "source": [
    "Construcción de ejemplo"
   ]
  },
  {
   "cell_type": "code",
   "execution_count": null,
   "metadata": {},
   "outputs": [],
   "source": [
    "estudiante"
   ]
  },
  {
   "cell_type": "code",
   "execution_count": null,
   "metadata": {},
   "outputs": [],
   "source": [
    "dict(zip(['nombre','apellido','edad','carrera','telefono'],['Juan','Perez',20,'Ingenieria','555-1234']))"
   ]
  },
  {
   "cell_type": "markdown",
   "metadata": {},
   "source": [
    "## NumPy"
   ]
  },
  {
   "cell_type": "markdown",
   "metadata": {},
   "source": [
    "### Paquetes\n",
    "Los paquetes o librerías son una forma de organizar códigos. En general, importamos librerías desarrollados por terceros para facilitar nuestro trabajo y ahorrarnos millones de horas programando. \n",
    "\n",
    "Para ser utilizados, es necesario que instale los paquetes en su ordenador, para hacer eso, en la mayoría de casos utilizamos el comando `pip` desde la terminal, el cual es un repositorio de paquetes."
   ]
  },
  {
   "cell_type": "markdown",
   "metadata": {},
   "source": [
    "En esta sección utilizaremos uno de los paquetes más famosos de Python que se llama `NumPy`  (Numerical Python) el cual se utiliza para realizar cálculos numéricos. Proporciona un conjunto de funciones y herramientas para trabajar con matrices y arreglos de datos multidimensionales de manera eficiente y rápida.\n",
    "\n",
    "Para instalarlo debe correr en la terminal el siguiente comando:\n",
    "```\n",
    "pip install numpy\n",
    "```\n",
    "\n",
    "Afortunadamente no hace falta que se dirija a su terminal sino que puede ejecutarlo desde su jupyter notebook utilizando el comando `!`"
   ]
  },
  {
   "cell_type": "code",
   "execution_count": null,
   "metadata": {},
   "outputs": [],
   "source": [
    "%pip install numpy"
   ]
  },
  {
   "cell_type": "markdown",
   "metadata": {},
   "source": [
    "Una vez instalado el paquete, este no se carga automaticamente a Python. Cada vez que vaya a hacer uso de esta librería debe importarlo de la siguiente manera:"
   ]
  },
  {
   "cell_type": "code",
   "execution_count": null,
   "metadata": {},
   "outputs": [],
   "source": [
    "import numpy"
   ]
  },
  {
   "cell_type": "code",
   "execution_count": null,
   "metadata": {},
   "outputs": [],
   "source": [
    "import numpy as np"
   ]
  },
  {
   "cell_type": "code",
   "execution_count": null,
   "metadata": {},
   "outputs": [],
   "source": [
    "# ¿Cuál version de NumPy estoy utilizando?\n",
    "print(np.__version__)"
   ]
  },
  {
   "cell_type": "code",
   "execution_count": null,
   "metadata": {},
   "outputs": [],
   "source": [
    "arreglo = np.array([3,4,5,6,7])\n",
    "arreglo.size"
   ]
  },
  {
   "cell_type": "code",
   "execution_count": null,
   "metadata": {},
   "outputs": [],
   "source": [
    "np.arange(6,10)"
   ]
  },
  {
   "cell_type": "code",
   "execution_count": null,
   "metadata": {},
   "outputs": [],
   "source": [
    "# Arreglo linealmente espaciado\n",
    "np.linspace(1,50)"
   ]
  },
  {
   "cell_type": "code",
   "execution_count": null,
   "metadata": {},
   "outputs": [],
   "source": [
    "np.linspace(0,2)"
   ]
  },
  {
   "cell_type": "markdown",
   "metadata": {},
   "source": [
    "### Operaciones básicas con NumPy"
   ]
  },
  {
   "cell_type": "code",
   "execution_count": null,
   "metadata": {},
   "outputs": [],
   "source": [
    "tasas_de_inflacion = np.array([0.3, 0.1, 0.2, 0.4, 0.5, 0.2, 0.1, 0.0, -0.1, 0.2, 0.3, 0.4])"
   ]
  },
  {
   "cell_type": "code",
   "execution_count": null,
   "metadata": {},
   "outputs": [],
   "source": [
    "prom_inflacion = np.mean(tasas_de_inflacion)\n",
    "print(f'La inflación promedio es {prom_inflacion: .2f}')"
   ]
  },
  {
   "cell_type": "code",
   "execution_count": null,
   "metadata": {},
   "outputs": [],
   "source": [
    "vol_inflacion = np.std(tasas_de_inflacion)\n",
    "print(f'La desviación estandar de la inflación es {vol_inflacion: .3f}')"
   ]
  },
  {
   "cell_type": "code",
   "execution_count": null,
   "metadata": {},
   "outputs": [],
   "source": [
    "max_inflacion = np.max(tasas_de_inflacion)\n",
    "print(f'La inflación máxima {max_inflacion: .2f}')"
   ]
  },
  {
   "cell_type": "code",
   "execution_count": null,
   "metadata": {},
   "outputs": [],
   "source": [
    "med_inflacion = np.median(tasas_de_inflacion)\n",
    "print(f'La inflación media {med_inflacion: .2f}')"
   ]
  },
  {
   "cell_type": "markdown",
   "metadata": {},
   "source": [
    "## Ejercicio A\n",
    "\n",
    "Los cinco textos a continuación son testimonios de estudiantes en el contexto de acoso escolar. Para generar datos para entrenar un modelo de clasificación, puede ser útil conocer la cantidad de ocurrencias de algunas palabras recurrentes en este tipo de discursos.\n",
    "\n",
    "1. Escriba un código que cuente las ocurrencias de la palabra *'odio'* en el `texto1`. (**Preguntas guía** ¿Cómo puede extraer sólo las palabras del texto? ¿Qué hacer con los signos de puntuación? ¿Cómo filtrar esas palabras por una específica?)\n",
    "2. Para el `texto1`, construya un diccionario cuyas llaves son las cuatro palabras_recurrentes dadas en la lista a continuación y sus valores correspondientes son las veces que se repite esta palabra.\n",
    "3. Repita el punto anterior para los cinco textos.\n",
    "\n",
    "**Pista**\n",
    "El diccionario del punto 2 debe ser algo así\n",
    "\n",
    "`\n",
    "{\n",
    "    'odio': 5,\n",
    "    'insultos': 3,\n",
    "    'discriminación: 4,\n",
    "    'acoso': 2\n",
    "}\n",
    "`"
   ]
  },
  {
   "cell_type": "code",
   "execution_count": null,
   "metadata": {},
   "outputs": [],
   "source": [
    "texto1 = \"Hoy en el patio, vi cómo un grupo rodeaba a Juan. Le gritaban cosas horribles, insultos sobre su apariencia y su forma de hablar. Sentí mucho odio al ver esa escena. La discriminación es algo que no puedo soportar. Nadie merece ser tratado con tanto odio. El acoso constante puede destruir a una persona. La exclusión de Juan del grupo me pareció cruel. La violencia verbal es tan dañina como la física. La amenaza de que si se quejaba, sería peor, me heló la sangre. El prejuicio contra él era evidente, solo por ser diferente. La intolerancia de esos chicos es alarmante. Juan era la víctima perfecta para ellos. No sé qué hacer para que esto pare. El odio parece estar ganando terreno. Los insultos son su arma preferida. La discriminación debe detenerse. El acoso no es un juego. La exclusión duele. La violencia no es la solución. La amenaza es un delito. El prejuicio es ignorancia. La intolerancia es un veneno. La víctima necesita ayuda. Siento mucho odio por esta situación. Los insultos resuenan en mi cabeza. La discriminación me indigna. El odio me preocupa. La discriminación me entristece. La violencia me asusta. La amenaza me enfurece. El prejuicio me decepciona. La intolerancia me repugna. La víctima merece justicia.\"\n",
    "texto2 = \"No entiendo por qué algunos compañeros sienten tanto odio. Ayer, escuché cómo se burlaban de María por su origen étnico. Los insultos eran constantes, y la discriminación era evidente. El acoso que sufre es inaceptable. La exclusión de los grupos de trabajo la hace sentir sola. La violencia verbal es su pan de cada día. La amenaza de que si habla, nadie le creerá, la tiene paralizada. El prejuicio que tienen contra ella es injusto. La intolerancia de algunos es increíble. María es una víctima más de esta situación. El odio que veo en sus ojos me duele. Los insultos que recibe son crueles. La discriminación la está destruyendo. El acoso la está consumiendo. La exclusión la está aislando. La violencia la está marcando. La amenaza la está silenciando. El prejuicio la está juzgando. La intolerancia la está rechazando. La víctima necesita apoyo. Siento odio por los agresores. Los insultos me dan náuseas. La discriminación me hace sentir impotente. El odio me preocupa profundamente. La discriminación me parece inhumana. La violencia me aterra. La amenaza me indigna. El prejuicio me enfurece. La intolerancia me asquea. La víctima merece respeto.\"\n",
    "texto3 = \"No puedo creer lo que pasó en la clase de historia. Un chico hizo un comentario sobre la religión de Sara, lleno de prejuicio. El odio en su voz era palpable. Los insultos no tardaron en llegar, y la discriminación se hizo evidente. El acoso que sufre Sara es constante. La exclusión de los grupos de trabajo es solo una muestra. La violencia verbal es su día a día. La amenaza de que si se defiende, será peor, la paraliza. La intolerancia es algo que no puedo entender. Sara es una víctima de esta situación. Siento odio por la injusticia. Los insultos me hacen sentir impotente. La discriminación me indigna. El acoso me preocupa. La exclusión me entristece. La violencia me asusta. La amenaza me enfurece. El prejuicio me decepciona. La intolerancia me repugna. La víctima merece justicia. El odio es un veneno. Los insultos son armas. La discriminación es una herida. El acoso es una tortura. La exclusión es un aislamiento. La violencia es un crimen. La amenaza es un chantaje. El prejuicio es una ceguera. La intolerancia es un muro. La víctima necesita un refugio.\"\n",
    "texto4 = \"En el grupo de WhatsApp de la clase, vi cómo se burlaban de Luis por su forma de vestir. Los insultos eran constantes, y la discriminación era evidente. El acoso cibernético es tan dañino como el presencial. La exclusión del grupo de estudio lo dejó solo. La violencia verbal en las redes sociales es alarmante. La amenaza de publicar fotos suyas para humillarlo lo tiene aterrorizado. El prejuicio contra él es injusto. La intolerancia de algunos es increíble. Luis es una víctima más de esta situación. Siento odio por los agresores. Los insultos me dan náuseas. La discriminación me hace sentir impotente. El acoso me preocupa profundamente. La exclusión me parece inhumana. La violencia me aterra. La amenaza me indigna. El prejuicio me enfurece. La intolerancia me asquea. La víctima merece respeto. El odio se propaga rápido. Los insultos hieren profundo. La discriminación divide. El acoso destruye. La exclusión aísla. La violencia marca. La amenaza intimida. El prejuicio ciega. La intolerancia envenena. La víctima necesita ayuda.\"\n",
    "texto5 = \"Ayer, en el pasillo, vi cómo empujaban a Ana y le gritaban cosas sobre su peso. El odio en sus ojos me asustó. Los insultos eran horribles, y la discriminación era evidente. El acoso físico y verbal es inaceptable. La exclusión de los juegos en el recreo la hace sentir sola. La violencia física y verbal es su realidad. La amenaza de que si se queja, será peor, la tiene paralizada. El odio que tienen contra ella es injusto. La discriminación de algunos es increíble. Ana es una víctima más de esta situación. El odio que veo me duele. Los insultos son crueles. La discriminación la está destruyendo. El acoso la está consumiendo. La exclusión la está aislando. La violencia la está marcando. La amenaza la está silenciando. El prejuicio la está juzgando. La intolerancia la está rechazando. La víctima necesita apoyo. El odio es una plaga. Los insultos son dagas. La discriminación es una sombra. El acoso es una prisión. La exclusión es un vacío. La violencia es una cicatriz. La amenaza es un nudo. El prejuicio es un error. La intolerancia es un abismo. La víctima necesita un abrazo.\"\n",
    "palabras_recurrentes = [\"odio\",\"insultos\",\"discriminación\",\"acoso\"]"
   ]
  },
  {
   "cell_type": "code",
   "execution_count": null,
   "metadata": {},
   "outputs": [],
   "source": [
    "len(texto1.split(\"odio\"))"
   ]
  },
  {
   "cell_type": "code",
   "execution_count": null,
   "metadata": {},
   "outputs": [],
   "source": [
    "texto1.lower().split().count('odio')"
   ]
  },
  {
   "cell_type": "code",
   "execution_count": null,
   "metadata": {},
   "outputs": [],
   "source": [
    "palabras = texto1.replace('.','').replace(',','').split(' ')\n",
    "palabras_filtradas = [p for p in palabras if p=='odio']"
   ]
  },
  {
   "cell_type": "markdown",
   "metadata": {},
   "source": [
    "## Condicionales\n",
    "Los condicionales en Python son estructuras de control de flujo que permiten al programa tomar decisiones basadas en ciertas condiciones.\n",
    "\n",
    "La estructura de un condicional en Python se basa en la palabra clave \"if\" seguida de una expresión booleana que evalúa si una determinada condición es verdadera o falsa. Si la condición es verdadera, el bloque de código indentado después del \"if\" se ejecuta. Si la condición es falsa, el bloque de código no se ejecuta y se continúa con el siguiente bloque de código.\n",
    "\n",
    "Además del \"if\", también se pueden utilizar otras palabras clave como \"else\" y \"elif\" para especificar diferentes bloques de código que se ejecutarán en diferentes casos.\n",
    "\n",
    "La sintaxis básica de un condicional en Python es la siguiente:"
   ]
  },
  {
   "cell_type": "markdown",
   "metadata": {},
   "source": [
    "```python\n",
    "if condición:\n",
    "    # bloque de código que se ejecuta si la condición es verdadera\n",
    "else:\n",
    "    # bloque de código que se ejecuta si la condición es falsa\n",
    "```"
   ]
  },
  {
   "cell_type": "markdown",
   "metadata": {},
   "source": [
    "En este caso, si la condición es verdadera, se ejecuta el primer bloque de código indentado después del \"if\". De lo contrario, se ejecuta el bloque de código indentado después del \"else\".\n",
    "\n",
    "También se pueden utilizar múltiples \"elif\" para especificar múltiples condiciones y bloques de código a ejecutar en cada caso:"
   ]
  },
  {
   "cell_type": "markdown",
   "metadata": {},
   "source": [
    "```python\n",
    "if condición:\n",
    "    # bloque de código que se ejecuta si la condición1 es verdadera\n",
    "elif condicion2:\n",
    "    # bloque de código que se ejecuta si la condición1 es falsa y la condición2 es verdadera\n",
    "else:\n",
    "    # bloque de código que se ejecuta si todas las condiciones anteriores son falsas\n",
    "```"
   ]
  },
  {
   "cell_type": "markdown",
   "metadata": {},
   "source": [
    "En este caso, si la condición1 es verdadera, se ejecuta el primer bloque de código indentado después del \"if\". De lo contrario, si la condición2 es verdadera, se ejecuta el bloque de código indentado después del \"elif\". Si ninguna de las condiciones anteriores es verdadera, se ejecuta el bloque de código indentado después del \"else\"."
   ]
  },
  {
   "cell_type": "code",
   "execution_count": null,
   "metadata": {},
   "outputs": [],
   "source": [
    "lado_oscuro = \"Anakin Skywalker\"\n",
    "hijo = \"Luke Skywalker\"\n",
    "\n",
    "if lado_oscuro == \"Anakin Skywalker\": \n",
    "    print(\"Darth Vader\")"
   ]
  },
  {
   "cell_type": "code",
   "execution_count": null,
   "metadata": {},
   "outputs": [],
   "source": [
    "# Note que no se ejecuto la línea\n",
    "if lado_oscuro == hijo:\n",
    "    print(\"Luke, al odio rendirte no debes. Al lado oscuro eso conlleva\")"
   ]
  },
  {
   "cell_type": "code",
   "execution_count": null,
   "metadata": {},
   "outputs": [],
   "source": [
    "lado_oscuro == hijo"
   ]
  },
  {
   "cell_type": "code",
   "execution_count": null,
   "metadata": {},
   "outputs": [],
   "source": [
    "if lado_oscuro == hijo:\n",
    "    print(\"Luke, al odio rendirte no debes. Al lado oscuro eso conlleva\")\n",
    "else: \n",
    "    print(lado_oscuro + \" es el padre de \" + hijo)"
   ]
  },
  {
   "cell_type": "code",
   "execution_count": null,
   "metadata": {},
   "outputs": [],
   "source": [
    "lado_oscuro"
   ]
  },
  {
   "cell_type": "code",
   "execution_count": null,
   "metadata": {},
   "outputs": [],
   "source": [
    "hijo"
   ]
  },
  {
   "cell_type": "code",
   "execution_count": null,
   "metadata": {},
   "outputs": [],
   "source": [
    "padre = lado_oscuro\n",
    "\n",
    "if lado_oscuro == hijo:\n",
    "    print(\"Luke, al odio rendirte no debes. Al lado oscuro eso conlleva\")\n",
    "elif padre == \"Anakin Skywalker\":\n",
    "    print(\"Yo soy tu padre!\")\n",
    "else: \n",
    "    print(lado_oscuro + \" es el padre de \" + hijo)"
   ]
  },
  {
   "cell_type": "code",
   "execution_count": null,
   "metadata": {},
   "outputs": [],
   "source": [
    "padre == \"Anakin Skywalker\""
   ]
  },
  {
   "cell_type": "code",
   "execution_count": null,
   "metadata": {},
   "outputs": [],
   "source": [
    "if (lado_oscuro == hijo) or (padre == \"Anakin Skywalker\"):\n",
    "    print(\"Luke, al odio rendirte no debes. Al lado oscuro eso conlleva\")\n",
    "else: \n",
    "    print(lado_oscuro + \" es el padre de \" + hijo)"
   ]
  },
  {
   "cell_type": "markdown",
   "metadata": {},
   "source": [
    "## Ciclos"
   ]
  },
  {
   "cell_type": "markdown",
   "metadata": {},
   "source": [
    "### While loop\n",
    "Un \"while loop\" en Python es una estructura de control de flujo que permite repetir un bloque de código mientras se cumple una determinada condición.\n",
    "\n",
    "La sintaxis básica de un \"while loop\" en Python es la siguiente:\n",
    "```python\n",
    "while condición:\n",
    "    # bloque de código a repetir mientras la condición sea verdadera\n",
    "```\n",
    "\n",
    "En este caso, mientras la condición sea verdadera, el bloque de código indentado después del \"while\" se ejecutará repetidamente. Una vez que la condición se vuelva falsa, el programa saldrá del \"while loop\" y continuará ejecutando el resto del código después del \"while loop\".\n",
    "\n",
    "Es importante tener en cuenta que si la condición nunca se vuelve falsa, el \"while loop\" seguirá ejecutándose en un bucle infinito, lo que podría causar problemas en el programa.\n",
    "\n",
    "Por lo tanto, es importante diseñar la condición adecuada para evitar que el \"while loop\" se ejecute infinitamente. Por ejemplo, la condición podría ser una comparación de una variable con un valor específico, o una función que devuelve un valor booleano verdadero o falso en función de alguna lógica.\n",
    "\n",
    "Un ejemplo común de uso de un \"while loop\" es leer un archivo línea por línea hasta que se llegue al final del archivo. En este caso, la condición sería una función que comprueba si se ha alcanzado el final del archivo, y el bloque de código dentro del \"while loop\" procesaría cada línea del archivo una por una."
   ]
  },
  {
   "cell_type": "code",
   "execution_count": null,
   "metadata": {},
   "outputs": [],
   "source": [
    "x = 1\n",
    "while x < 5: \n",
    "    print(x)\n",
    "    x +=1"
   ]
  },
  {
   "cell_type": "markdown",
   "metadata": {},
   "source": [
    "Construya un loop que genere e imprima en cada ciclo un entero aleatorio entre 0 y 100, cuando el número sea superior a 75 se debe detener el loop. "
   ]
  },
  {
   "cell_type": "code",
   "execution_count": null,
   "metadata": {},
   "outputs": [],
   "source": [
    "num = 0 # Creo un número arbitrario llamado num\n",
    "while num <= 75:\n",
    "    num = np.random.randint(0,100) # Reemplazo el valor de num por un entero aleatorio\n",
    "    print(num) # Imprimo num"
   ]
  },
  {
   "cell_type": "markdown",
   "metadata": {},
   "source": [
    "### For loop\n",
    "Un \"for loop\" en Python es una estructura de control de flujo que permite iterar sobre una secuencia de elementos, como una lista, una tupla,   un diccionario o una cadena de caracteres. A diferencia del \"while loop\", que se repite mientras se cumple una condición, el \"for loop\" se repite una vez por cada elemento en la secuencia.\n",
    "\n",
    "La sintaxis básica de un \"while loop\" en Python es la siguiente:\n",
    "```python\n",
    "for elemento in secuencia:\n",
    "    # bloque de código a ejecutar para cada elemento\n",
    "```\n",
    "\n",
    "En este caso, la variable elemento toma el valor de cada elemento en la secuencia en cada iteración del bucle. El bloque de código indentado después del \"for\" se ejecuta una vez para cada elemento en la secuencia.\n",
    "\n",
    "El \"for loop\" es útil cuando se necesita realizar la misma operación en cada elemento de una secuencia. Por ejemplo, se puede usar un \"for loop\" para imprimir cada elemento de una lista, para sumar todos los números en una tupla o para buscar una palabra específica en una cadena de caracteres.\n",
    "\n",
    "Es importante tener en cuenta que la variable elemento puede tener cualquier nombre válido en Python. El nombre de la variable no afecta el funcionamiento del \"for loop\".\n",
    "\n",
    "Un ejemplo común de uso de un \"for loop\" es iterar sobre una lista de números y calcular su suma. En este caso, la secuencia sería la lista de números, y el bloque de código dentro del \"for loop\" sumaría cada número a una variable acumuladora."
   ]
  },
  {
   "cell_type": "code",
   "execution_count": null,
   "metadata": {},
   "outputs": [],
   "source": [
    "# Lista de números\n",
    "numeros = [1, 2, 3, 4, 5]\n",
    "\n",
    "# Variable para almacenar la suma\n",
    "suma = 0\n",
    "\n",
    "# Iterar sobre la lista de números\n",
    "for numero in numeros:\n",
    "    # Sumar el número actual a la variable suma\n",
    "    suma += numero\n",
    "\n",
    "# Imprimir la suma total\n",
    "print(\"La suma de los números es:\", suma)"
   ]
  },
  {
   "cell_type": "markdown",
   "metadata": {},
   "source": [
    "## Funciones en Python\n",
    "Ya tuvimos una introducción a los principales tipos de objetos de Python. Ahora el objetivo es profundizar en el entendimiento del control flow y las funciones. La idea será crear algoritmos para usarse cada vez que se necesite sin necesidad de re escribir todo un código, permitiendo alguna flexibilidad a partir de parámetros pre establecidos"
   ]
  },
  {
   "cell_type": "markdown",
   "metadata": {},
   "source": [
    "## ¿Qué es una función?\n",
    "En Python, una función es un bloque de código reutilizable que realiza una tarea específica. Una función toma uno o más argumentos como entrada, realiza ciertas operaciones y devuelve un resultado. Las funciones se utilizan para modularizar el código, lo que facilita la legibilidad, la reutilización y el mantenimiento del código.\n",
    "\n",
    "Para definir una función en Python, se utiliza la palabra clave \"def\", seguida del nombre de la función y los parámetros entre paréntesis. A continuación, se incluye el código de la función, seguido de la palabra clave \"return\" para devolver el resultado. La sintaxis para definir una función sería entonces:\n",
    "\n",
    "```python\n",
    "def nombre_funcion(parametro1, parametro2, ...):\n",
    "    \"\"\"(Esta parte es opcional)\n",
    "    Descripción de lo que hace la función\n",
    "\n",
    "    Parameters:\n",
    "        parametro1 (clase_parametro1): Descripción de qué es el input y qué valores puede tomar. \n",
    "        parametro2 (clase_parametro2): Descripción de qué es el input y qué valores puede tomar. \n",
    "\n",
    "    Returns:\n",
    "        output1 (clase_output): Descripción de lo que es el output y qué valores puede tomar.\n",
    "    \"\"\"\n",
    "\n",
    "    # Bloque de código\n",
    "    \n",
    "    return(resultado)\n",
    "```"
   ]
  },
  {
   "cell_type": "code",
   "execution_count": 1,
   "metadata": {},
   "outputs": [],
   "source": [
    "def suma_dos_numeros(a, b): \n",
    "    \"\"\"\n",
    "    Esta función toma dos números y entrega la suma de estos.\n",
    "\n",
    "    Parameters:\n",
    "        a (float): número a sumar.\n",
    "        b (float): número a sumar.\n",
    "\n",
    "    Returns:\n",
    "        x (float): suma de a + b\n",
    "    \"\"\"\n",
    "    \n",
    "    x = a+b\n",
    "\n",
    "    return(x)"
   ]
  },
  {
   "cell_type": "markdown",
   "metadata": {},
   "source": [
    "Ahora, creemos una función que calcule el área de un circulo. Recuerde que la formula del área de un circulo es:\n",
    "$$\\text{Area}_{\\text{circulo}}= \\pi\\cdot r^2$$\n",
    "\n",
    "En donde $r$ es el radio del circulo."
   ]
  },
  {
   "cell_type": "code",
   "execution_count": 2,
   "metadata": {},
   "outputs": [],
   "source": [
    "from math import pi"
   ]
  },
  {
   "cell_type": "code",
   "execution_count": 3,
   "metadata": {},
   "outputs": [
    {
     "data": {
      "text/plain": [
       "3.141592653589793"
      ]
     },
     "execution_count": 3,
     "metadata": {},
     "output_type": "execute_result"
    }
   ],
   "source": [
    "pi"
   ]
  },
  {
   "cell_type": "code",
   "execution_count": 4,
   "metadata": {},
   "outputs": [],
   "source": [
    "def calcular_area_circulo(radio):\n",
    "\n",
    "    resultado = pi*(radio**2)\n",
    "\n",
    "    return (resultado)"
   ]
  },
  {
   "cell_type": "code",
   "execution_count": 5,
   "metadata": {},
   "outputs": [
    {
     "data": {
      "text/plain": [
       "78.53981633974483"
      ]
     },
     "execution_count": 5,
     "metadata": {},
     "output_type": "execute_result"
    }
   ],
   "source": [
    "# Calcule el area de un circulo que tiene 5 cms de radio\n",
    "calcular_area_circulo(radio = 5)"
   ]
  },
  {
   "cell_type": "code",
   "execution_count": 6,
   "metadata": {},
   "outputs": [
    {
     "data": {
      "text/plain": [
       "78.53981633974483"
      ]
     },
     "execution_count": 6,
     "metadata": {},
     "output_type": "execute_result"
    }
   ],
   "source": [
    "calcular_area_circulo(5)"
   ]
  },
  {
   "cell_type": "markdown",
   "metadata": {},
   "source": [
    "Si quisieramos generalizar la función anterior ¿Cómo lo haría?\n",
    "\n",
    "Cree una función que se llame `suma` que reciba como input un iterable y devuelva la suma de todos los elementos del iterable. Esta no debe utilizar ningún paquete o alguna función pre diseñada por un tercero."
   ]
  },
  {
   "cell_type": "code",
   "execution_count": 18,
   "metadata": {},
   "outputs": [],
   "source": [
    "def suma(iterable):\n",
    "    \"\"\"\n",
    "    Función que suma los números en un iterable\n",
    "\n",
    "    Args:\n",
    "        iterable (iter): Es un iterable con números\n",
    "    \"\"\"\n",
    "\n",
    "    suma_numeros = 0\n",
    "    \n",
    "    for elemento in iterable:\n",
    "        suma_numeros += elemento\n",
    "\n",
    "    return(suma_numeros)"
   ]
  },
  {
   "cell_type": "code",
   "execution_count": 19,
   "metadata": {},
   "outputs": [],
   "source": [
    "valor = suma([1, 2, 3, 4, 5, 6])"
   ]
  },
  {
   "cell_type": "code",
   "execution_count": 20,
   "metadata": {},
   "outputs": [
    {
     "data": {
      "text/plain": [
       "21"
      ]
     },
     "execution_count": 20,
     "metadata": {},
     "output_type": "execute_result"
    }
   ],
   "source": [
    "valor"
   ]
  },
  {
   "cell_type": "code",
   "execution_count": 21,
   "metadata": {},
   "outputs": [
    {
     "data": {
      "text/plain": [
       "21"
      ]
     },
     "execution_count": 21,
     "metadata": {},
     "output_type": "execute_result"
    }
   ],
   "source": [
    "iterable = [1, 2, 3, 4, 5, 6]\n",
    "suma_numeros = 0\n",
    "for elemento in iterable:\n",
    "    suma_numeros += elemento\n",
    "suma_numeros"
   ]
  },
  {
   "cell_type": "markdown",
   "metadata": {},
   "source": [
    "### Magic Functions\n",
    "Estas funciones solo funcionan dentro de jupyter, no son de python, son de la interfaz\n",
    "\n",
    "- %whos: Permite ver que hay en el ambiente de trabajo\n",
    "- %time: Permite cuantificar el tiempo que dura en correr el código de una celda\n",
    "- %cd: Cambia el directorio\n",
    "- %dirs: Retorna el directorio actual\n",
    "- %lsmagic: Ver la lista de funciones mágicas\n",
    "- %timeit: Corre varias veces la celda para determinar un tiempo promedio e intervalo de confianza"
   ]
  },
  {
   "cell_type": "markdown",
   "metadata": {},
   "source": [
    "## Ejemplos\n"
   ]
  },
  {
   "cell_type": "markdown",
   "metadata": {},
   "source": [
    "Construya una función que reciba un número y retorne la palabra \"par\" o \"impar\" dependiendo del insumo. Llame a la función _parImpar_. Pruébela sobre los números 2,3,7,12."
   ]
  },
  {
   "cell_type": "code",
   "execution_count": 22,
   "metadata": {},
   "outputs": [],
   "source": [
    "def parImpar(numero):\n",
    "    # Si el residuo de un número dividido 2 es cero, significa ue es múltiplo de 2\n",
    "    \n",
    "    if numero % 2 == 0:\n",
    "        return 'Par'\n",
    "    else:\n",
    "        return 'Impar'"
   ]
  },
  {
   "cell_type": "markdown",
   "metadata": {},
   "source": [
    "Convirtamos uno de los ejercicios anteriores en una función."
   ]
  },
  {
   "cell_type": "code",
   "execution_count": null,
   "metadata": {},
   "outputs": [],
   "source": [
    "def almacenamiento_huevos(n_huevos, n_huevos_caja):\n",
    "    \"\"\"\n",
    "    A partir de un número total de huevos y una cantidad de huevos por caja, retorna cuántos huevos se guardarán en la última caja y cuántos haría falta para llenar esta. \n",
    "\n",
    "    Args:\n",
    "        n_huevos(int): El número total de huevos\n",
    "        n_huevos_caja (int): La cantidad de huevos que caben en una caja\n",
    "    \"\"\"\n",
    "    huevos_ultima_caja = n_huevos % n_huevos_caja\n",
    "    huevos_faltantes_llenar = n_huevos_caja - huevos_ultima_caja\n",
    "    respuesta = f'En la última caja se guardarán {huevos_ultima_caja} y hará falta {huevos_faltantes_llenar} para llenarla'\n",
    "    return respuesta"
   ]
  },
  {
   "cell_type": "markdown",
   "metadata": {},
   "source": [
    "Construya una función que reciba un número y retorne la cantidad de divisores del mismo. En caso de ser un número primo, también debe retornar una cadena de caracteres que diga que es un número primo. Llame a la función `divisores`"
   ]
  },
  {
   "cell_type": "code",
   "execution_count": null,
   "metadata": {},
   "outputs": [],
   "source": [
    "def divisores(numero):\n",
    "    n_divisores = 0 #numero de divisores\n",
    "    \n",
    "    for divisor_prueba in range(1,numero+1):\n",
    "        if numero % divisor_prueba == 0:\n",
    "            #divisor_prueba divide al numero\n",
    "            n_divisores += 1\n",
    "    \n",
    "    if n_divisores==2:\n",
    "        print(f'El número {numero} es primo.')\n",
    "\n",
    "    return n_divisores"
   ]
  },
  {
   "cell_type": "markdown",
   "metadata": {},
   "source": [
    "Construya una función que reciba un número y retorne la **lista** de divisores del mismo. Llame a la función ListDivisores"
   ]
  },
  {
   "cell_type": "code",
   "execution_count": 23,
   "metadata": {},
   "outputs": [],
   "source": [
    "def ListDivisores(numero):\n",
    "    \n",
    "    # Lista vacía\n",
    "    lista_divisores = []\n",
    "    \n",
    "    for i in range(1,numero+1):\n",
    "        if numero % i == 0: #Reviso si i divide al numero\n",
    "            lista_divisores.append(i)\n",
    "            \n",
    "\n",
    "    return lista_divisores"
   ]
  },
  {
   "cell_type": "code",
   "execution_count": 24,
   "metadata": {},
   "outputs": [
    {
     "data": {
      "text/plain": [
       "[1, 2, 3, 6, 11, 22, 33, 66]"
      ]
     },
     "execution_count": 24,
     "metadata": {},
     "output_type": "execute_result"
    }
   ],
   "source": [
    "numero_entrada = int(input(\"Digite el número del que quiere conocer sus divisores.\"))\n",
    "ListDivisores(numero_entrada)"
   ]
  },
  {
   "cell_type": "markdown",
   "metadata": {},
   "source": [
    "Construya la función saludo que reciba su nombre y devuelva el string \"Hola! {nombre}\". Agréguele un parámetro booleano que indique si el saludo deba ser en inglés o en español. "
   ]
  },
  {
   "cell_type": "code",
   "execution_count": 25,
   "metadata": {},
   "outputs": [],
   "source": [
    "def saludo(nombre: str, español: bool):\n",
    "    if español == True:\n",
    "        return f'Hola!, {nombre}'\n",
    "    else:\n",
    "        return f'Hello!, {nombre}'"
   ]
  },
  {
   "cell_type": "code",
   "execution_count": 27,
   "metadata": {},
   "outputs": [
    {
     "data": {
      "text/plain": [
       "'Hola!, Maria'"
      ]
     },
     "execution_count": 27,
     "metadata": {},
     "output_type": "execute_result"
    }
   ],
   "source": [
    "nombre = input(\"Digite su nombre: \")\n",
    "saludo(nombre, True)"
   ]
  },
  {
   "cell_type": "markdown",
   "metadata": {},
   "source": [
    "## Ejercicio B\n",
    "\n",
    "Una universidad tiene un proceso de admisión complejo que considera múltiples factores para evaluar a los solicitantes. Estos factores incluyen:\n",
    "- Puntaje del examen de admisión (sobre 1000): Un puntaje numérico.\n",
    "- Promedio de calificaciones de la escuela secundaria (GPA, sobre 4.0): Un promedio numérico.\n",
    "- Cartas de recomendación (número): Un número entero.\n",
    "- Actividades extracurriculares (número): Un número entero.\n",
    "- Ensayo personal (calificación de 1 a 5): Un puntaje entero.\n",
    "\n",
    "La universidad tiene los siguientes criterios de admisión:\n",
    "\n",
    "- Los solicitantes deben tener un puntaje de examen de admisión de al menos 700.\n",
    "- Los solicitantes deben tener un GPA de al menos 3.5.\n",
    "- Los solicitantes deben tener al menos 2 cartas de recomendación.\n",
    "- Los solicitantes deben tener al menos 3 actividades extracurriculares.\n",
    "- Los solicitantes deben tener una calificación de ensayo personal de al menos 3.\n",
    "\n",
    "Además, la universidad otorga puntos de bonificación por logros excepcionales:\n",
    "\n",
    "- Si un solicitante tiene un puntaje de examen de admisión de 950 o más, recibe 5 puntos de bonificación.\n",
    "- Si un solicitante tiene un GPA de 3.9 o más, recibe 3 puntos de bonificación.\n",
    "- Si un solicitante tiene 5 o más cartas de recomendación, recibe 2 puntos de bonificación.\n",
    "- Si un solicitante tiene 6 o más actividades extracurriculares, recibe 2 puntos de bonificación.\n",
    "- Si un solicitante tiene una calificación de ensayo personal de 5, recibe 2 puntos de bonificación.\n",
    "\n",
    "1. Escriba un código que a partir de un índice de un estudiante `i_est` tome los datos de un solicitante y determine si es admitido, aplicando los criterios de admisión y los puntos de bonificación.\n",
    "2. Cree una lista de espera para los solicitantes que no cumplen con todos los criterios de admisión, pero que tienen un puntaje total (suma de todos los factores) por encima de un cierto umbral\n",
    "3. Calcule y muestra las siguientes estadísticas:\n",
    "\n",
    "    - El número total de solicitantes admitidos.\n",
    "    - El GPA promedio de los solicitantes admitidos.\n",
    "    - El puntaje del examen de admisión promedio de los solicitantes admitidos.\n",
    "    - El número total de solicitantes en lista de espera.\n",
    "    - El puntaje total promedio de los solicitantes en la lista de espera."
   ]
  },
  {
   "cell_type": "code",
   "execution_count": null,
   "metadata": {},
   "outputs": [],
   "source": [
    "np.random.seed(2025)\n",
    "admisiones = np.random.randint(1000,size=100)\n",
    "calificaciones = np.array([float(round(c,1)) if c<=4 else 4.0 for c in np.random.normal(loc=3,scale=0.25,size=100)])\n",
    "cartas = np.random.randint(3,size=100)\n",
    "extracurriculares = np.array([int(c) if c>0 else 0 for c in np.random.normal(loc=5,scale=2,size=100)])\n",
    "ensayo = np.random.randint(1,6,size=100)"
   ]
  },
  {
   "cell_type": "code",
   "execution_count": null,
   "metadata": {},
   "outputs": [],
   "source": []
  }
 ],
 "metadata": {
  "kernelspec": {
   "display_name": "Python 3",
   "language": "python",
   "name": "python3"
  },
  "language_info": {
   "codemirror_mode": {
    "name": "ipython",
    "version": 3
   },
   "file_extension": ".py",
   "mimetype": "text/x-python",
   "name": "python",
   "nbconvert_exporter": "python",
   "pygments_lexer": "ipython3",
   "version": "3.9.6"
  }
 },
 "nbformat": 4,
 "nbformat_minor": 2
}
