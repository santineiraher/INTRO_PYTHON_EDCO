{
 "cells": [
  {
   "cell_type": "markdown",
   "id": "55919d8e",
   "metadata": {},
   "source": [
    "# Guía práctica: Entornos de Python y UV\n",
    "\n",
    "> Aprende qué son los entornos (ambientes), por qué los necesitas y cómo usar **UV**, la nueva herramienta ultrarrápida para crear y gestionar entornos y dependencias."
   ]
  },
  {
   "cell_type": "markdown",
   "id": "5f4ea038",
   "metadata": {},
   "source": [
    "## 1. ¿Qué es un ambiente?\n",
    "Un **ambiente** (o *entorno virtual*) es una carpeta aislada que contiene su propia instalación de Python y todas las dependencias que tu proyecto necesita. De esta forma, cada proyecto puede usar versiones de paquetes (¡e incluso de Python!) distintas sin interferir con otros proyectos o con la instalación global del sistema."
   ]
  },
  {
   "cell_type": "markdown",
   "id": "3f7a9ef7",
   "metadata": {},
   "source": [
    "## 2. ¿Para qué sirven los ambientes?\n",
    "- **Aislamiento de dependencias**: evita conflictos de versiones.\n",
    "- **Reproducibilidad**: facilita que otras personas (o tú en el futuro) puedan recrear exactamente el mismo entorno.\n",
    "- **Seguridad**: limita el alcance de los paquetes instalados.\n",
    "- **Múltiples proyectos**: permite que cada proyecto funcione con la versión de librerías que necesita.\n",
    "- **Compatibilidad**: prueba tu código con distintas versiones de Python o de bibliotecas."
   ]
  },
  {
   "cell_type": "markdown",
   "id": "e719a653",
   "metadata": {},
   "source": [
    "## 3. Cómo crear un ambiente (panorama rápido de opciones)\n",
    "| Herramienta | Comando de ejemplo |\n",
    "|-------------|--------------------|\n",
    "| **venv** (incluido en Python) | `python -m venv .venv` |\n",
    "| **conda** | `conda create -n mi_env python=3.12` |\n",
    "| **pipenv** | `pipenv install` |\n",
    "| **poetry** | `poetry install` |\n",
    "| **uv** (¡el protagonista de esta guía!) | `uv venv .venv` |\n",
    "\n",
    "Cada opción tiene sus particularidades. A continuación, profundizaremos en **UV**, una herramienta moderna y muy rápida que unifica creación de ambientes, instalación de dependencias y mucho más."
   ]
  },
  {
   "cell_type": "markdown",
   "id": "7725e1a0",
   "metadata": {},
   "source": [
    "## 4. ¿Qué es UV?\n",
    "**UV** es un gestor y creador de proyectos Python escrito en Rust que apunta a sustituir a `pip`, `pip-tools`, `virtualenv`, `pyenv`, e incluso a gestores de proyectos como `poetry`.\n",
    "\n",
    "### Ventajas clave\n",
    "- ⚡️ *Hasta 10‑100× más rápido* que `pip` a la hora de instalar dependencias.\n",
    "- 🗂️ Unifica gestión de paquetes, ambientes y versiones de Python en **un solo comando**.\n",
    "- 🔒 Genera *lockfiles* universales para entornos reproducibles.\n",
    "- 🐍 Gestiona **múltiples versiones de Python** sin depender de herramientas externas.\n",
    "- 🛠️ Permite ejecutar scripts y herramientas en entornos efímeros.\n",
    "- 🌐 Disponible en macOS, Linux y Windows."
   ]
  },
  {
   "cell_type": "markdown",
   "id": "5a556ae8",
   "metadata": {},
   "source": [
    "## 5. Instalación de UV\n",
    "```bash\n",
    "# Instalador oficial (macOS & Linux)\n",
    "curl -LsSf https://astral.sh/uv/install.sh | sh\n",
    "\n",
    "# Instalación con pip (cualquier plataforma)\n",
    "pip install uv\n",
    "\n",
    "# Instalación con pipx (aísla la herramienta de tu sistema)\n",
    "pipx install uv\n",
    "```\n",
    "Tras la instalación, puedes actualizar UV a la última versión con:\n",
    "```bash\n",
    "uv self update\n",
    "```"
   ]
  },
  {
   "cell_type": "markdown",
   "id": "fd3f7204",
   "metadata": {},
   "source": [
    "## 6. Crear y gestionar ambientes con UV\n",
    "### 6.1 Crear un nuevo ambiente\n",
    "```bash\n",
    "# Crea un entorno virtual en la carpeta .venv\n",
    "uv venv .venv\n",
    "```\n",
    "### 6.2 Activar el ambiente\n",
    "```bash\n",
    "source .venv/bin/activate  # macOS/Linux\n",
    ".venv\\Scripts\\activate   # Windows (PowerShell)\n",
    "```\n",
    "### 6.3 Instalar dependencias\n",
    "```bash\n",
    "# Instala y bloquea dependencias en un solo paso\n",
    "uv pip install numpy pandas jupyterlab\n",
    "```\n",
    "### 6.4 Congelar o sincronizar dependencias\n",
    "```bash\n",
    "# Genera un lockfile universal\n",
    "uv pip freeze --output requirements.lock\n",
    "\n",
    "# Restaura un entorno desde un lockfile\n",
    "uv pip sync --requirements requirements.lock\n",
    "```\n",
    "### 6.5 Gestionar versiones de Python\n",
    "```bash\n",
    "# Instala Python 3.12\n",
    "uv python install 3.12\n",
    "\n",
    "# Lista versiones disponibles/locales\n",
    "uv python list\n",
    "```\n",
    "### 6.6 Ejecutar scripts\n",
    "```bash\n",
    "uv run script.py\n",
    "```"
   ]
  },
  {
   "cell_type": "markdown",
   "id": "8746fb66",
   "metadata": {},
   "source": [
    "## 7. Flujo de trabajo recomendado con UV\n",
    "1. **Inicializa un proyecto**: `uv init mi_proyecto`\n",
    "2. **Crea el ambiente**: `uv venv .venv`\n",
    "3. **Añade dependencias**: `uv pip install flask ruff`\n",
    "4. **Desarrolla y ejecuta**: `uv run app.py`\n",
    "5. **Bloquea versiones**: `uv pip freeze --output requirements.lock`\n",
    "6. **Comparte el proyecto**: incluye `requirements.lock` en tu repositorio.\n",
    "7. **Reproduce en otro equipo**: `uv pip sync --requirements requirements.lock`."
   ]
  },
  {
   "cell_type": "markdown",
   "id": "1e97c855",
   "metadata": {},
   "source": [
    "### 7.1 Si necesitas eliminar el ambiente\n",
    "1. Desactiva el entorno si está activo\n",
    "2. Elimina la carpeta que lo contiene\n",
    "\n",
    "| Sistema | Comando recomendado |\n",
    "|---------|--------------------|\n",
    "| macOS / Linux | `rm -rf .venv` |\n",
    "| Windows (PowerShell) | `Remove-Item -Recurse -Force .venv` |\n",
    "\n",
    "Al ser un directorio “desechable”, borrarlo es seguro y podrás recrearlo más tarde con `uv venv` si lo necesitas. \n",
    "\n",
    "\n",
    "3. **(Opcional) limpia el caché de paquetes** para liberar espacio si llevas tiempo usando uv:\n",
    "\n",
    "```bash\n",
    "uv cache prune          # elimina objetos no usados\n",
    "uv cache clean          # borra todo el caché"
   ]
  },
  {
   "cell_type": "markdown",
   "id": "f5e701a6",
   "metadata": {},
   "source": [
    "## 8. Recursos adicionales\n",
    "- [Documentación oficial de UV](https://docs.astral.sh/uv/)\n",
    "- [Repositorio GitHub de UV](https://github.com/astral-sh/uv)\n",
    "- [Artículo detallado en Real Python](https://realpython.com/python-uv/)\n",
    "- [Comparativa de rendimiento](https://github.com/astral-sh/uv#benchmarks)"
   ]
  },
  {
   "cell_type": "code",
   "execution_count": null,
   "id": "3b0a2618",
   "metadata": {},
   "outputs": [],
   "source": [
    "# Consulta la ayuda general de UV (ejecuta esta celda en tu entorno)\n",
    "!uv --help"
   ]
  }
 ],
 "metadata": {
  "kernelspec": {
   "display_name": "Python 3",
   "language": "python",
   "name": "python3"
  },
  "language_info": {
   "codemirror_mode": {
    "name": "ipython",
    "version": 3
   },
   "file_extension": ".py",
   "mimetype": "text/x-python",
   "name": "python",
   "nbconvert_exporter": "python",
   "pygments_lexer": "ipython3",
   "version": "3.9.6"
  }
 },
 "nbformat": 4,
 "nbformat_minor": 5
}
