{
 "cells": [
  {
   "cell_type": "markdown",
   "id": "928c31d2",
   "metadata": {},
   "source": [
    "# **Introducción al análisis de datos en Python** \n",
    "#### Profesora: Catalina Bernal"
   ]
  },
  {
   "cell_type": "markdown",
   "id": "ddc5ee11",
   "metadata": {},
   "source": [
    "### Unir bases de datos (`merge`)"
   ]
  },
  {
   "cell_type": "markdown",
   "id": "ebd6d85d",
   "metadata": {},
   "source": [
    "Ya aprendimos cómo concatenar filas y columnas de diferentes bases de datos. Para hacer esto es necesario que la cantidad de columnas y filas, respectivamente, de los dataframes a juntar sean los mismos y que sus índices o llaves también lo sean.\n",
    "\n",
    "No obstante, muchas veces cuando trate de juntar bases de datos, notará que no necesariamente todas las llaves están presentes en ambas bases de datos, o que incluso, a cada fila de la base izquierda, querrá pegarle más de una fila de la base derecha, o viceversa.\n",
    "\n",
    "A la hora de hacer pegues más complejos, hablamos de que vamos a utilizar un `merge`. \n",
    "\n",
    "Comencemos con la sintaxis del `merge`. Para pegar dos bases de datos, usted usará un comando similar al siguiente:\n",
    "\n",
    "```python\n",
    "pd.merge(left = left_dataframe, right = right_dataframe, on = \"alguna(s)_columa(s)\", how = \"left|right|inner|outer\")\n",
    "```\n",
    "\n",
    "Los argumentos que toma la función son:\n",
    "- `left`: dataframe que va de primero.\n",
    "- `right`: dataframe que va de segundo.\n",
    "- `on`: es la columna o la lista de columnas que determinan qué filas de una tabla coinciden con qué filas de la segunda tabla. Comúnmente a estas variables se les llaman las llaves del pegue y debe identificar a cada observación de forma única. A veces, las columnas que desea fusionar tienen nombres diferentes en los datos. Por ejemplo, suponga que tiene dos bases de datos, una que registra el dinero mensual gastado por persona en almacenes Éxito y otra que tiene características personales de las personas. Usted podría tratar de juntar ambas bases con el identificador de fila o persona de cada base que en este caso podría ser la cédula, sin embargo, en un dataframe tal vez la variable se llame \"cc\" mientras que en el otro puede que se llame \"cédula\". En esos casos, puede especificar los nombres de columna por separado para cada marco de datos utilizando los argumentos \"left_on\" y \"right_on\".\n",
    "- `how`: es el método a usar, por defecto Pandas usa el método \"inner\". Más adelante exploraremos más al respecto.\n",
    "\n",
    "<center>\n",
    "<div>\n",
    "<img src=\"./img/merges.png\" width=\"400\"/>\n",
    "</div>\n",
    "</center>\n",
    "\n",
    "Tenemos cuatro grandes métodos para relacionar las bases porque no siempre tenemos una coincidencia uno a uno (one to one) entre las filas. Estos cuatro métodos afectan la forma en que Pandas trata los datos no coincidentes y eso es lo que veremos más adelante.\n",
    "\n",
    "<center>\n",
    "<div>\n",
    "<img src=\"./img/one-many.png\" width=\"400\"/>\n",
    "</div>\n",
    "</center>\n",
    "\n"
   ]
  },
  {
   "cell_type": "code",
   "execution_count": null,
   "id": "6a1d763e",
   "metadata": {},
   "outputs": [],
   "source": [
    "import pandas as pd\n",
    "import numpy as np"
   ]
  },
  {
   "cell_type": "code",
   "execution_count": null,
   "id": "cfa7eff5",
   "metadata": {},
   "outputs": [],
   "source": [
    "# ejemplos de pegues\n",
    "left_dataframe = pd.DataFrame({\"ID\": [1,2,3,4], \"left_side\": \"Izquierda\"})\n",
    "right_dataframe = pd.DataFrame({\"ID\": [3,4,5,6], \"right_side\": \"Derecha\"})"
   ]
  },
  {
   "cell_type": "code",
   "execution_count": null,
   "id": "d2e97585",
   "metadata": {},
   "outputs": [],
   "source": [
    "left_dataframe"
   ]
  },
  {
   "cell_type": "code",
   "execution_count": null,
   "id": "6949afed",
   "metadata": {},
   "outputs": [],
   "source": [
    "right_dataframe"
   ]
  },
  {
   "cell_type": "markdown",
   "id": "f30325f7",
   "metadata": {},
   "source": [
    "#### Left merge\n",
    "En un Left merge lo que más nos interesa son los datos del lado IZQUIERDO a los cuales queremos pegarles columnas de una base de datos en el lado DERECHO.\n",
    "\n",
    "Para hacer eso, cortamos las filas en el marco de datos DERECHO y pegamos partes en el marco de datos IZQUIERDO. Recuerde, nos preocupamos principalmente por el lado IZQUIERDO y solo queremos datos del lado DERECHO si tiene alguna de las mismas ID. Entonces, si algo en el marco de datos DERECHO no coincide o no existe, entonces tenemos que hacer cosas para mantener las columnas de la misma longitud. Lo hacemos agregando NaN para llenar el vacío o descartando algunas filas por completo.\n",
    "\n",
    "En este ejemplo, el lado IZQUIERDO tiene los ID 1, 2, 3 y 4:\n",
    "- El lado DERECHO no tiene ID 1 o 2, por lo que agregamos NaN porque necesitamos que las columnas tengan la misma longitud.\n",
    "- El lado DERECHO tiene datos para los ID 3 y 4, así que lo agregamos como una nueva columna.\n",
    "- El lado IZQUIERDO no tiene ID 5 o 6, por lo que no necesitamos esa información del DERECHO y se descarta.\n",
    "\n",
    "<center>\n",
    "<div>\n",
    "<img src=\"./img/left_merge.png\" width=\"400\"/>\n",
    "</div>\n",
    "</center>"
   ]
  },
  {
   "cell_type": "code",
   "execution_count": null,
   "id": "d9cf97fd",
   "metadata": {},
   "outputs": [],
   "source": [
    "# Left merge con \"ID\" como llave\n",
    "pd.merge(left = left_dataframe, right = right_dataframe, on = \"ID\", how = \"left\")"
   ]
  },
  {
   "cell_type": "markdown",
   "id": "90cedb52",
   "metadata": {},
   "source": [
    "#### Right merge\n",
    "Los Right merges funcionan igual que los Left merges, la diferencia es que nos preocupamos principalmente por el lado DERECHO y nos gustaría agregar datos desde el IZQUIERDO si tienen ID coincidentes.\n",
    "\n",
    "<center>\n",
    "<div>\n",
    "<img src=\"./img/right_merge.png\" width=\"400\"/>\n",
    "</div>\n",
    "</center>"
   ]
  },
  {
   "cell_type": "code",
   "execution_count": null,
   "id": "6494466f",
   "metadata": {},
   "outputs": [],
   "source": [
    "# Right merge con \"ID\" como llave\n",
    "pd.merge(left = left_dataframe, right = right_dataframe, on = \"ID\", how = \"right\")"
   ]
  },
  {
   "cell_type": "markdown",
   "id": "b8476085",
   "metadata": {},
   "source": [
    "#### Inner merge\n",
    "Con un Inner merge, cortamos ambos marcos de datos y solo pegamos las cosas que coinciden. Si una ID no está en ambos marcos de datos, no la mantenemos y no agregamos NaN.\n",
    "\n",
    "<center>\n",
    "<img src=\"./img/inner_merge.png\" width=\"400\"/>\n",
    "</center>"
   ]
  },
  {
   "cell_type": "code",
   "execution_count": null,
   "id": "9deb1d7c",
   "metadata": {},
   "outputs": [],
   "source": [
    "# Inner merge con \"ID\" como llave\n",
    "pd.merge(left = left_dataframe, right = right_dataframe, on = \"ID\", how = \"inner\")"
   ]
  },
  {
   "cell_type": "markdown",
   "id": "03121d88",
   "metadata": {},
   "source": [
    "#### Outer merge\n",
    "Con un Outer merge, cortamos ambos marcos de datos y mantenemos todo de ambos lados. Luego agregamos NaN para llenar los espacios en blanco.\n",
    "\n",
    "<center>\n",
    "<img src=\"./img/outer_merge.png\" width=\"400\"/>\n",
    "</center>"
   ]
  },
  {
   "cell_type": "code",
   "execution_count": null,
   "id": "5fc161a3",
   "metadata": {},
   "outputs": [],
   "source": [
    "# Outer merge con \"ID\" como llave\n",
    "pd.merge(left = left_dataframe, right = right_dataframe, on = \"ID\", how = \"outer\")"
   ]
  },
  {
   "cell_type": "code",
   "execution_count": null,
   "id": "867005e1",
   "metadata": {},
   "outputs": [],
   "source": [
    "# Creamos dos DataFrames: empleados y departamentos\n",
    "empleados = pd.DataFrame({\n",
    "    'id': [1, 2, 3, 4],\n",
    "    'nombre': ['Ana', 'Luis', 'Carlos', 'Sofía'],\n",
    "    'departamento_id': [10, 20, 10, 30]\n",
    "})\n",
    "\n",
    "departamentos = pd.DataFrame({\n",
    "    'departamento_id': [10, 20, 30],\n",
    "    'departamento': ['Ventas', 'Marketing', 'TI']\n",
    "})\n",
    "\n",
    "# 🔗 Unimos usando la columna en común\n",
    "df_unido = empleados.merge(departamentos, on='departamento_id')\n",
    "print(df_unido)"
   ]
  },
  {
   "cell_type": "code",
   "execution_count": null,
   "id": "e431ea9e",
   "metadata": {},
   "outputs": [],
   "source": [
    "# Queremos saber si el nombre de la persona empieza con vocal\n",
    "def empieza_con_vocal(nombre):\n",
    "    return nombre[0].lower() in 'aeiou'\n",
    "\n",
    "empleados['empieza_vocal'] = empleados['nombre'].apply(empieza_con_vocal)\n",
    "print(empleados)"
   ]
  },
  {
   "cell_type": "markdown",
   "id": "493f2a3a",
   "metadata": {},
   "source": [
    "### Groupby\n"
   ]
  },
  {
   "cell_type": "markdown",
   "id": "1f24004b",
   "metadata": {},
   "source": [
    "Uno de los métodos más útiles para los analistas de datos es `.groupby()`. Este método permite dividir los datos en grupos y a cada uno de estos aplicarles una función de agregación.\n",
    "\n",
    "Veamos el siguiente ejemplo para entender este concepto mejor:"
   ]
  },
  {
   "cell_type": "code",
   "execution_count": null,
   "id": "3a857ea5",
   "metadata": {},
   "outputs": [],
   "source": [
    "df = pd.read_excel(f\"data/ejemplo_groupby.xlsx\")\n",
    "df"
   ]
  },
  {
   "cell_type": "code",
   "execution_count": null,
   "id": "f5729cd0",
   "metadata": {},
   "outputs": [],
   "source": [
    "df.animal.unique()"
   ]
  },
  {
   "cell_type": "markdown",
   "id": "866a7846",
   "metadata": {},
   "source": [
    "Note que tenemos un `dataframe` con cuatro tipos de animales: \n",
    "- alligators (cocodrilos 🐊)\n",
    "- cats (gatos 🐱)\n",
    "- snakes (serpientes 🐍)\n",
    "- hamsters (hamsters 🐹)\n",
    "\n",
    "Cada una de las filas indican un chequeo en el veterinario donde se registra edad, peso y largo del animal. Por ende, usted como investigador quiere estudiar algunas estadísticas descriptivas por especie. Por ejemplo ¿Cuál es el peso promedio de cada especie?"
   ]
  },
  {
   "cell_type": "code",
   "execution_count": null,
   "id": "2662ae2b",
   "metadata": {},
   "outputs": [],
   "source": [
    "# El primer paso es agrupar por animal\n",
    "animal_groups = df.groupby(\"animal\")"
   ]
  },
  {
   "cell_type": "code",
   "execution_count": null,
   "id": "2181867b",
   "metadata": {},
   "outputs": [],
   "source": [
    "animal_groups"
   ]
  },
  {
   "cell_type": "code",
   "execution_count": null,
   "id": "c31df660",
   "metadata": {},
   "outputs": [],
   "source": [
    "# Veamos la conformación de cada uno de los grupos. ¿En qué filas aparece cada animal?\n",
    "animal_groups.groups"
   ]
  },
  {
   "cell_type": "markdown",
   "id": "c6f79d55",
   "metadata": {},
   "source": [
    "Visualmente, lo que sucedió fue lo siguiente:\n",
    "\n",
    "1. Se agrupa los valores únicos de la columna animal.\n",
    "<center>\n",
    "<img src = \"./img/groupby1.jpg\" width = \"400\">\n",
    "</center>\n",
    "\n",
    "2. La segmentación de cada grupo se vería de la siguiente manera\n",
    "<center>\n",
    "<img src = \"./img/groupby2.jpg\" width = \"400\">\n",
    "</center>\n",
    "\n",
    "3. Se le asignan las otras variables/columnas a cada grupo\n",
    "<center>\n",
    "<img src = \"./img/groupby3.jpg\" width = \"400\">\n",
    "</center>\n",
    "\n",
    "4. Se aplica la función agregadora `.mean()` sobre la columna `weight` de cada grupo.\n",
    "<center>\n",
    "<img src = \"./img/groupby4.jpg\" width = \"400\">\n",
    "</center>\n"
   ]
  },
  {
   "cell_type": "code",
   "execution_count": null,
   "id": "6575bfa0",
   "metadata": {},
   "outputs": [],
   "source": [
    "df"
   ]
  },
  {
   "cell_type": "markdown",
   "id": "50d6f469",
   "metadata": {},
   "source": [
    "#### Método .agg()\n",
    "El método .agg() se puede utilizar después de aplicar un método .groupby() en pandas para realizar operaciones de agregación en los datos de cada grupo.\n",
    "\n",
    "La sintaxis general de la función .groupby() es la siguiente:\n",
    "```python\n",
    "dataframe.groupby(columnas).agg(funciones)\n",
    "```\n",
    "Donde:\n",
    "- dataframe: el DataFrame al que se aplicará la función `groupby()`.\n",
    "- columnas: la(s) columna(s) que se utilizarán para agrupar los datos.\n",
    "- funciones: la(s) operación(es) de agregación que se aplicarán a los datos agrupados.\n",
    "\n",
    "Por ejemplo, para calcular la media, el máximo y el mínimo de las columnas de peso y longitud del DataFrame agrupado por la columna 'animal', se puede utilizar la siguiente sintaxis:"
   ]
  },
  {
   "cell_type": "code",
   "execution_count": null,
   "id": "705e782c",
   "metadata": {},
   "outputs": [],
   "source": [
    "df.groupby(\"animal\")[['weight','length']].agg([\"min\", \"mean\", \"max\"])"
   ]
  },
  {
   "cell_type": "code",
   "execution_count": null,
   "id": "843d4efc",
   "metadata": {},
   "outputs": [],
   "source": [
    "df.groupby(\"animal\").agg({'weight': ['mean', 'max'], 'length': 'std', \n",
    "                                     \"age\": lambda x: np.percentile(x, 50)})"
   ]
  },
  {
   "cell_type": "code",
   "execution_count": null,
   "id": "7a4369b2",
   "metadata": {},
   "outputs": [],
   "source": [
    "# Otra sintaxis, en vez de un diccionario, usar tuplas\n",
    "# (nombre_columna,funcion)\n",
    "df.groupby(\"animal\").agg(peso_promedio = (\"weight\", 'mean'), \n",
    "                                   peso_maximo = (\"weight\", 'max'),\n",
    "                                   edad_mediana = (\"age\", lambda x: np.percentile(x, 50)))"
   ]
  },
  {
   "cell_type": "markdown",
   "id": "21f56789",
   "metadata": {},
   "source": [
    "## Ejercicio"
   ]
  },
  {
   "cell_type": "markdown",
   "id": "bcaf6130",
   "metadata": {},
   "source": [
    "### Información de accidentes de tránsito en Bogotá en el 2016\n",
    "A partir de la base de datos `info_accidentes.csv`, responda las siguientes preguntas:\n",
    "\n",
    "1. ¿Cuántos muertos hay registrados en la base de datos?\n",
    "2. ¿Cuántos heridos hay registrados en la base de datos?\n",
    "3. ¿Cuantos accidentes hubo en la localidad de Santa Fe? ¿Cuántos muertos y cuántos heridos dejaron estos accidentes en total?\n",
    "4. Explore la columna TipoTiempo, ¿cuál es la categoría en la que más ocurren accidentes?"
   ]
  },
  {
   "cell_type": "markdown",
   "id": "019ca079",
   "metadata": {},
   "source": []
  }
 ],
 "metadata": {
  "kernelspec": {
   "display_name": "Python 3",
   "language": "python",
   "name": "python3"
  },
  "language_info": {
   "codemirror_mode": {
    "name": "ipython",
    "version": 3
   },
   "file_extension": ".py",
   "mimetype": "text/x-python",
   "name": "python",
   "nbconvert_exporter": "python",
   "pygments_lexer": "ipython3",
   "version": "3.9.6"
  }
 },
 "nbformat": 4,
 "nbformat_minor": 5
}
