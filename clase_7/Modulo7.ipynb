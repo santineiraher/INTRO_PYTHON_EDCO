{
  "cells": [
    {
      "cell_type": "markdown",
      "metadata": {
        "id": "gePcSLrGdMgl"
      },
      "source": [
        "# **Introducción al análisis de datos en Python** \n",
        "#### Profesora: Catalina Bernal"
      ]
    },
    {
      "cell_type": "markdown",
      "metadata": {
        "id": "yvtdzcvAdMgm"
      },
      "source": [
        "## ¿Qué es ML? (Data Science)\n",
        "<img src=\"https://images.squarespace-cdn.com/content/v1/5c8ac34016b6400b402eab7c/1628256525282-WMZDJIUYPU7QGHPBEPD4/1_rZlo8XHoEsVZVonfGgdDZQ.png?format=2500w\" alt=\"ML\" style=\"width: 400px;\" align=\"center\" frameborder=\"200\"/>\n"
      ]
    },
    {
      "cell_type": "markdown",
      "metadata": {
        "id": "cjPVkeoWdMgn"
      },
      "source": [
        "## ¿Qué es ML? (AI)\n",
        "<img src=\"https://www.prensariohub.com/wp-content/uploads/2023/02/INF-DIF-2.jpg\" alt=\"ML\" style=\"width: 700px;\" align=\"center\" frameborder=\"200\"/>\n"
      ]
    },
    {
      "cell_type": "markdown",
      "metadata": {
        "id": "lpF4IpUodMgn"
      },
      "source": [
        "## Tipos de Aprendizaje\n",
        "### Aprendizaje Supervisado\n",
        "<img src=\"https://miro.medium.com/max/620/0*K_Hfk5UaGmmv5Us9\" alt=\"ML\" style=\"width: 700px;\" align=\"center\" frameborder=\"200\" />\n"
      ]
    },
    {
      "cell_type": "markdown",
      "metadata": {
        "id": "vsnwsN2JdMgo"
      },
      "source": [
        "### Aprendizaje No Supervisado\n",
        "<img src=\"https://miro.medium.com/v2/resize:fit:1400/format:webp/0*UqNa_rERuuM2rf6m.png\" alt=\"ML\" style=\"width: 500px;\" align=\"center\" frameborder=\"200\"/>\n"
      ]
    },
    {
      "cell_type": "markdown",
      "metadata": {
        "id": "cmS2WsEhdMgo"
      },
      "source": [
        "## Supervisado vs No Supervisado\n",
        "<img src=\"https://devopedia.org/images/article/386/6104.1641589326.png\" alt=\"ML\" style=\"width: 500px;\" align=\"center\" frameborder=\"200\"/>\n",
        "\n",
        "\n",
        "### Ejemplos:\n",
        "- Pronóstico de Demanda.\n",
        "- Sugerir futuros productos.\n",
        "- Scoring Crediticio.\n",
        "- Predicción de desafiliación de Clientes.\n",
        "- Segmentar clientes.\n",
        "- Detectar un fraude."
      ]
    },
    {
      "cell_type": "markdown",
      "metadata": {
        "id": "fx9G304CdMgo"
      },
      "source": [
        "## Aplicaciones\n",
        "### Por tipos de datos:\n",
        "- Estructurados corte transversal.\n",
        "- Estructurados series de tiempo.\n",
        "- Texto.\n",
        "- No estructurados:\n",
        "    - Imágenes.\n",
        "    - Voz.\n",
        "    - Videos.\n",
        "### Por sector:\n",
        "- Público:\n",
        "    - Seguridad.\n",
        "    - Transparencia.\n",
        "    - Asignación de Recursos.\n",
        "    - Detección de fraude.\n",
        "- Industria:\n",
        "    - Mantenimientos.\n",
        "    - Optimización de Inventarios.\n",
        "- Comercial (Retail):\n",
        "    - Personalización de marketing.\n",
        "    - Recomendación de productos.\n",
        "    - Mejoramiento de la experiencia de usuario.\n",
        "    - Retención de clientes.\n",
        "    - Pronóstico de la demanda.\n",
        "    - Pricing.\n",
        "    - Ubicación de recursos.\n",
        "- Finanzas:\n",
        "    - Detección de fraude.\n",
        "    - Optimización de portafolio.\n",
        "    - Trading algorítmico.\n",
        "    - Cuantificación y manejo de riesgos."
      ]
    },
    {
      "cell_type": "markdown",
      "metadata": {
        "id": "ITJAZ4SDdMgo"
      },
      "source": [
        "## Problemas y Soluciones:\n",
        "<img src=\"https://media.geeksforgeeks.org/wp-content/cdn-uploads/20190523171258/overfitting_2.png\" alt=\"ML\" style=\"width: 500px;\" align=\"center\" frameborder=\"200\"/>\n",
        "\n",
        "<img src=\"https://conlanscientific.com/media/content/splitting-data.png\" alt=\"ML\" style=\"width: 500px;\" align=\"center\" frameborder=\"200\"/>\n",
        "\n"
      ]
    },
    {
      "cell_type": "markdown",
      "metadata": {},
      "source": [
        "### Regresión Lineal\n",
        "La regresión lineal es una técnica estadística utilizada para analizar la relación entre una variable una variable dependiente ($Y$) y un conjunto de variables explicativas ($X$). El objetivo de la regresión lineal es encontrar la mejor línea recta que pueda explicar la relación entre las variables y predecir el valor de $Y$ para cualquier valor dado de $X$.\n",
        "\n",
        "La ecuación de la línea recta se representa como:\n",
        "\n",
        "$$Y = \\alpha + \\beta X$$\n",
        "\n",
        "Donde $\\alpha$ es la intersección en $Y$, $\\beta$ es la pendiente de la línea recta y $X$ es el valor de la variable independiente. La pendiente de la línea recta indica cuánto aumenta (o disminuye) Y por cada unidad de cambio en $X$.\n",
        "\n",
        "La regresión lineal se utiliza comúnmente en la investigación y en los negocios para predecir el valor de una variable dependiente en función de una variable independiente. Por ejemplo, se puede utilizar la regresión lineal para predecir la cantidad de ventas que una empresa puede esperar para un determinado nivel de publicidad."
      ]
    },
    {
      "cell_type": "code",
      "execution_count": 1,
      "metadata": {},
      "outputs": [],
      "source": [
        "import pandas as pd\n",
        "import seaborn as sns\n",
        "import matplotlib.pyplot as plt"
      ]
    },
    {
      "cell_type": "code",
      "execution_count": 2,
      "metadata": {},
      "outputs": [
        {
          "data": {
            "text/html": [
              "<div>\n",
              "<style scoped>\n",
              "    .dataframe tbody tr th:only-of-type {\n",
              "        vertical-align: middle;\n",
              "    }\n",
              "\n",
              "    .dataframe tbody tr th {\n",
              "        vertical-align: top;\n",
              "    }\n",
              "\n",
              "    .dataframe thead th {\n",
              "        text-align: right;\n",
              "    }\n",
              "</style>\n",
              "<table border=\"1\" class=\"dataframe\">\n",
              "  <thead>\n",
              "    <tr style=\"text-align: right;\">\n",
              "      <th></th>\n",
              "      <th>id</th>\n",
              "      <th>ad_type</th>\n",
              "      <th>start_date</th>\n",
              "      <th>end_date</th>\n",
              "      <th>created_on</th>\n",
              "      <th>lat</th>\n",
              "      <th>lon</th>\n",
              "      <th>l1</th>\n",
              "      <th>l2</th>\n",
              "      <th>l3</th>\n",
              "      <th>...</th>\n",
              "      <th>bathrooms</th>\n",
              "      <th>surface_total</th>\n",
              "      <th>surface_covered</th>\n",
              "      <th>price</th>\n",
              "      <th>currency</th>\n",
              "      <th>price_period</th>\n",
              "      <th>title</th>\n",
              "      <th>description</th>\n",
              "      <th>property_type</th>\n",
              "      <th>operation_type</th>\n",
              "    </tr>\n",
              "  </thead>\n",
              "  <tbody>\n",
              "    <tr>\n",
              "      <th>0</th>\n",
              "      <td>KsjahK62rxcYKXXQjOdkqw==</td>\n",
              "      <td>Propiedad</td>\n",
              "      <td>2020-10-07</td>\n",
              "      <td>2021-10-09</td>\n",
              "      <td>2020-10-07</td>\n",
              "      <td>3.9210</td>\n",
              "      <td>-76.506000</td>\n",
              "      <td>Colombia</td>\n",
              "      <td>Valle del Cauca</td>\n",
              "      <td>NaN</td>\n",
              "      <td>...</td>\n",
              "      <td>7.0</td>\n",
              "      <td>NaN</td>\n",
              "      <td>NaN</td>\n",
              "      <td>1.300000e+09</td>\n",
              "      <td>COP</td>\n",
              "      <td>NaN</td>\n",
              "      <td>Casa Campestre en venta en darien 3469064</td>\n",
              "      <td>HERMOSA CASA CAMPESTRE, &amp;Aacute;REA 6,000 MT, ...</td>\n",
              "      <td>Casa</td>\n",
              "      <td>Venta</td>\n",
              "    </tr>\n",
              "    <tr>\n",
              "      <th>1</th>\n",
              "      <td>Y+gsBZYq1zu5NoR3V5oUGA==</td>\n",
              "      <td>Propiedad</td>\n",
              "      <td>2020-10-07</td>\n",
              "      <td>2021-01-06</td>\n",
              "      <td>2020-10-07</td>\n",
              "      <td>3.3577</td>\n",
              "      <td>-76.541811</td>\n",
              "      <td>Colombia</td>\n",
              "      <td>Valle del Cauca</td>\n",
              "      <td>Cali</td>\n",
              "      <td>...</td>\n",
              "      <td>7.0</td>\n",
              "      <td>NaN</td>\n",
              "      <td>NaN</td>\n",
              "      <td>2.800000e+09</td>\n",
              "      <td>COP</td>\n",
              "      <td>NaN</td>\n",
              "      <td>Casa en ciudsd jardin</td>\n",
              "      <td>Casa independiente con posiciona en ciudad jar...</td>\n",
              "      <td>Casa</td>\n",
              "      <td>Venta</td>\n",
              "    </tr>\n",
              "    <tr>\n",
              "      <th>2</th>\n",
              "      <td>Jpzqxj8/Vgf3Aa5ASxUBNg==</td>\n",
              "      <td>Propiedad</td>\n",
              "      <td>2020-10-07</td>\n",
              "      <td>2020-10-07</td>\n",
              "      <td>2020-10-07</td>\n",
              "      <td>3.3577</td>\n",
              "      <td>-76.541811</td>\n",
              "      <td>Colombia</td>\n",
              "      <td>Valle del Cauca</td>\n",
              "      <td>Cali</td>\n",
              "      <td>...</td>\n",
              "      <td>7.0</td>\n",
              "      <td>NaN</td>\n",
              "      <td>NaN</td>\n",
              "      <td>2.800000e+09</td>\n",
              "      <td>COP</td>\n",
              "      <td>Mensual</td>\n",
              "      <td>Casa en ciudsd jardin</td>\n",
              "      <td>Casa independiente con posiciona en ciudad jar...</td>\n",
              "      <td>Casa</td>\n",
              "      <td>Venta</td>\n",
              "    </tr>\n",
              "    <tr>\n",
              "      <th>3</th>\n",
              "      <td>ieuFnkFx/yHDD66iMV14Gw==</td>\n",
              "      <td>Propiedad</td>\n",
              "      <td>2020-10-07</td>\n",
              "      <td>2021-04-12</td>\n",
              "      <td>2020-10-07</td>\n",
              "      <td>3.3640</td>\n",
              "      <td>-76.538000</td>\n",
              "      <td>Colombia</td>\n",
              "      <td>Valle del Cauca</td>\n",
              "      <td>Cali</td>\n",
              "      <td>...</td>\n",
              "      <td>8.0</td>\n",
              "      <td>NaN</td>\n",
              "      <td>NaN</td>\n",
              "      <td>3.500000e+09</td>\n",
              "      <td>COP</td>\n",
              "      <td>NaN</td>\n",
              "      <td>Casa en venta en pance 1630426</td>\n",
              "      <td>EXCELENTE CASA - LOTE 6,373 MT, EN OBRA GRIS U...</td>\n",
              "      <td>Casa</td>\n",
              "      <td>Venta</td>\n",
              "    </tr>\n",
              "    <tr>\n",
              "      <th>4</th>\n",
              "      <td>g4u5JM+hAHEk8SukRSjMzg==</td>\n",
              "      <td>Propiedad</td>\n",
              "      <td>2020-10-07</td>\n",
              "      <td>9999-12-31</td>\n",
              "      <td>2020-10-07</td>\n",
              "      <td>3.3910</td>\n",
              "      <td>-76.517000</td>\n",
              "      <td>Colombia</td>\n",
              "      <td>Valle del Cauca</td>\n",
              "      <td>Cali</td>\n",
              "      <td>...</td>\n",
              "      <td>9.0</td>\n",
              "      <td>NaN</td>\n",
              "      <td>NaN</td>\n",
              "      <td>4.800000e+08</td>\n",
              "      <td>COP</td>\n",
              "      <td>NaN</td>\n",
              "      <td>CASA EXTERNA BARRIO CIUDAD 2000</td>\n",
              "      <td>CASA EXTERNA EN EL BARRIO CIUDAD 2000,CONSTRUI...</td>\n",
              "      <td>Casa</td>\n",
              "      <td>Venta</td>\n",
              "    </tr>\n",
              "  </tbody>\n",
              "</table>\n",
              "<p>5 rows × 25 columns</p>\n",
              "</div>"
            ],
            "text/plain": [
              "                         id    ad_type  start_date    end_date  created_on  \\\n",
              "0  KsjahK62rxcYKXXQjOdkqw==  Propiedad  2020-10-07  2021-10-09  2020-10-07   \n",
              "1  Y+gsBZYq1zu5NoR3V5oUGA==  Propiedad  2020-10-07  2021-01-06  2020-10-07   \n",
              "2  Jpzqxj8/Vgf3Aa5ASxUBNg==  Propiedad  2020-10-07  2020-10-07  2020-10-07   \n",
              "3  ieuFnkFx/yHDD66iMV14Gw==  Propiedad  2020-10-07  2021-04-12  2020-10-07   \n",
              "4  g4u5JM+hAHEk8SukRSjMzg==  Propiedad  2020-10-07  9999-12-31  2020-10-07   \n",
              "\n",
              "      lat        lon        l1               l2    l3  ... bathrooms  \\\n",
              "0  3.9210 -76.506000  Colombia  Valle del Cauca   NaN  ...       7.0   \n",
              "1  3.3577 -76.541811  Colombia  Valle del Cauca  Cali  ...       7.0   \n",
              "2  3.3577 -76.541811  Colombia  Valle del Cauca  Cali  ...       7.0   \n",
              "3  3.3640 -76.538000  Colombia  Valle del Cauca  Cali  ...       8.0   \n",
              "4  3.3910 -76.517000  Colombia  Valle del Cauca  Cali  ...       9.0   \n",
              "\n",
              "  surface_total surface_covered         price  currency  price_period  \\\n",
              "0           NaN             NaN  1.300000e+09       COP           NaN   \n",
              "1           NaN             NaN  2.800000e+09       COP           NaN   \n",
              "2           NaN             NaN  2.800000e+09       COP       Mensual   \n",
              "3           NaN             NaN  3.500000e+09       COP           NaN   \n",
              "4           NaN             NaN  4.800000e+08       COP           NaN   \n",
              "\n",
              "                                       title  \\\n",
              "0  Casa Campestre en venta en darien 3469064   \n",
              "1                      Casa en ciudsd jardin   \n",
              "2                      Casa en ciudsd jardin   \n",
              "3             Casa en venta en pance 1630426   \n",
              "4            CASA EXTERNA BARRIO CIUDAD 2000   \n",
              "\n",
              "                                         description  property_type  \\\n",
              "0  HERMOSA CASA CAMPESTRE, &Aacute;REA 6,000 MT, ...           Casa   \n",
              "1  Casa independiente con posiciona en ciudad jar...           Casa   \n",
              "2  Casa independiente con posiciona en ciudad jar...           Casa   \n",
              "3  EXCELENTE CASA - LOTE 6,373 MT, EN OBRA GRIS U...           Casa   \n",
              "4  CASA EXTERNA EN EL BARRIO CIUDAD 2000,CONSTRUI...           Casa   \n",
              "\n",
              "  operation_type  \n",
              "0          Venta  \n",
              "1          Venta  \n",
              "2          Venta  \n",
              "3          Venta  \n",
              "4          Venta  \n",
              "\n",
              "[5 rows x 25 columns]"
            ]
          },
          "execution_count": 2,
          "metadata": {},
          "output_type": "execute_result"
        }
      ],
      "source": [
        "propiedades = pd.read_csv('./data/co_properties.csv.zip', compression='zip')\n",
        "propiedades.head()"
      ]
    },
    {
      "cell_type": "code",
      "execution_count": 3,
      "metadata": {},
      "outputs": [],
      "source": [
        "propiedades = propiedades[propiedades.currency=='COP']\n",
        "propiedades = propiedades.dropna(subset='surface_covered')\n",
        "propiedades = propiedades[(propiedades.l3=='Bogotá D.C') &(propiedades.l4=='Zona Noroccidental')]\n",
        "propiedades = propiedades[(propiedades.price<1e9)&(propiedades.surface_covered<500)&(propiedades.price>1e8)]\n",
        "propiedades = propiedades[(propiedades.property_type.isin(['Apartamento','Casa']))]\n",
        "propiedades = propiedades[propiedades.operation_type=='Venta']"
      ]
    },
    {
      "cell_type": "code",
      "execution_count": 4,
      "metadata": {},
      "outputs": [
        {
          "data": {
            "text/plain": [
              "(1451, 25)"
            ]
          },
          "execution_count": 4,
          "metadata": {},
          "output_type": "execute_result"
        }
      ],
      "source": [
        "propiedades.shape"
      ]
    },
    {
      "cell_type": "code",
      "execution_count": 5,
      "metadata": {},
      "outputs": [
        {
          "data": {
            "image/png": "[encoded data removed]",
            "text/plain": [
              "<Figure size 600x600 with 3 Axes>"
            ]
          },
          "metadata": {},
          "output_type": "display_data"
        }
      ],
      "source": [
        "sns.jointplot(data=propiedades,x='surface_covered',y='price');"
      ]
    },
    {
      "cell_type": "code",
      "execution_count": 6,
      "metadata": {},
      "outputs": [],
      "source": [
        "#!pip install statsmodels\n",
        "import statsmodels.api as sm"
      ]
    },
    {
      "cell_type": "code",
      "execution_count": 7,
      "metadata": {},
      "outputs": [],
      "source": [
        "y = propiedades['price']\n",
        "X = propiedades['surface_covered']"
      ]
    },
    {
      "cell_type": "markdown",
      "metadata": {},
      "source": [
        "$$Y = \\beta X$$"
      ]
    },
    {
      "cell_type": "code",
      "execution_count": 9,
      "metadata": {},
      "outputs": [],
      "source": [
        "X = sm.add_constant(X)"
      ]
    },
    {
      "cell_type": "code",
      "execution_count": 10,
      "metadata": {},
      "outputs": [
        {
          "data": {
            "text/html": [
              "<div>\n",
              "<style scoped>\n",
              "    .dataframe tbody tr th:only-of-type {\n",
              "        vertical-align: middle;\n",
              "    }\n",
              "\n",
              "    .dataframe tbody tr th {\n",
              "        vertical-align: top;\n",
              "    }\n",
              "\n",
              "    .dataframe thead th {\n",
              "        text-align: right;\n",
              "    }\n",
              "</style>\n",
              "<table border=\"1\" class=\"dataframe\">\n",
              "  <thead>\n",
              "    <tr style=\"text-align: right;\">\n",
              "      <th></th>\n",
              "      <th>const</th>\n",
              "      <th>surface_covered</th>\n",
              "    </tr>\n",
              "  </thead>\n",
              "  <tbody>\n",
              "    <tr>\n",
              "      <th>873</th>\n",
              "      <td>1.0</td>\n",
              "      <td>63.0</td>\n",
              "    </tr>\n",
              "    <tr>\n",
              "      <th>877</th>\n",
              "      <td>1.0</td>\n",
              "      <td>99.0</td>\n",
              "    </tr>\n",
              "    <tr>\n",
              "      <th>878</th>\n",
              "      <td>1.0</td>\n",
              "      <td>73.0</td>\n",
              "    </tr>\n",
              "    <tr>\n",
              "      <th>1311</th>\n",
              "      <td>1.0</td>\n",
              "      <td>253.0</td>\n",
              "    </tr>\n",
              "    <tr>\n",
              "      <th>5785</th>\n",
              "      <td>1.0</td>\n",
              "      <td>66.0</td>\n",
              "    </tr>\n",
              "    <tr>\n",
              "      <th>...</th>\n",
              "      <td>...</td>\n",
              "      <td>...</td>\n",
              "    </tr>\n",
              "    <tr>\n",
              "      <th>999872</th>\n",
              "      <td>1.0</td>\n",
              "      <td>102.0</td>\n",
              "    </tr>\n",
              "    <tr>\n",
              "      <th>999873</th>\n",
              "      <td>1.0</td>\n",
              "      <td>116.0</td>\n",
              "    </tr>\n",
              "    <tr>\n",
              "      <th>999876</th>\n",
              "      <td>1.0</td>\n",
              "      <td>54.0</td>\n",
              "    </tr>\n",
              "    <tr>\n",
              "      <th>999892</th>\n",
              "      <td>1.0</td>\n",
              "      <td>157.0</td>\n",
              "    </tr>\n",
              "    <tr>\n",
              "      <th>999896</th>\n",
              "      <td>1.0</td>\n",
              "      <td>64.0</td>\n",
              "    </tr>\n",
              "  </tbody>\n",
              "</table>\n",
              "<p>1451 rows × 2 columns</p>\n",
              "</div>"
            ],
            "text/plain": [
              "        const  surface_covered\n",
              "873       1.0             63.0\n",
              "877       1.0             99.0\n",
              "878       1.0             73.0\n",
              "1311      1.0            253.0\n",
              "5785      1.0             66.0\n",
              "...       ...              ...\n",
              "999872    1.0            102.0\n",
              "999873    1.0            116.0\n",
              "999876    1.0             54.0\n",
              "999892    1.0            157.0\n",
              "999896    1.0             64.0\n",
              "\n",
              "[1451 rows x 2 columns]"
            ]
          },
          "execution_count": 10,
          "metadata": {},
          "output_type": "execute_result"
        }
      ],
      "source": [
        "X"
      ]
    },
    {
      "cell_type": "code",
      "execution_count": 11,
      "metadata": {},
      "outputs": [],
      "source": [
        "#OLS -> Regresión (Ordinary Least Squares - Mínimos Cuadrados Ordinarios)\n",
        "modelo1 = sm.OLS(endog = y, exog = X)"
      ]
    },
    {
      "cell_type": "code",
      "execution_count": 12,
      "metadata": {},
      "outputs": [],
      "source": [
        "# Entrenamos\n",
        "resultado1 = modelo1.fit()"
      ]
    },
    {
      "cell_type": "code",
      "execution_count": 13,
      "metadata": {},
      "outputs": [
        {
          "data": {
            "text/plain": [
              "statsmodels.regression.linear_model.RegressionResultsWrapper"
            ]
          },
          "execution_count": 13,
          "metadata": {},
          "output_type": "execute_result"
        }
      ],
      "source": [
        "type(resultado1)"
      ]
    },
    {
      "cell_type": "markdown",
      "metadata": {},
      "source": [
        "$y=\\alpha + \\beta X$"
      ]
    },
    {
      "cell_type": "code",
      "execution_count": 14,
      "metadata": {},
      "outputs": [
        {
          "data": {
            "text/html": [
              "<table class=\"simpletable\">\n",
              "<caption>OLS Regression Results</caption>\n",
              "<tr>\n",
              "  <th>Dep. Variable:</th>          <td>price</td>      <th>  R-squared:         </th> <td>   0.675</td> \n",
              "</tr>\n",
              "<tr>\n",
              "  <th>Model:</th>                   <td>OLS</td>       <th>  Adj. R-squared:    </th> <td>   0.674</td> \n",
              "</tr>\n",
              "<tr>\n",
              "  <th>Method:</th>             <td>Least Squares</td>  <th>  F-statistic:       </th> <td>   3004.</td> \n",
              "</tr>\n",
              "<tr>\n",
              "  <th>Date:</th>             <td>Tue, 05 Aug 2025</td> <th>  Prob (F-statistic):</th>  <td>  0.00</td>  \n",
              "</tr>\n",
              "<tr>\n",
              "  <th>Time:</th>                 <td>19:08:45</td>     <th>  Log-Likelihood:    </th> <td> -29183.</td> \n",
              "</tr>\n",
              "<tr>\n",
              "  <th>No. Observations:</th>      <td>  1451</td>      <th>  AIC:               </th> <td>5.837e+04</td>\n",
              "</tr>\n",
              "<tr>\n",
              "  <th>Df Residuals:</th>          <td>  1449</td>      <th>  BIC:               </th> <td>5.838e+04</td>\n",
              "</tr>\n",
              "<tr>\n",
              "  <th>Df Model:</th>              <td>     1</td>      <th>                     </th>     <td> </td>    \n",
              "</tr>\n",
              "<tr>\n",
              "  <th>Covariance Type:</th>      <td>nonrobust</td>    <th>                     </th>     <td> </td>    \n",
              "</tr>\n",
              "</table>\n",
              "<table class=\"simpletable\">\n",
              "<tr>\n",
              "         <td></td>            <th>coef</th>     <th>std err</th>      <th>t</th>      <th>P>|t|</th>  <th>[0.025</th>    <th>0.975]</th>  \n",
              "</tr>\n",
              "<tr>\n",
              "  <th>const</th>           <td> 1.272e+08</td> <td> 7.07e+06</td> <td>   17.993</td> <td> 0.000</td> <td> 1.13e+08</td> <td> 1.41e+08</td>\n",
              "</tr>\n",
              "<tr>\n",
              "  <th>surface_covered</th> <td> 3.175e+06</td> <td> 5.79e+04</td> <td>   54.806</td> <td> 0.000</td> <td> 3.06e+06</td> <td> 3.29e+06</td>\n",
              "</tr>\n",
              "</table>\n",
              "<table class=\"simpletable\">\n",
              "<tr>\n",
              "  <th>Omnibus:</th>       <td>107.232</td> <th>  Durbin-Watson:     </th> <td>   1.867</td>\n",
              "</tr>\n",
              "<tr>\n",
              "  <th>Prob(Omnibus):</th> <td> 0.000</td>  <th>  Jarque-Bera (JB):  </th> <td> 373.435</td>\n",
              "</tr>\n",
              "<tr>\n",
              "  <th>Skew:</th>          <td> 0.299</td>  <th>  Prob(JB):          </th> <td>8.12e-82</td>\n",
              "</tr>\n",
              "<tr>\n",
              "  <th>Kurtosis:</th>      <td> 5.413</td>  <th>  Cond. No.          </th> <td>    250.</td>\n",
              "</tr>\n",
              "</table><br/><br/>Notes:<br/>[1] Standard Errors assume that the covariance matrix of the errors is correctly specified."
            ],
            "text/latex": [
              "\\begin{center}\n",
              "\\begin{tabular}{lclc}\n",
              "\\toprule\n",
              "\\textbf{Dep. Variable:}    &      price       & \\textbf{  R-squared:         } &     0.675   \\\\\n",
              "\\textbf{Model:}            &       OLS        & \\textbf{  Adj. R-squared:    } &     0.674   \\\\\n",
              "\\textbf{Method:}           &  Least Squares   & \\textbf{  F-statistic:       } &     3004.   \\\\\n",
              "\\textbf{Date:}             & Tue, 05 Aug 2025 & \\textbf{  Prob (F-statistic):} &     0.00    \\\\\n",
              "\\textbf{Time:}             &     19:08:45     & \\textbf{  Log-Likelihood:    } &   -29183.   \\\\\n",
              "\\textbf{No. Observations:} &        1451      & \\textbf{  AIC:               } & 5.837e+04   \\\\\n",
              "\\textbf{Df Residuals:}     &        1449      & \\textbf{  BIC:               } & 5.838e+04   \\\\\n",
              "\\textbf{Df Model:}         &           1      & \\textbf{                     } &             \\\\\n",
              "\\textbf{Covariance Type:}  &    nonrobust     & \\textbf{                     } &             \\\\\n",
              "\\bottomrule\n",
              "\\end{tabular}\n",
              "\\begin{tabular}{lcccccc}\n",
              "                          & \\textbf{coef} & \\textbf{std err} & \\textbf{t} & \\textbf{P$> |$t$|$} & \\textbf{[0.025} & \\textbf{0.975]}  \\\\\n",
              "\\midrule\n",
              "\\textbf{const}            &    1.272e+08  &     7.07e+06     &    17.993  &         0.000        &     1.13e+08    &     1.41e+08     \\\\\n",
              "\\textbf{surface\\_covered} &    3.175e+06  &     5.79e+04     &    54.806  &         0.000        &     3.06e+06    &     3.29e+06     \\\\\n",
              "\\bottomrule\n",
              "\\end{tabular}\n",
              "\\begin{tabular}{lclc}\n",
              "\\textbf{Omnibus:}       & 107.232 & \\textbf{  Durbin-Watson:     } &    1.867  \\\\\n",
              "\\textbf{Prob(Omnibus):} &   0.000 & \\textbf{  Jarque-Bera (JB):  } &  373.435  \\\\\n",
              "\\textbf{Skew:}          &   0.299 & \\textbf{  Prob(JB):          } & 8.12e-82  \\\\\n",
              "\\textbf{Kurtosis:}      &   5.413 & \\textbf{  Cond. No.          } &     250.  \\\\\n",
              "\\bottomrule\n",
              "\\end{tabular}\n",
              "%\\caption{OLS Regression Results}\n",
              "\\end{center}\n",
              "\n",
              "Notes: \\newline\n",
              " [1] Standard Errors assume that the covariance matrix of the errors is correctly specified."
            ],
            "text/plain": [
              "<class 'statsmodels.iolib.summary.Summary'>\n",
              "\"\"\"\n",
              "                            OLS Regression Results                            \n",
              "==============================================================================\n",
              "Dep. Variable:                  price   R-squared:                       0.675\n",
              "Model:                            OLS   Adj. R-squared:                  0.674\n",
              "Method:                 Least Squares   F-statistic:                     3004.\n",
              "Date:                Tue, 05 Aug 2025   Prob (F-statistic):               0.00\n",
              "Time:                        19:08:45   Log-Likelihood:                -29183.\n",
              "No. Observations:                1451   AIC:                         5.837e+04\n",
              "Df Residuals:                    1449   BIC:                         5.838e+04\n",
              "Df Model:                           1                                         \n",
              "Covariance Type:            nonrobust                                         \n",
              "===================================================================================\n",
              "                      coef    std err          t      P>|t|      [0.025      0.975]\n",
              "-----------------------------------------------------------------------------------\n",
              "const            1.272e+08   7.07e+06     17.993      0.000    1.13e+08    1.41e+08\n",
              "surface_covered  3.175e+06   5.79e+04     54.806      0.000    3.06e+06    3.29e+06\n",
              "==============================================================================\n",
              "Omnibus:                      107.232   Durbin-Watson:                   1.867\n",
              "Prob(Omnibus):                  0.000   Jarque-Bera (JB):              373.435\n",
              "Skew:                           0.299   Prob(JB):                     8.12e-82\n",
              "Kurtosis:                       5.413   Cond. No.                         250.\n",
              "==============================================================================\n",
              "\n",
              "Notes:\n",
              "[1] Standard Errors assume that the covariance matrix of the errors is correctly specified.\n",
              "\"\"\""
            ]
          },
          "execution_count": 14,
          "metadata": {},
          "output_type": "execute_result"
        }
      ],
      "source": [
        "resultado1.summary()"
      ]
    },
    {
      "cell_type": "markdown",
      "metadata": {},
      "source": [
        "$$precio = \\alpha + \\beta*surface\\_covered$$"
      ]
    },
    {
      "cell_type": "code",
      "execution_count": 16,
      "metadata": {},
      "outputs": [
        {
          "data": {
            "text/plain": [
              "const              1.272343e+08\n",
              "surface_covered    3.174664e+06\n",
              "dtype: float64"
            ]
          },
          "execution_count": 16,
          "metadata": {},
          "output_type": "execute_result"
        }
      ],
      "source": [
        "resultado1.params"
      ]
    },
    {
      "cell_type": "code",
      "execution_count": 20,
      "metadata": {},
      "outputs": [
        {
          "name": "stdout",
          "output_type": "stream",
          "text": [
            "alpha: 127234267.21612254, beta: $3,174,664.2054982055\n"
          ]
        }
      ],
      "source": [
        "alpha = resultado1.params['const']\n",
        "beta_surface_covered = resultado1.params['surface_covered']\n",
        "print(f'alpha: {alpha}, beta: ${beta_surface_covered:,}')"
      ]
    },
    {
      "cell_type": "code",
      "execution_count": 21,
      "metadata": {},
      "outputs": [
        {
          "data": {
            "text/plain": [
              "406604717.29996467"
            ]
          },
          "execution_count": 21,
          "metadata": {},
          "output_type": "execute_result"
        }
      ],
      "source": [
        "superficie = 88\n",
        "precio = float(alpha+beta_surface_covered*superficie)\n",
        "precio"
      ]
    },
    {
      "cell_type": "code",
      "execution_count": 22,
      "metadata": {},
      "outputs": [],
      "source": [
        "# Construyamos el ajuste dentro de muestra\n",
        "y_hat = resultado1.predict()"
      ]
    },
    {
      "cell_type": "code",
      "execution_count": 23,
      "metadata": {},
      "outputs": [
        {
          "data": {
            "text/plain": [
              "array([3.27238112e+08, 4.41526024e+08, 3.58984754e+08, ...,\n",
              "       2.98666134e+08, 6.25656547e+08, 3.30412776e+08])"
            ]
          },
          "execution_count": 23,
          "metadata": {},
          "output_type": "execute_result"
        }
      ],
      "source": [
        "y_hat"
      ]
    },
    {
      "cell_type": "code",
      "execution_count": 24,
      "metadata": {},
      "outputs": [
        {
          "data": {
            "text/html": [
              "<div>\n",
              "<style scoped>\n",
              "    .dataframe tbody tr th:only-of-type {\n",
              "        vertical-align: middle;\n",
              "    }\n",
              "\n",
              "    .dataframe tbody tr th {\n",
              "        vertical-align: top;\n",
              "    }\n",
              "\n",
              "    .dataframe thead th {\n",
              "        text-align: right;\n",
              "    }\n",
              "</style>\n",
              "<table border=\"1\" class=\"dataframe\">\n",
              "  <thead>\n",
              "    <tr style=\"text-align: right;\">\n",
              "      <th></th>\n",
              "      <th>const</th>\n",
              "      <th>surface_covered</th>\n",
              "    </tr>\n",
              "  </thead>\n",
              "  <tbody>\n",
              "    <tr>\n",
              "      <th>873</th>\n",
              "      <td>1.0</td>\n",
              "      <td>63.0</td>\n",
              "    </tr>\n",
              "    <tr>\n",
              "      <th>877</th>\n",
              "      <td>1.0</td>\n",
              "      <td>99.0</td>\n",
              "    </tr>\n",
              "    <tr>\n",
              "      <th>878</th>\n",
              "      <td>1.0</td>\n",
              "      <td>73.0</td>\n",
              "    </tr>\n",
              "    <tr>\n",
              "      <th>1311</th>\n",
              "      <td>1.0</td>\n",
              "      <td>253.0</td>\n",
              "    </tr>\n",
              "    <tr>\n",
              "      <th>5785</th>\n",
              "      <td>1.0</td>\n",
              "      <td>66.0</td>\n",
              "    </tr>\n",
              "    <tr>\n",
              "      <th>...</th>\n",
              "      <td>...</td>\n",
              "      <td>...</td>\n",
              "    </tr>\n",
              "    <tr>\n",
              "      <th>999872</th>\n",
              "      <td>1.0</td>\n",
              "      <td>102.0</td>\n",
              "    </tr>\n",
              "    <tr>\n",
              "      <th>999873</th>\n",
              "      <td>1.0</td>\n",
              "      <td>116.0</td>\n",
              "    </tr>\n",
              "    <tr>\n",
              "      <th>999876</th>\n",
              "      <td>1.0</td>\n",
              "      <td>54.0</td>\n",
              "    </tr>\n",
              "    <tr>\n",
              "      <th>999892</th>\n",
              "      <td>1.0</td>\n",
              "      <td>157.0</td>\n",
              "    </tr>\n",
              "    <tr>\n",
              "      <th>999896</th>\n",
              "      <td>1.0</td>\n",
              "      <td>64.0</td>\n",
              "    </tr>\n",
              "  </tbody>\n",
              "</table>\n",
              "<p>1451 rows × 2 columns</p>\n",
              "</div>"
            ],
            "text/plain": [
              "        const  surface_covered\n",
              "873       1.0             63.0\n",
              "877       1.0             99.0\n",
              "878       1.0             73.0\n",
              "1311      1.0            253.0\n",
              "5785      1.0             66.0\n",
              "...       ...              ...\n",
              "999872    1.0            102.0\n",
              "999873    1.0            116.0\n",
              "999876    1.0             54.0\n",
              "999892    1.0            157.0\n",
              "999896    1.0             64.0\n",
              "\n",
              "[1451 rows x 2 columns]"
            ]
          },
          "execution_count": 24,
          "metadata": {},
          "output_type": "execute_result"
        }
      ],
      "source": [
        "X"
      ]
    },
    {
      "cell_type": "code",
      "execution_count": 25,
      "metadata": {},
      "outputs": [
        {
          "data": {
            "text/html": [
              "<div>\n",
              "<style scoped>\n",
              "    .dataframe tbody tr th:only-of-type {\n",
              "        vertical-align: middle;\n",
              "    }\n",
              "\n",
              "    .dataframe tbody tr th {\n",
              "        vertical-align: top;\n",
              "    }\n",
              "\n",
              "    .dataframe thead th {\n",
              "        text-align: right;\n",
              "    }\n",
              "</style>\n",
              "<table border=\"1\" class=\"dataframe\">\n",
              "  <thead>\n",
              "    <tr style=\"text-align: right;\">\n",
              "      <th></th>\n",
              "      <th>const</th>\n",
              "      <th>surface_covered</th>\n",
              "      <th>y_pred</th>\n",
              "      <th>y_real</th>\n",
              "    </tr>\n",
              "  </thead>\n",
              "  <tbody>\n",
              "    <tr>\n",
              "      <th>873</th>\n",
              "      <td>1.0</td>\n",
              "      <td>63.0</td>\n",
              "      <td>3.272381e+08</td>\n",
              "      <td>175000000.0</td>\n",
              "    </tr>\n",
              "    <tr>\n",
              "      <th>877</th>\n",
              "      <td>1.0</td>\n",
              "      <td>99.0</td>\n",
              "      <td>4.415260e+08</td>\n",
              "      <td>190000000.0</td>\n",
              "    </tr>\n",
              "    <tr>\n",
              "      <th>878</th>\n",
              "      <td>1.0</td>\n",
              "      <td>73.0</td>\n",
              "      <td>3.589848e+08</td>\n",
              "      <td>320000000.0</td>\n",
              "    </tr>\n",
              "    <tr>\n",
              "      <th>1311</th>\n",
              "      <td>1.0</td>\n",
              "      <td>253.0</td>\n",
              "      <td>9.304243e+08</td>\n",
              "      <td>800000000.0</td>\n",
              "    </tr>\n",
              "    <tr>\n",
              "      <th>5785</th>\n",
              "      <td>1.0</td>\n",
              "      <td>66.0</td>\n",
              "      <td>3.367621e+08</td>\n",
              "      <td>237000000.0</td>\n",
              "    </tr>\n",
              "    <tr>\n",
              "      <th>...</th>\n",
              "      <td>...</td>\n",
              "      <td>...</td>\n",
              "      <td>...</td>\n",
              "      <td>...</td>\n",
              "    </tr>\n",
              "    <tr>\n",
              "      <th>999872</th>\n",
              "      <td>1.0</td>\n",
              "      <td>102.0</td>\n",
              "      <td>4.510500e+08</td>\n",
              "      <td>500000000.0</td>\n",
              "    </tr>\n",
              "    <tr>\n",
              "      <th>999873</th>\n",
              "      <td>1.0</td>\n",
              "      <td>116.0</td>\n",
              "      <td>4.954953e+08</td>\n",
              "      <td>657588050.0</td>\n",
              "    </tr>\n",
              "    <tr>\n",
              "      <th>999876</th>\n",
              "      <td>1.0</td>\n",
              "      <td>54.0</td>\n",
              "      <td>2.986661e+08</td>\n",
              "      <td>360000000.0</td>\n",
              "    </tr>\n",
              "    <tr>\n",
              "      <th>999892</th>\n",
              "      <td>1.0</td>\n",
              "      <td>157.0</td>\n",
              "      <td>6.256565e+08</td>\n",
              "      <td>590000000.0</td>\n",
              "    </tr>\n",
              "    <tr>\n",
              "      <th>999896</th>\n",
              "      <td>1.0</td>\n",
              "      <td>64.0</td>\n",
              "      <td>3.304128e+08</td>\n",
              "      <td>189000000.0</td>\n",
              "    </tr>\n",
              "  </tbody>\n",
              "</table>\n",
              "<p>1451 rows × 4 columns</p>\n",
              "</div>"
            ],
            "text/plain": [
              "        const  surface_covered        y_pred       y_real\n",
              "873       1.0             63.0  3.272381e+08  175000000.0\n",
              "877       1.0             99.0  4.415260e+08  190000000.0\n",
              "878       1.0             73.0  3.589848e+08  320000000.0\n",
              "1311      1.0            253.0  9.304243e+08  800000000.0\n",
              "5785      1.0             66.0  3.367621e+08  237000000.0\n",
              "...       ...              ...           ...          ...\n",
              "999872    1.0            102.0  4.510500e+08  500000000.0\n",
              "999873    1.0            116.0  4.954953e+08  657588050.0\n",
              "999876    1.0             54.0  2.986661e+08  360000000.0\n",
              "999892    1.0            157.0  6.256565e+08  590000000.0\n",
              "999896    1.0             64.0  3.304128e+08  189000000.0\n",
              "\n",
              "[1451 rows x 4 columns]"
            ]
          },
          "execution_count": 25,
          "metadata": {},
          "output_type": "execute_result"
        }
      ],
      "source": [
        "prediccion = X.copy()\n",
        "prediccion['y_pred'] = y_hat\n",
        "prediccion['y_real'] = y\n",
        "prediccion"
      ]
    },
    {
      "cell_type": "code",
      "execution_count": 26,
      "metadata": {},
      "outputs": [],
      "source": [
        "import seaborn as sns"
      ]
    },
    {
      "cell_type": "code",
      "execution_count": 27,
      "metadata": {},
      "outputs": [
        {
          "data": {
            "text/plain": [
              "Text(0, 0.5, 'Precio (COP)')"
            ]
          },
          "execution_count": 27,
          "metadata": {},
          "output_type": "execute_result"
        },
        {
          "data": {
            "image/png": "[encoded data removed]",
            "text/plain": [
              "<Figure size 1000x600 with 1 Axes>"
            ]
          },
          "metadata": {},
          "output_type": "display_data"
        }
      ],
      "source": [
        "# Gráfico automático\n",
        "fig, ax = plt.subplots(figsize = (10, 6))\n",
        "sns.regplot(x = \"surface_covered\", y = \"price\", data = propiedades, ax = ax,\n",
        "            scatter_kws = {\"color\": \"darkblue\", \"s\": 3}, \n",
        "            line_kws = {\"color\": \"red\", \"linestyle\": \"--\", \"linewidth\": 1})\n",
        "plt.legend([\"Real\", \"Predicho\", \"Intervalo de Confianza\"])\n",
        "plt.xlabel(\"Superficie ($m^2$)\")\n",
        "plt.ylabel(\"Precio (COP)\")"
      ]
    },
    {
      "cell_type": "code",
      "execution_count": 28,
      "metadata": {},
      "outputs": [
        {
          "data": {
            "text/html": [
              "<div>\n",
              "<style scoped>\n",
              "    .dataframe tbody tr th:only-of-type {\n",
              "        vertical-align: middle;\n",
              "    }\n",
              "\n",
              "    .dataframe tbody tr th {\n",
              "        vertical-align: top;\n",
              "    }\n",
              "\n",
              "    .dataframe thead th {\n",
              "        text-align: right;\n",
              "    }\n",
              "</style>\n",
              "<table border=\"1\" class=\"dataframe\">\n",
              "  <thead>\n",
              "    <tr style=\"text-align: right;\">\n",
              "      <th></th>\n",
              "      <th>surface_covered</th>\n",
              "    </tr>\n",
              "  </thead>\n",
              "  <tbody>\n",
              "    <tr>\n",
              "      <th>0</th>\n",
              "      <td>376</td>\n",
              "    </tr>\n",
              "    <tr>\n",
              "      <th>1</th>\n",
              "      <td>400</td>\n",
              "    </tr>\n",
              "    <tr>\n",
              "      <th>2</th>\n",
              "      <td>57</td>\n",
              "    </tr>\n",
              "    <tr>\n",
              "      <th>3</th>\n",
              "      <td>152</td>\n",
              "    </tr>\n",
              "    <tr>\n",
              "      <th>4</th>\n",
              "      <td>88</td>\n",
              "    </tr>\n",
              "    <tr>\n",
              "      <th>5</th>\n",
              "      <td>45</td>\n",
              "    </tr>\n",
              "  </tbody>\n",
              "</table>\n",
              "</div>"
            ],
            "text/plain": [
              "   surface_covered\n",
              "0              376\n",
              "1              400\n",
              "2               57\n",
              "3              152\n",
              "4               88\n",
              "5               45"
            ]
          },
          "execution_count": 28,
          "metadata": {},
          "output_type": "execute_result"
        }
      ],
      "source": [
        "prueba = pd.DataFrame({'surface_covered':[376,400,57,152,88,45]})\n",
        "prueba"
      ]
    },
    {
      "cell_type": "code",
      "execution_count": null,
      "metadata": {},
      "outputs": [],
      "source": [
        "X"
      ]
    },
    {
      "cell_type": "code",
      "execution_count": 29,
      "metadata": {},
      "outputs": [
        {
          "data": {
            "text/html": [
              "<div>\n",
              "<style scoped>\n",
              "    .dataframe tbody tr th:only-of-type {\n",
              "        vertical-align: middle;\n",
              "    }\n",
              "\n",
              "    .dataframe tbody tr th {\n",
              "        vertical-align: top;\n",
              "    }\n",
              "\n",
              "    .dataframe thead th {\n",
              "        text-align: right;\n",
              "    }\n",
              "</style>\n",
              "<table border=\"1\" class=\"dataframe\">\n",
              "  <thead>\n",
              "    <tr style=\"text-align: right;\">\n",
              "      <th></th>\n",
              "      <th>const</th>\n",
              "      <th>surface_covered</th>\n",
              "    </tr>\n",
              "  </thead>\n",
              "  <tbody>\n",
              "    <tr>\n",
              "      <th>0</th>\n",
              "      <td>1.0</td>\n",
              "      <td>376</td>\n",
              "    </tr>\n",
              "    <tr>\n",
              "      <th>1</th>\n",
              "      <td>1.0</td>\n",
              "      <td>400</td>\n",
              "    </tr>\n",
              "    <tr>\n",
              "      <th>2</th>\n",
              "      <td>1.0</td>\n",
              "      <td>57</td>\n",
              "    </tr>\n",
              "    <tr>\n",
              "      <th>3</th>\n",
              "      <td>1.0</td>\n",
              "      <td>152</td>\n",
              "    </tr>\n",
              "    <tr>\n",
              "      <th>4</th>\n",
              "      <td>1.0</td>\n",
              "      <td>88</td>\n",
              "    </tr>\n",
              "    <tr>\n",
              "      <th>5</th>\n",
              "      <td>1.0</td>\n",
              "      <td>45</td>\n",
              "    </tr>\n",
              "  </tbody>\n",
              "</table>\n",
              "</div>"
            ],
            "text/plain": [
              "   const  surface_covered\n",
              "0    1.0              376\n",
              "1    1.0              400\n",
              "2    1.0               57\n",
              "3    1.0              152\n",
              "4    1.0               88\n",
              "5    1.0               45"
            ]
          },
          "execution_count": 29,
          "metadata": {},
          "output_type": "execute_result"
        }
      ],
      "source": [
        "prueba = sm.add_constant(prueba)\n",
        "prueba"
      ]
    },
    {
      "cell_type": "code",
      "execution_count": 30,
      "metadata": {},
      "outputs": [
        {
          "data": {
            "text/plain": [
              "0    1.320908e+09\n",
              "1    1.397100e+09\n",
              "2    3.081901e+08\n",
              "3    6.097832e+08\n",
              "4    4.066047e+08\n",
              "5    2.700942e+08\n",
              "dtype: float64"
            ]
          },
          "execution_count": 30,
          "metadata": {},
          "output_type": "execute_result"
        }
      ],
      "source": [
        "resultado1.predict(exog=prueba)"
      ]
    },
    {
      "cell_type": "code",
      "execution_count": 31,
      "metadata": {},
      "outputs": [],
      "source": [
        "prueba['precio'] = resultado1.predict(exog=prueba)"
      ]
    },
    {
      "cell_type": "code",
      "execution_count": 32,
      "metadata": {},
      "outputs": [
        {
          "data": {
            "text/html": [
              "<div>\n",
              "<style scoped>\n",
              "    .dataframe tbody tr th:only-of-type {\n",
              "        vertical-align: middle;\n",
              "    }\n",
              "\n",
              "    .dataframe tbody tr th {\n",
              "        vertical-align: top;\n",
              "    }\n",
              "\n",
              "    .dataframe thead th {\n",
              "        text-align: right;\n",
              "    }\n",
              "</style>\n",
              "<table border=\"1\" class=\"dataframe\">\n",
              "  <thead>\n",
              "    <tr style=\"text-align: right;\">\n",
              "      <th></th>\n",
              "      <th>const</th>\n",
              "      <th>surface_covered</th>\n",
              "      <th>precio</th>\n",
              "    </tr>\n",
              "  </thead>\n",
              "  <tbody>\n",
              "    <tr>\n",
              "      <th>0</th>\n",
              "      <td>1.0</td>\n",
              "      <td>376</td>\n",
              "      <td>1.320908e+09</td>\n",
              "    </tr>\n",
              "    <tr>\n",
              "      <th>1</th>\n",
              "      <td>1.0</td>\n",
              "      <td>400</td>\n",
              "      <td>1.397100e+09</td>\n",
              "    </tr>\n",
              "    <tr>\n",
              "      <th>2</th>\n",
              "      <td>1.0</td>\n",
              "      <td>57</td>\n",
              "      <td>3.081901e+08</td>\n",
              "    </tr>\n",
              "    <tr>\n",
              "      <th>3</th>\n",
              "      <td>1.0</td>\n",
              "      <td>152</td>\n",
              "      <td>6.097832e+08</td>\n",
              "    </tr>\n",
              "    <tr>\n",
              "      <th>4</th>\n",
              "      <td>1.0</td>\n",
              "      <td>88</td>\n",
              "      <td>4.066047e+08</td>\n",
              "    </tr>\n",
              "    <tr>\n",
              "      <th>5</th>\n",
              "      <td>1.0</td>\n",
              "      <td>45</td>\n",
              "      <td>2.700942e+08</td>\n",
              "    </tr>\n",
              "  </tbody>\n",
              "</table>\n",
              "</div>"
            ],
            "text/plain": [
              "   const  surface_covered        precio\n",
              "0    1.0              376  1.320908e+09\n",
              "1    1.0              400  1.397100e+09\n",
              "2    1.0               57  3.081901e+08\n",
              "3    1.0              152  6.097832e+08\n",
              "4    1.0               88  4.066047e+08\n",
              "5    1.0               45  2.700942e+08"
            ]
          },
          "execution_count": 32,
          "metadata": {},
          "output_type": "execute_result"
        }
      ],
      "source": [
        "prueba"
      ]
    },
    {
      "cell_type": "code",
      "execution_count": 33,
      "metadata": {},
      "outputs": [
        {
          "data": {
            "text/plain": [
              "<Axes: xlabel='surface_covered', ylabel='precio'>"
            ]
          },
          "execution_count": 33,
          "metadata": {},
          "output_type": "execute_result"
        },
        {
          "data": {
            "image/png": "[encoded data removed]",
            "text/plain": [
              "<Figure size 640x480 with 1 Axes>"
            ]
          },
          "metadata": {},
          "output_type": "display_data"
        }
      ],
      "source": [
        "prueba.plot(kind='scatter',x='surface_covered',y='precio')"
      ]
    },
    {
      "cell_type": "markdown",
      "metadata": {},
      "source": [
        "### Regresión multilineal"
      ]
    },
    {
      "cell_type": "code",
      "execution_count": 34,
      "metadata": {},
      "outputs": [
        {
          "data": {
            "text/html": [
              "<div>\n",
              "<style scoped>\n",
              "    .dataframe tbody tr th:only-of-type {\n",
              "        vertical-align: middle;\n",
              "    }\n",
              "\n",
              "    .dataframe tbody tr th {\n",
              "        vertical-align: top;\n",
              "    }\n",
              "\n",
              "    .dataframe thead th {\n",
              "        text-align: right;\n",
              "    }\n",
              "</style>\n",
              "<table border=\"1\" class=\"dataframe\">\n",
              "  <thead>\n",
              "    <tr style=\"text-align: right;\">\n",
              "      <th></th>\n",
              "      <th>id</th>\n",
              "      <th>ad_type</th>\n",
              "      <th>start_date</th>\n",
              "      <th>end_date</th>\n",
              "      <th>created_on</th>\n",
              "      <th>lat</th>\n",
              "      <th>lon</th>\n",
              "      <th>l1</th>\n",
              "      <th>l2</th>\n",
              "      <th>l3</th>\n",
              "      <th>...</th>\n",
              "      <th>bathrooms</th>\n",
              "      <th>surface_total</th>\n",
              "      <th>surface_covered</th>\n",
              "      <th>price</th>\n",
              "      <th>currency</th>\n",
              "      <th>price_period</th>\n",
              "      <th>title</th>\n",
              "      <th>description</th>\n",
              "      <th>property_type</th>\n",
              "      <th>operation_type</th>\n",
              "    </tr>\n",
              "  </thead>\n",
              "  <tbody>\n",
              "    <tr>\n",
              "      <th>873</th>\n",
              "      <td>LeDYJXiMia9tMWFQtqnb5A==</td>\n",
              "      <td>Propiedad</td>\n",
              "      <td>2020-10-07</td>\n",
              "      <td>2020-10-09</td>\n",
              "      <td>2020-10-07</td>\n",
              "      <td>4.753</td>\n",
              "      <td>-74.112</td>\n",
              "      <td>Colombia</td>\n",
              "      <td>Cundinamarca</td>\n",
              "      <td>Bogotá D.C</td>\n",
              "      <td>...</td>\n",
              "      <td>2.0</td>\n",
              "      <td>63.0</td>\n",
              "      <td>63.0</td>\n",
              "      <td>175000000.0</td>\n",
              "      <td>COP</td>\n",
              "      <td>NaN</td>\n",
              "      <td>Casa En Venta En Bogota Fontanar Cod. VOJL-705</td>\n",
              "      <td>Oportunidad, se vende linda casa ubicada en el...</td>\n",
              "      <td>Casa</td>\n",
              "      <td>Venta</td>\n",
              "    </tr>\n",
              "    <tr>\n",
              "      <th>877</th>\n",
              "      <td>rTWBhITwkoVLuJEmcrPYzw==</td>\n",
              "      <td>Propiedad</td>\n",
              "      <td>2020-10-07</td>\n",
              "      <td>2020-10-09</td>\n",
              "      <td>2020-10-07</td>\n",
              "      <td>4.748</td>\n",
              "      <td>-74.111</td>\n",
              "      <td>Colombia</td>\n",
              "      <td>Cundinamarca</td>\n",
              "      <td>Bogotá D.C</td>\n",
              "      <td>...</td>\n",
              "      <td>2.0</td>\n",
              "      <td>NaN</td>\n",
              "      <td>99.0</td>\n",
              "      <td>190000000.0</td>\n",
              "      <td>COP</td>\n",
              "      <td>NaN</td>\n",
              "      <td>Casa En Venta En Bogota Suba - Sabana De Tibab...</td>\n",
              "      <td>VENTA CASA SABANA DE TIBABUYES. TRES NIVELES. ...</td>\n",
              "      <td>Casa</td>\n",
              "      <td>Venta</td>\n",
              "    </tr>\n",
              "    <tr>\n",
              "      <th>878</th>\n",
              "      <td>5ECazs7zG/qD+ha0DPFmJg==</td>\n",
              "      <td>Propiedad</td>\n",
              "      <td>2020-10-07</td>\n",
              "      <td>2020-10-09</td>\n",
              "      <td>2020-10-07</td>\n",
              "      <td>4.739</td>\n",
              "      <td>-74.062</td>\n",
              "      <td>Colombia</td>\n",
              "      <td>Cundinamarca</td>\n",
              "      <td>Bogotá D.C</td>\n",
              "      <td>...</td>\n",
              "      <td>2.0</td>\n",
              "      <td>NaN</td>\n",
              "      <td>73.0</td>\n",
              "      <td>320000000.0</td>\n",
              "      <td>COP</td>\n",
              "      <td>NaN</td>\n",
              "      <td>Casa En Venta En Bogota Colina Campestre I Y I...</td>\n",
              "      <td>Vendo Casa ubicada en la Colina Campestre en C...</td>\n",
              "      <td>Casa</td>\n",
              "      <td>Venta</td>\n",
              "    </tr>\n",
              "    <tr>\n",
              "      <th>1311</th>\n",
              "      <td>O5CICDjlRoAWsEA7FcsvLw==</td>\n",
              "      <td>Propiedad</td>\n",
              "      <td>2020-10-07</td>\n",
              "      <td>2020-10-16</td>\n",
              "      <td>2020-10-07</td>\n",
              "      <td>4.703</td>\n",
              "      <td>-74.057</td>\n",
              "      <td>Colombia</td>\n",
              "      <td>Cundinamarca</td>\n",
              "      <td>Bogotá D.C</td>\n",
              "      <td>...</td>\n",
              "      <td>3.0</td>\n",
              "      <td>175.0</td>\n",
              "      <td>253.0</td>\n",
              "      <td>800000000.0</td>\n",
              "      <td>COP</td>\n",
              "      <td>NaN</td>\n",
              "      <td>Casa En Venta En Bogota Malibu Cod. VREI-16827</td>\n",
              "      <td>Amplios espacios y ampliaciones a travs de los...</td>\n",
              "      <td>Casa</td>\n",
              "      <td>Venta</td>\n",
              "    </tr>\n",
              "    <tr>\n",
              "      <th>5785</th>\n",
              "      <td>fi4KyahrC8882wsqpajP9Q==</td>\n",
              "      <td>Propiedad</td>\n",
              "      <td>2020-10-07</td>\n",
              "      <td>2020-10-09</td>\n",
              "      <td>2020-10-07</td>\n",
              "      <td>NaN</td>\n",
              "      <td>NaN</td>\n",
              "      <td>Colombia</td>\n",
              "      <td>Cundinamarca</td>\n",
              "      <td>Bogotá D.C</td>\n",
              "      <td>...</td>\n",
              "      <td>2.0</td>\n",
              "      <td>66.0</td>\n",
              "      <td>66.0</td>\n",
              "      <td>237000000.0</td>\n",
              "      <td>COP</td>\n",
              "      <td>NaN</td>\n",
              "      <td>Apartamento En Venta En Bogota La Granja Cod. ...</td>\n",
              "      <td>Espectacular apartamento ubicado en la Granja,...</td>\n",
              "      <td>Apartamento</td>\n",
              "      <td>Venta</td>\n",
              "    </tr>\n",
              "  </tbody>\n",
              "</table>\n",
              "<p>5 rows × 25 columns</p>\n",
              "</div>"
            ],
            "text/plain": [
              "                            id    ad_type  start_date    end_date  created_on  \\\n",
              "873   LeDYJXiMia9tMWFQtqnb5A==  Propiedad  2020-10-07  2020-10-09  2020-10-07   \n",
              "877   rTWBhITwkoVLuJEmcrPYzw==  Propiedad  2020-10-07  2020-10-09  2020-10-07   \n",
              "878   5ECazs7zG/qD+ha0DPFmJg==  Propiedad  2020-10-07  2020-10-09  2020-10-07   \n",
              "1311  O5CICDjlRoAWsEA7FcsvLw==  Propiedad  2020-10-07  2020-10-16  2020-10-07   \n",
              "5785  fi4KyahrC8882wsqpajP9Q==  Propiedad  2020-10-07  2020-10-09  2020-10-07   \n",
              "\n",
              "        lat     lon        l1            l2          l3  ... bathrooms  \\\n",
              "873   4.753 -74.112  Colombia  Cundinamarca  Bogotá D.C  ...       2.0   \n",
              "877   4.748 -74.111  Colombia  Cundinamarca  Bogotá D.C  ...       2.0   \n",
              "878   4.739 -74.062  Colombia  Cundinamarca  Bogotá D.C  ...       2.0   \n",
              "1311  4.703 -74.057  Colombia  Cundinamarca  Bogotá D.C  ...       3.0   \n",
              "5785    NaN     NaN  Colombia  Cundinamarca  Bogotá D.C  ...       2.0   \n",
              "\n",
              "     surface_total surface_covered        price  currency  price_period  \\\n",
              "873           63.0            63.0  175000000.0       COP           NaN   \n",
              "877            NaN            99.0  190000000.0       COP           NaN   \n",
              "878            NaN            73.0  320000000.0       COP           NaN   \n",
              "1311         175.0           253.0  800000000.0       COP           NaN   \n",
              "5785          66.0            66.0  237000000.0       COP           NaN   \n",
              "\n",
              "                                                  title  \\\n",
              "873      Casa En Venta En Bogota Fontanar Cod. VOJL-705   \n",
              "877   Casa En Venta En Bogota Suba - Sabana De Tibab...   \n",
              "878   Casa En Venta En Bogota Colina Campestre I Y I...   \n",
              "1311     Casa En Venta En Bogota Malibu Cod. VREI-16827   \n",
              "5785  Apartamento En Venta En Bogota La Granja Cod. ...   \n",
              "\n",
              "                                            description  property_type  \\\n",
              "873   Oportunidad, se vende linda casa ubicada en el...           Casa   \n",
              "877   VENTA CASA SABANA DE TIBABUYES. TRES NIVELES. ...           Casa   \n",
              "878   Vendo Casa ubicada en la Colina Campestre en C...           Casa   \n",
              "1311  Amplios espacios y ampliaciones a travs de los...           Casa   \n",
              "5785  Espectacular apartamento ubicado en la Granja,...    Apartamento   \n",
              "\n",
              "     operation_type  \n",
              "873           Venta  \n",
              "877           Venta  \n",
              "878           Venta  \n",
              "1311          Venta  \n",
              "5785          Venta  \n",
              "\n",
              "[5 rows x 25 columns]"
            ]
          },
          "execution_count": 34,
          "metadata": {},
          "output_type": "execute_result"
        }
      ],
      "source": [
        "propiedades.head()"
      ]
    },
    {
      "cell_type": "code",
      "execution_count": 35,
      "metadata": {},
      "outputs": [
        {
          "data": {
            "text/plain": [
              "Index(['id', 'ad_type', 'start_date', 'end_date', 'created_on', 'lat', 'lon',\n",
              "       'l1', 'l2', 'l3', 'l4', 'l5', 'l6', 'rooms', 'bedrooms', 'bathrooms',\n",
              "       'surface_total', 'surface_covered', 'price', 'currency', 'price_period',\n",
              "       'title', 'description', 'property_type', 'operation_type'],\n",
              "      dtype='object')"
            ]
          },
          "execution_count": 35,
          "metadata": {},
          "output_type": "execute_result"
        }
      ],
      "source": [
        "propiedades.columns"
      ]
    },
    {
      "cell_type": "code",
      "execution_count": 36,
      "metadata": {},
      "outputs": [
        {
          "data": {
            "text/html": [
              "<div>\n",
              "<style scoped>\n",
              "    .dataframe tbody tr th:only-of-type {\n",
              "        vertical-align: middle;\n",
              "    }\n",
              "\n",
              "    .dataframe tbody tr th {\n",
              "        vertical-align: top;\n",
              "    }\n",
              "\n",
              "    .dataframe thead th {\n",
              "        text-align: right;\n",
              "    }\n",
              "</style>\n",
              "<table border=\"1\" class=\"dataframe\">\n",
              "  <thead>\n",
              "    <tr style=\"text-align: right;\">\n",
              "      <th></th>\n",
              "      <th>lat</th>\n",
              "      <th>lon</th>\n",
              "      <th>rooms</th>\n",
              "      <th>bedrooms</th>\n",
              "      <th>bathrooms</th>\n",
              "      <th>surface_total</th>\n",
              "      <th>surface_covered</th>\n",
              "      <th>price</th>\n",
              "    </tr>\n",
              "  </thead>\n",
              "  <tbody>\n",
              "    <tr>\n",
              "      <th>count</th>\n",
              "      <td>1327.000000</td>\n",
              "      <td>1327.000000</td>\n",
              "      <td>1446.000000</td>\n",
              "      <td>1446.000000</td>\n",
              "      <td>1444.000000</td>\n",
              "      <td>642.000000</td>\n",
              "      <td>1451.000000</td>\n",
              "      <td>1.451000e+03</td>\n",
              "    </tr>\n",
              "    <tr>\n",
              "      <th>mean</th>\n",
              "      <td>4.727698</td>\n",
              "      <td>-74.069815</td>\n",
              "      <td>2.974412</td>\n",
              "      <td>2.974412</td>\n",
              "      <td>2.506925</td>\n",
              "      <td>114.813084</td>\n",
              "      <td>106.545141</td>\n",
              "      <td>4.654793e+08</td>\n",
              "    </tr>\n",
              "    <tr>\n",
              "      <th>std</th>\n",
              "      <td>0.022168</td>\n",
              "      <td>0.015321</td>\n",
              "      <td>1.003817</td>\n",
              "      <td>1.003817</td>\n",
              "      <td>0.910755</td>\n",
              "      <td>75.882161</td>\n",
              "      <td>59.611615</td>\n",
              "      <td>2.304156e+08</td>\n",
              "    </tr>\n",
              "    <tr>\n",
              "      <th>min</th>\n",
              "      <td>4.689000</td>\n",
              "      <td>-74.125000</td>\n",
              "      <td>1.000000</td>\n",
              "      <td>1.000000</td>\n",
              "      <td>1.000000</td>\n",
              "      <td>17.000000</td>\n",
              "      <td>15.000000</td>\n",
              "      <td>1.200000e+08</td>\n",
              "    </tr>\n",
              "    <tr>\n",
              "      <th>25%</th>\n",
              "      <td>4.708000</td>\n",
              "      <td>-74.077000</td>\n",
              "      <td>3.000000</td>\n",
              "      <td>3.000000</td>\n",
              "      <td>2.000000</td>\n",
              "      <td>64.000000</td>\n",
              "      <td>64.000000</td>\n",
              "      <td>2.800000e+08</td>\n",
              "    </tr>\n",
              "    <tr>\n",
              "      <th>50%</th>\n",
              "      <td>4.728000</td>\n",
              "      <td>-74.065000</td>\n",
              "      <td>3.000000</td>\n",
              "      <td>3.000000</td>\n",
              "      <td>2.000000</td>\n",
              "      <td>92.000000</td>\n",
              "      <td>87.000000</td>\n",
              "      <td>4.100000e+08</td>\n",
              "    </tr>\n",
              "    <tr>\n",
              "      <th>75%</th>\n",
              "      <td>4.744500</td>\n",
              "      <td>-74.059000</td>\n",
              "      <td>3.000000</td>\n",
              "      <td>3.000000</td>\n",
              "      <td>3.000000</td>\n",
              "      <td>138.000000</td>\n",
              "      <td>125.000000</td>\n",
              "      <td>6.348000e+08</td>\n",
              "    </tr>\n",
              "    <tr>\n",
              "      <th>max</th>\n",
              "      <td>4.806000</td>\n",
              "      <td>-74.044000</td>\n",
              "      <td>14.000000</td>\n",
              "      <td>14.000000</td>\n",
              "      <td>8.000000</td>\n",
              "      <td>388.000000</td>\n",
              "      <td>345.000000</td>\n",
              "      <td>9.980000e+08</td>\n",
              "    </tr>\n",
              "  </tbody>\n",
              "</table>\n",
              "</div>"
            ],
            "text/plain": [
              "               lat          lon        rooms     bedrooms    bathrooms  \\\n",
              "count  1327.000000  1327.000000  1446.000000  1446.000000  1444.000000   \n",
              "mean      4.727698   -74.069815     2.974412     2.974412     2.506925   \n",
              "std       0.022168     0.015321     1.003817     1.003817     0.910755   \n",
              "min       4.689000   -74.125000     1.000000     1.000000     1.000000   \n",
              "25%       4.708000   -74.077000     3.000000     3.000000     2.000000   \n",
              "50%       4.728000   -74.065000     3.000000     3.000000     2.000000   \n",
              "75%       4.744500   -74.059000     3.000000     3.000000     3.000000   \n",
              "max       4.806000   -74.044000    14.000000    14.000000     8.000000   \n",
              "\n",
              "       surface_total  surface_covered         price  \n",
              "count     642.000000      1451.000000  1.451000e+03  \n",
              "mean      114.813084       106.545141  4.654793e+08  \n",
              "std        75.882161        59.611615  2.304156e+08  \n",
              "min        17.000000        15.000000  1.200000e+08  \n",
              "25%        64.000000        64.000000  2.800000e+08  \n",
              "50%        92.000000        87.000000  4.100000e+08  \n",
              "75%       138.000000       125.000000  6.348000e+08  \n",
              "max       388.000000       345.000000  9.980000e+08  "
            ]
          },
          "execution_count": 36,
          "metadata": {},
          "output_type": "execute_result"
        }
      ],
      "source": [
        "propiedades.describe()"
      ]
    },
    {
      "cell_type": "code",
      "execution_count": 37,
      "metadata": {},
      "outputs": [],
      "source": [
        "propiedades = propiedades.dropna(subset=['bedrooms','bathrooms','rooms','surface_total'])"
      ]
    },
    {
      "cell_type": "code",
      "execution_count": 45,
      "metadata": {},
      "outputs": [],
      "source": [
        "y = propiedades['price']\n",
        "X = propiedades[['bedrooms','bathrooms','surface_covered','surface_total']]"
      ]
    },
    {
      "cell_type": "code",
      "execution_count": 46,
      "metadata": {},
      "outputs": [
        {
          "data": {
            "text/html": [
              "<div>\n",
              "<style scoped>\n",
              "    .dataframe tbody tr th:only-of-type {\n",
              "        vertical-align: middle;\n",
              "    }\n",
              "\n",
              "    .dataframe tbody tr th {\n",
              "        vertical-align: top;\n",
              "    }\n",
              "\n",
              "    .dataframe thead th {\n",
              "        text-align: right;\n",
              "    }\n",
              "</style>\n",
              "<table border=\"1\" class=\"dataframe\">\n",
              "  <thead>\n",
              "    <tr style=\"text-align: right;\">\n",
              "      <th></th>\n",
              "      <th>bedrooms</th>\n",
              "      <th>bathrooms</th>\n",
              "      <th>surface_covered</th>\n",
              "      <th>surface_total</th>\n",
              "    </tr>\n",
              "  </thead>\n",
              "  <tbody>\n",
              "    <tr>\n",
              "      <th>873</th>\n",
              "      <td>3.0</td>\n",
              "      <td>2.0</td>\n",
              "      <td>63.0</td>\n",
              "      <td>63.0</td>\n",
              "    </tr>\n",
              "    <tr>\n",
              "      <th>1311</th>\n",
              "      <td>5.0</td>\n",
              "      <td>3.0</td>\n",
              "      <td>253.0</td>\n",
              "      <td>175.0</td>\n",
              "    </tr>\n",
              "    <tr>\n",
              "      <th>5785</th>\n",
              "      <td>3.0</td>\n",
              "      <td>2.0</td>\n",
              "      <td>66.0</td>\n",
              "      <td>66.0</td>\n",
              "    </tr>\n",
              "    <tr>\n",
              "      <th>6398</th>\n",
              "      <td>3.0</td>\n",
              "      <td>3.0</td>\n",
              "      <td>111.0</td>\n",
              "      <td>112.0</td>\n",
              "    </tr>\n",
              "    <tr>\n",
              "      <th>6407</th>\n",
              "      <td>3.0</td>\n",
              "      <td>3.0</td>\n",
              "      <td>92.0</td>\n",
              "      <td>92.0</td>\n",
              "    </tr>\n",
              "    <tr>\n",
              "      <th>...</th>\n",
              "      <td>...</td>\n",
              "      <td>...</td>\n",
              "      <td>...</td>\n",
              "      <td>...</td>\n",
              "    </tr>\n",
              "    <tr>\n",
              "      <th>999862</th>\n",
              "      <td>3.0</td>\n",
              "      <td>2.0</td>\n",
              "      <td>100.0</td>\n",
              "      <td>100.0</td>\n",
              "    </tr>\n",
              "    <tr>\n",
              "      <th>999865</th>\n",
              "      <td>3.0</td>\n",
              "      <td>2.0</td>\n",
              "      <td>96.0</td>\n",
              "      <td>96.0</td>\n",
              "    </tr>\n",
              "    <tr>\n",
              "      <th>999869</th>\n",
              "      <td>3.0</td>\n",
              "      <td>3.0</td>\n",
              "      <td>186.0</td>\n",
              "      <td>186.0</td>\n",
              "    </tr>\n",
              "    <tr>\n",
              "      <th>999871</th>\n",
              "      <td>3.0</td>\n",
              "      <td>3.0</td>\n",
              "      <td>190.0</td>\n",
              "      <td>190.0</td>\n",
              "    </tr>\n",
              "    <tr>\n",
              "      <th>999876</th>\n",
              "      <td>1.0</td>\n",
              "      <td>2.0</td>\n",
              "      <td>54.0</td>\n",
              "      <td>54.0</td>\n",
              "    </tr>\n",
              "  </tbody>\n",
              "</table>\n",
              "<p>635 rows × 4 columns</p>\n",
              "</div>"
            ],
            "text/plain": [
              "        bedrooms  bathrooms  surface_covered  surface_total\n",
              "873          3.0        2.0             63.0           63.0\n",
              "1311         5.0        3.0            253.0          175.0\n",
              "5785         3.0        2.0             66.0           66.0\n",
              "6398         3.0        3.0            111.0          112.0\n",
              "6407         3.0        3.0             92.0           92.0\n",
              "...          ...        ...              ...            ...\n",
              "999862       3.0        2.0            100.0          100.0\n",
              "999865       3.0        2.0             96.0           96.0\n",
              "999869       3.0        3.0            186.0          186.0\n",
              "999871       3.0        3.0            190.0          190.0\n",
              "999876       1.0        2.0             54.0           54.0\n",
              "\n",
              "[635 rows x 4 columns]"
            ]
          },
          "execution_count": 46,
          "metadata": {},
          "output_type": "execute_result"
        }
      ],
      "source": [
        "X"
      ]
    },
    {
      "cell_type": "code",
      "execution_count": 47,
      "metadata": {},
      "outputs": [],
      "source": [
        "X = sm.add_constant(X)"
      ]
    },
    {
      "cell_type": "code",
      "execution_count": 48,
      "metadata": {},
      "outputs": [],
      "source": [
        "modelo2 = sm.OLS(endog = y, exog = X) #Construcción Regresión Lineal"
      ]
    },
    {
      "cell_type": "code",
      "execution_count": 49,
      "metadata": {},
      "outputs": [],
      "source": [
        "# Entrenar el modelo de aprendizaje\n",
        "resultado2 = modelo2.fit() #Calcule el modelo de regresión lineal"
      ]
    },
    {
      "cell_type": "markdown",
      "metadata": {},
      "source": [
        "$precio = a*bedrooms + b*bathrooms+c*surface\\_covered + d$"
      ]
    },
    {
      "cell_type": "code",
      "execution_count": 50,
      "metadata": {},
      "outputs": [
        {
          "data": {
            "text/html": [
              "<table class=\"simpletable\">\n",
              "<caption>OLS Regression Results</caption>\n",
              "<tr>\n",
              "  <th>Dep. Variable:</th>          <td>price</td>      <th>  R-squared:         </th> <td>   0.756</td> \n",
              "</tr>\n",
              "<tr>\n",
              "  <th>Model:</th>                   <td>OLS</td>       <th>  Adj. R-squared:    </th> <td>   0.755</td> \n",
              "</tr>\n",
              "<tr>\n",
              "  <th>Method:</th>             <td>Least Squares</td>  <th>  F-statistic:       </th> <td>   488.7</td> \n",
              "</tr>\n",
              "<tr>\n",
              "  <th>Date:</th>             <td>Tue, 05 Aug 2025</td> <th>  Prob (F-statistic):</th> <td>1.84e-191</td>\n",
              "</tr>\n",
              "<tr>\n",
              "  <th>Time:</th>                 <td>19:44:34</td>     <th>  Log-Likelihood:    </th> <td> -12735.</td> \n",
              "</tr>\n",
              "<tr>\n",
              "  <th>No. Observations:</th>      <td>   635</td>      <th>  AIC:               </th> <td>2.548e+04</td>\n",
              "</tr>\n",
              "<tr>\n",
              "  <th>Df Residuals:</th>          <td>   630</td>      <th>  BIC:               </th> <td>2.550e+04</td>\n",
              "</tr>\n",
              "<tr>\n",
              "  <th>Df Model:</th>              <td>     4</td>      <th>                     </th>     <td> </td>    \n",
              "</tr>\n",
              "<tr>\n",
              "  <th>Covariance Type:</th>      <td>nonrobust</td>    <th>                     </th>     <td> </td>    \n",
              "</tr>\n",
              "</table>\n",
              "<table class=\"simpletable\">\n",
              "<tr>\n",
              "         <td></td>            <th>coef</th>     <th>std err</th>      <th>t</th>      <th>P>|t|</th>  <th>[0.025</th>    <th>0.975]</th>  \n",
              "</tr>\n",
              "<tr>\n",
              "  <th>const</th>           <td> 1.223e+08</td> <td> 1.65e+07</td> <td>    7.400</td> <td> 0.000</td> <td> 8.99e+07</td> <td> 1.55e+08</td>\n",
              "</tr>\n",
              "<tr>\n",
              "  <th>bedrooms</th>        <td>-4.595e+07</td> <td> 5.98e+06</td> <td>   -7.684</td> <td> 0.000</td> <td>-5.77e+07</td> <td>-3.42e+07</td>\n",
              "</tr>\n",
              "<tr>\n",
              "  <th>bathrooms</th>       <td> 7.371e+07</td> <td> 7.41e+06</td> <td>    9.945</td> <td> 0.000</td> <td> 5.92e+07</td> <td> 8.83e+07</td>\n",
              "</tr>\n",
              "<tr>\n",
              "  <th>surface_covered</th> <td> 1.795e+06</td> <td> 1.65e+05</td> <td>   10.854</td> <td> 0.000</td> <td> 1.47e+06</td> <td> 2.12e+06</td>\n",
              "</tr>\n",
              "<tr>\n",
              "  <th>surface_total</th>   <td> 9.735e+05</td> <td> 1.23e+05</td> <td>    7.904</td> <td> 0.000</td> <td> 7.32e+05</td> <td> 1.22e+06</td>\n",
              "</tr>\n",
              "</table>\n",
              "<table class=\"simpletable\">\n",
              "<tr>\n",
              "  <th>Omnibus:</th>       <td>48.299</td> <th>  Durbin-Watson:     </th> <td>   1.875</td>\n",
              "</tr>\n",
              "<tr>\n",
              "  <th>Prob(Omnibus):</th> <td> 0.000</td> <th>  Jarque-Bera (JB):  </th> <td> 102.274</td>\n",
              "</tr>\n",
              "<tr>\n",
              "  <th>Skew:</th>          <td> 0.450</td> <th>  Prob(JB):          </th> <td>6.19e-23</td>\n",
              "</tr>\n",
              "<tr>\n",
              "  <th>Kurtosis:</th>      <td> 4.748</td> <th>  Cond. No.          </th> <td>    666.</td>\n",
              "</tr>\n",
              "</table><br/><br/>Notes:<br/>[1] Standard Errors assume that the covariance matrix of the errors is correctly specified."
            ],
            "text/latex": [
              "\\begin{center}\n",
              "\\begin{tabular}{lclc}\n",
              "\\toprule\n",
              "\\textbf{Dep. Variable:}    &      price       & \\textbf{  R-squared:         } &     0.756   \\\\\n",
              "\\textbf{Model:}            &       OLS        & \\textbf{  Adj. R-squared:    } &     0.755   \\\\\n",
              "\\textbf{Method:}           &  Least Squares   & \\textbf{  F-statistic:       } &     488.7   \\\\\n",
              "\\textbf{Date:}             & Tue, 05 Aug 2025 & \\textbf{  Prob (F-statistic):} & 1.84e-191   \\\\\n",
              "\\textbf{Time:}             &     19:44:34     & \\textbf{  Log-Likelihood:    } &   -12735.   \\\\\n",
              "\\textbf{No. Observations:} &         635      & \\textbf{  AIC:               } & 2.548e+04   \\\\\n",
              "\\textbf{Df Residuals:}     &         630      & \\textbf{  BIC:               } & 2.550e+04   \\\\\n",
              "\\textbf{Df Model:}         &           4      & \\textbf{                     } &             \\\\\n",
              "\\textbf{Covariance Type:}  &    nonrobust     & \\textbf{                     } &             \\\\\n",
              "\\bottomrule\n",
              "\\end{tabular}\n",
              "\\begin{tabular}{lcccccc}\n",
              "                          & \\textbf{coef} & \\textbf{std err} & \\textbf{t} & \\textbf{P$> |$t$|$} & \\textbf{[0.025} & \\textbf{0.975]}  \\\\\n",
              "\\midrule\n",
              "\\textbf{const}            &    1.223e+08  &     1.65e+07     &     7.400  &         0.000        &     8.99e+07    &     1.55e+08     \\\\\n",
              "\\textbf{bedrooms}         &   -4.595e+07  &     5.98e+06     &    -7.684  &         0.000        &    -5.77e+07    &    -3.42e+07     \\\\\n",
              "\\textbf{bathrooms}        &    7.371e+07  &     7.41e+06     &     9.945  &         0.000        &     5.92e+07    &     8.83e+07     \\\\\n",
              "\\textbf{surface\\_covered} &    1.795e+06  &     1.65e+05     &    10.854  &         0.000        &     1.47e+06    &     2.12e+06     \\\\\n",
              "\\textbf{surface\\_total}   &    9.735e+05  &     1.23e+05     &     7.904  &         0.000        &     7.32e+05    &     1.22e+06     \\\\\n",
              "\\bottomrule\n",
              "\\end{tabular}\n",
              "\\begin{tabular}{lclc}\n",
              "\\textbf{Omnibus:}       & 48.299 & \\textbf{  Durbin-Watson:     } &    1.875  \\\\\n",
              "\\textbf{Prob(Omnibus):} &  0.000 & \\textbf{  Jarque-Bera (JB):  } &  102.274  \\\\\n",
              "\\textbf{Skew:}          &  0.450 & \\textbf{  Prob(JB):          } & 6.19e-23  \\\\\n",
              "\\textbf{Kurtosis:}      &  4.748 & \\textbf{  Cond. No.          } &     666.  \\\\\n",
              "\\bottomrule\n",
              "\\end{tabular}\n",
              "%\\caption{OLS Regression Results}\n",
              "\\end{center}\n",
              "\n",
              "Notes: \\newline\n",
              " [1] Standard Errors assume that the covariance matrix of the errors is correctly specified."
            ],
            "text/plain": [
              "<class 'statsmodels.iolib.summary.Summary'>\n",
              "\"\"\"\n",
              "                            OLS Regression Results                            \n",
              "==============================================================================\n",
              "Dep. Variable:                  price   R-squared:                       0.756\n",
              "Model:                            OLS   Adj. R-squared:                  0.755\n",
              "Method:                 Least Squares   F-statistic:                     488.7\n",
              "Date:                Tue, 05 Aug 2025   Prob (F-statistic):          1.84e-191\n",
              "Time:                        19:44:34   Log-Likelihood:                -12735.\n",
              "No. Observations:                 635   AIC:                         2.548e+04\n",
              "Df Residuals:                     630   BIC:                         2.550e+04\n",
              "Df Model:                           4                                         \n",
              "Covariance Type:            nonrobust                                         \n",
              "===================================================================================\n",
              "                      coef    std err          t      P>|t|      [0.025      0.975]\n",
              "-----------------------------------------------------------------------------------\n",
              "const            1.223e+08   1.65e+07      7.400      0.000    8.99e+07    1.55e+08\n",
              "bedrooms        -4.595e+07   5.98e+06     -7.684      0.000   -5.77e+07   -3.42e+07\n",
              "bathrooms        7.371e+07   7.41e+06      9.945      0.000    5.92e+07    8.83e+07\n",
              "surface_covered  1.795e+06   1.65e+05     10.854      0.000    1.47e+06    2.12e+06\n",
              "surface_total    9.735e+05   1.23e+05      7.904      0.000    7.32e+05    1.22e+06\n",
              "==============================================================================\n",
              "Omnibus:                       48.299   Durbin-Watson:                   1.875\n",
              "Prob(Omnibus):                  0.000   Jarque-Bera (JB):              102.274\n",
              "Skew:                           0.450   Prob(JB):                     6.19e-23\n",
              "Kurtosis:                       4.748   Cond. No.                         666.\n",
              "==============================================================================\n",
              "\n",
              "Notes:\n",
              "[1] Standard Errors assume that the covariance matrix of the errors is correctly specified.\n",
              "\"\"\""
            ]
          },
          "execution_count": 50,
          "metadata": {},
          "output_type": "execute_result"
        }
      ],
      "source": [
        "resultado2.summary()"
      ]
    },
    {
      "cell_type": "code",
      "execution_count": 51,
      "metadata": {},
      "outputs": [],
      "source": [
        "# Construyamos el ajuste dentro de muestra\n",
        "y_hat = resultado2.predict()"
      ]
    },
    {
      "cell_type": "code",
      "execution_count": 53,
      "metadata": {},
      "outputs": [],
      "source": [
        "predicciones = X.copy()\n",
        "predicciones['y_pred'] = y_hat\n",
        "predicciones['y_true'] = y"
      ]
    },
    {
      "cell_type": "code",
      "execution_count": 54,
      "metadata": {},
      "outputs": [
        {
          "data": {
            "text/html": [
              "<div>\n",
              "<style scoped>\n",
              "    .dataframe tbody tr th:only-of-type {\n",
              "        vertical-align: middle;\n",
              "    }\n",
              "\n",
              "    .dataframe tbody tr th {\n",
              "        vertical-align: top;\n",
              "    }\n",
              "\n",
              "    .dataframe thead th {\n",
              "        text-align: right;\n",
              "    }\n",
              "</style>\n",
              "<table border=\"1\" class=\"dataframe\">\n",
              "  <thead>\n",
              "    <tr style=\"text-align: right;\">\n",
              "      <th></th>\n",
              "      <th>const</th>\n",
              "      <th>bedrooms</th>\n",
              "      <th>bathrooms</th>\n",
              "      <th>surface_covered</th>\n",
              "      <th>surface_total</th>\n",
              "      <th>y_pred</th>\n",
              "      <th>y_true</th>\n",
              "    </tr>\n",
              "  </thead>\n",
              "  <tbody>\n",
              "    <tr>\n",
              "      <th>873</th>\n",
              "      <td>1.0</td>\n",
              "      <td>3.0</td>\n",
              "      <td>2.0</td>\n",
              "      <td>63.0</td>\n",
              "      <td>63.0</td>\n",
              "      <td>3.063005e+08</td>\n",
              "      <td>175000000.0</td>\n",
              "    </tr>\n",
              "    <tr>\n",
              "      <th>1311</th>\n",
              "      <td>1.0</td>\n",
              "      <td>5.0</td>\n",
              "      <td>3.0</td>\n",
              "      <td>253.0</td>\n",
              "      <td>175.0</td>\n",
              "      <td>7.381117e+08</td>\n",
              "      <td>800000000.0</td>\n",
              "    </tr>\n",
              "    <tr>\n",
              "      <th>5785</th>\n",
              "      <td>1.0</td>\n",
              "      <td>3.0</td>\n",
              "      <td>2.0</td>\n",
              "      <td>66.0</td>\n",
              "      <td>66.0</td>\n",
              "      <td>3.146046e+08</td>\n",
              "      <td>237000000.0</td>\n",
              "    </tr>\n",
              "    <tr>\n",
              "      <th>6398</th>\n",
              "      <td>1.0</td>\n",
              "      <td>3.0</td>\n",
              "      <td>3.0</td>\n",
              "      <td>111.0</td>\n",
              "      <td>112.0</td>\n",
              "      <td>5.138466e+08</td>\n",
              "      <td>710000000.0</td>\n",
              "    </tr>\n",
              "    <tr>\n",
              "      <th>6407</th>\n",
              "      <td>1.0</td>\n",
              "      <td>3.0</td>\n",
              "      <td>3.0</td>\n",
              "      <td>92.0</td>\n",
              "      <td>92.0</td>\n",
              "      <td>4.602807e+08</td>\n",
              "      <td>360000000.0</td>\n",
              "    </tr>\n",
              "    <tr>\n",
              "      <th>...</th>\n",
              "      <td>...</td>\n",
              "      <td>...</td>\n",
              "      <td>...</td>\n",
              "      <td>...</td>\n",
              "      <td>...</td>\n",
              "      <td>...</td>\n",
              "      <td>...</td>\n",
              "    </tr>\n",
              "    <tr>\n",
              "      <th>999862</th>\n",
              "      <td>1.0</td>\n",
              "      <td>3.0</td>\n",
              "      <td>2.0</td>\n",
              "      <td>100.0</td>\n",
              "      <td>100.0</td>\n",
              "      <td>4.087173e+08</td>\n",
              "      <td>465000000.0</td>\n",
              "    </tr>\n",
              "    <tr>\n",
              "      <th>999865</th>\n",
              "      <td>1.0</td>\n",
              "      <td>3.0</td>\n",
              "      <td>2.0</td>\n",
              "      <td>96.0</td>\n",
              "      <td>96.0</td>\n",
              "      <td>3.976452e+08</td>\n",
              "      <td>440000000.0</td>\n",
              "    </tr>\n",
              "    <tr>\n",
              "      <th>999869</th>\n",
              "      <td>1.0</td>\n",
              "      <td>3.0</td>\n",
              "      <td>3.0</td>\n",
              "      <td>186.0</td>\n",
              "      <td>186.0</td>\n",
              "      <td>7.204747e+08</td>\n",
              "      <td>980000000.0</td>\n",
              "    </tr>\n",
              "    <tr>\n",
              "      <th>999871</th>\n",
              "      <td>1.0</td>\n",
              "      <td>3.0</td>\n",
              "      <td>3.0</td>\n",
              "      <td>190.0</td>\n",
              "      <td>190.0</td>\n",
              "      <td>7.315468e+08</td>\n",
              "      <td>950000000.0</td>\n",
              "    </tr>\n",
              "    <tr>\n",
              "      <th>999876</th>\n",
              "      <td>1.0</td>\n",
              "      <td>1.0</td>\n",
              "      <td>2.0</td>\n",
              "      <td>54.0</td>\n",
              "      <td>54.0</td>\n",
              "      <td>3.732790e+08</td>\n",
              "      <td>360000000.0</td>\n",
              "    </tr>\n",
              "  </tbody>\n",
              "</table>\n",
              "<p>635 rows × 7 columns</p>\n",
              "</div>"
            ],
            "text/plain": [
              "        const  bedrooms  bathrooms  surface_covered  surface_total  \\\n",
              "873       1.0       3.0        2.0             63.0           63.0   \n",
              "1311      1.0       5.0        3.0            253.0          175.0   \n",
              "5785      1.0       3.0        2.0             66.0           66.0   \n",
              "6398      1.0       3.0        3.0            111.0          112.0   \n",
              "6407      1.0       3.0        3.0             92.0           92.0   \n",
              "...       ...       ...        ...              ...            ...   \n",
              "999862    1.0       3.0        2.0            100.0          100.0   \n",
              "999865    1.0       3.0        2.0             96.0           96.0   \n",
              "999869    1.0       3.0        3.0            186.0          186.0   \n",
              "999871    1.0       3.0        3.0            190.0          190.0   \n",
              "999876    1.0       1.0        2.0             54.0           54.0   \n",
              "\n",
              "              y_pred       y_true  \n",
              "873     3.063005e+08  175000000.0  \n",
              "1311    7.381117e+08  800000000.0  \n",
              "5785    3.146046e+08  237000000.0  \n",
              "6398    5.138466e+08  710000000.0  \n",
              "6407    4.602807e+08  360000000.0  \n",
              "...              ...          ...  \n",
              "999862  4.087173e+08  465000000.0  \n",
              "999865  3.976452e+08  440000000.0  \n",
              "999869  7.204747e+08  980000000.0  \n",
              "999871  7.315468e+08  950000000.0  \n",
              "999876  3.732790e+08  360000000.0  \n",
              "\n",
              "[635 rows x 7 columns]"
            ]
          },
          "execution_count": 54,
          "metadata": {},
          "output_type": "execute_result"
        }
      ],
      "source": [
        "predicciones"
      ]
    },
    {
      "cell_type": "code",
      "execution_count": null,
      "metadata": {},
      "outputs": [],
      "source": [
        "#!pip install scikit-learn"
      ]
    },
    {
      "cell_type": "code",
      "execution_count": 58,
      "metadata": {},
      "outputs": [],
      "source": [
        "from sklearn.metrics import mean_absolute_percentage_error, mean_absolute_error"
      ]
    },
    {
      "cell_type": "markdown",
      "metadata": {},
      "source": [
        "**Mean Absolute Percentage Error (MAPE):** Error absoluto promedio porcentual.\n",
        "\n",
        "$$\\hat{e} = \\frac{|y_{real}-y_{pred}|}{y_{real}}$$"
      ]
    },
    {
      "cell_type": "code",
      "execution_count": null,
      "metadata": {},
      "outputs": [],
      "source": [
        "y_hat"
      ]
    },
    {
      "cell_type": "code",
      "execution_count": null,
      "metadata": {},
      "outputs": [],
      "source": [
        "y.values"
      ]
    },
    {
      "cell_type": "code",
      "execution_count": 59,
      "metadata": {},
      "outputs": [
        {
          "name": "stdout",
          "output_type": "stream",
          "text": [
            "23.39%\n"
          ]
        }
      ],
      "source": [
        "print(f'{mean_absolute_percentage_error(y_pred = y_hat, y_true = y):.2%}')"
      ]
    },
    {
      "cell_type": "code",
      "execution_count": 60,
      "metadata": {},
      "outputs": [
        {
          "name": "stdout",
          "output_type": "stream",
          "text": [
            "93297956.07474452\n"
          ]
        }
      ],
      "source": [
        "print(f'{mean_absolute_error(y_hat,y)}')"
      ]
    },
    {
      "cell_type": "markdown",
      "metadata": {},
      "source": [
        "## Clustering"
      ]
    },
    {
      "cell_type": "code",
      "execution_count": 61,
      "metadata": {},
      "outputs": [],
      "source": [
        "# Una agrupación sencilla con KMeans\n",
        "\n",
        "# 1. Importar librerías necesarias\n",
        "from sklearn.cluster import KMeans\n"
      ]
    },
    {
      "cell_type": "code",
      "execution_count": 62,
      "metadata": {},
      "outputs": [],
      "source": [
        "# 2. Seleccionar variables numéricas relevantes para el clustering\n",
        "# Usaremos superficie cubierta y precio\n",
        "X_cluster = propiedades[['surface_covered', 'price']]\n"
      ]
    },
    {
      "cell_type": "code",
      "execution_count": 63,
      "metadata": {},
      "outputs": [],
      "source": [
        "# 3. Estandarizar las variables (opcional pero recomendado)\n",
        "from sklearn.preprocessing import StandardScaler\n",
        "scaler = StandardScaler()\n",
        "X_scaled = scaler.fit_transform(X_cluster)\n"
      ]
    },
    {
      "cell_type": "code",
      "execution_count": 64,
      "metadata": {},
      "outputs": [
        {
          "data": {
            "text/plain": [
              "array([[-0.78514709, -1.25493546],\n",
              "       [ 1.94571073,  1.23108445],\n",
              "       [-0.74202828, -1.00832228],\n",
              "       ...,\n",
              "       [ 0.98272403,  1.94705818],\n",
              "       [ 1.04021577,  1.82772922],\n",
              "       [-0.91450351, -0.51907356]])"
            ]
          },
          "execution_count": 64,
          "metadata": {},
          "output_type": "execute_result"
        }
      ],
      "source": [
        "X_scaled"
      ]
    },
    {
      "cell_type": "code",
      "execution_count": 65,
      "metadata": {},
      "outputs": [],
      "source": [
        "# 4. Elegir el número de clusters (por ejemplo, 3)\n",
        "kmeans = KMeans(n_clusters=3, random_state=42)\n"
      ]
    },
    {
      "cell_type": "code",
      "execution_count": 67,
      "metadata": {},
      "outputs": [],
      "source": [
        "propiedades['cluster'] = kmeans.fit_predict(X_scaled)"
      ]
    },
    {
      "cell_type": "code",
      "execution_count": 68,
      "metadata": {},
      "outputs": [
        {
          "data": {
            "image/png": "[encoded data removed]",
            "text/plain": [
              "<Figure size 1000x600 with 1 Axes>"
            ]
          },
          "metadata": {},
          "output_type": "display_data"
        }
      ],
      "source": [
        "# 5. Visualizar los clusters\n",
        "plt.figure(figsize=(10,6))\n",
        "for i in range(3):\n",
        "    plt.scatter(\n",
        "        propiedades[propiedades['cluster']==i]['surface_covered'],\n",
        "        propiedades[propiedades['cluster']==i]['price'],\n",
        "        label=f'Cluster {i}'\n",
        "    )\n",
        "plt.xlabel('Superficie cubierta (m2)')\n",
        "plt.ylabel('Precio (COP)')\n",
        "plt.title('Clustering de propiedades por superficie y precio')\n",
        "plt.legend()\n",
        "plt.show()"
      ]
    },
    {
      "cell_type": "markdown",
      "metadata": {},
      "source": [
        "## Inteligencia Artificial Responsable: Conceptos Básicos\n",
        "\n",
        "1. **¿Por qué es importante considerar la ética y la responsabilidad al desarrollar sistemas de inteligencia artificial? Piensa un ejemplo de un posible impacto negativo si no se tienen en cuenta ciertos principios.**\n",
        "\n",
        "La **Inteligencia Artificial Responsable** (IA Responsable) es un enfoque que busca desarrollar, implementar y utilizar sistemas de IA de manera ética, transparente y segura, minimizando riesgos y maximizando beneficios para la sociedad.\n",
        "\n",
        "### 1. ¿Por qué es importante la IA Responsable?\n",
        "\n",
        "- **Impacto social:** Las decisiones tomadas por sistemas de IA pueden afectar la vida de las personas (por ejemplo, en salud, justicia, educación, finanzas).\n",
        "- **Evitar sesgos y discriminación:** Los modelos pueden aprender y amplificar prejuicios presentes en los datos.\n",
        "2. **¿Qué tipos de sesgos pueden aparecer en los modelos de IA? ¿Cómo podrías identificarlos y mitigarlos en un proyecto real?**\n",
        "\n",
        "- **Transparencia y explicabilidad:** Es fundamental entender cómo y por qué una IA toma ciertas decisiones.\n",
        "3. **¿Por qué la transparencia y la explicabilidad son relevantes en aplicaciones de IA que afectan a personas? ¿En qué situaciones sería obligatorio explicar cómo funciona un modelo?**\n",
        "\n",
        "- **Privacidad y seguridad:** Proteger los datos personales y evitar usos indebidos.\n",
        "4. **¿Qué riesgos existen si no se protege adecuadamente la privacidad de los datos en sistemas de IA? ¿Cómo podrías garantizar la confidencialidad de la información de los usuarios?**\n",
        "\n",
        "- **Cumplimiento legal y regulatorio:** Existen leyes y normativas que regulan el uso de IA en diferentes sectores.\n",
        "\n",
        "### 2. Principios clave de la IA Responsable\n",
        "\n",
        "- **Ética:** La IA debe respetar los valores humanos y los derechos fundamentales.\n",
        "- **Justicia:** Evitar la discriminación y promover la equidad.\n",
        "- **Transparencia:** Explicar cómo funciona el sistema y cómo toma decisiones.\n",
        "- **Privacidad:** Proteger los datos personales y la confidencialidad.\n",
        "- **Seguridad:** Prevenir usos maliciosos y garantizar la robustez del sistema.\n",
        "- **Responsabilidad:** Los desarrolladores y usuarios deben rendir cuentas por el uso de la IA.\n",
        "\n",
        "### 3. Buenas prácticas para una IA Responsable\n",
        "\n",
        "- **Evaluar y mitigar sesgos en los datos y modelos.**\n",
        "- **Documentar el proceso de desarrollo y las decisiones tomadas.**\n",
        "- **Permitir auditorías y revisiones externas.**\n",
        "- **Informar a los usuarios cuando interactúan con sistemas de IA.**\n",
        "- **Obtener consentimiento informado para el uso de datos personales.**\n",
        "- **Actualizar y monitorear los sistemas de IA regularmente.**\n",
        "\n",
        "### 4. Recursos y marcos de referencia\n",
        "\n",
        "- [Principios de IA Responsable de la UNESCO](https://unesdoc.unesco.org/ark:/48223/pf0000381137)\n",
        "- [Guía de Ética para IA de la Unión Europea](https://digital-strategy.ec.europa.eu/en/library/ethics-guidelines-trustworthy-ai)\n",
        "- [AI Now Institute](https://ainowinstitute.org/)\n",
        "\n",
        "---\n",
        "\n",
        "**En resumen:**  \n",
        "La IA Responsable es fundamental para asegurar que la inteligencia artificial beneficie a la sociedad, minimizando riesgos y respetando los derechos humanos. Como desarrolladores y usuarios, debemos ser conscientes de los impactos de la IA y actuar con ética y responsabilidad en todas las etapas del ciclo de vida de los sistemas\n",
        "\n",
        "\n",
        "**Imagina que trabajas en una empresa que utiliza IA para tomar decisiones sobre créditos bancarios. ¿Qué buenas prácticas implementarías para asegurar que el sistema sea justo y responsable?**"
      ]
    },
    {
      "cell_type": "code",
      "execution_count": null,
      "metadata": {},
      "outputs": [],
      "source": []
    }
  ],
  "metadata": {
    "colab": {
      "provenance": []
    },
    "kernelspec": {
      "display_name": "Python 3",
      "language": "python",
      "name": "python3"
    },
    "language_info": {
      "codemirror_mode": {
        "name": "ipython",
        "version": 3
      },
      "file_extension": ".py",
      "mimetype": "text/x-python",
      "name": "python",
      "nbconvert_exporter": "python",
      "pygments_lexer": "ipython3",
      "version": "3.9.6"
    }
  },
  "nbformat": 4,
  "nbformat_minor": 0
}
