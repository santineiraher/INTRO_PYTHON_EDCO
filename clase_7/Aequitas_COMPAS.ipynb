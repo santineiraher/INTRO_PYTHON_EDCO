{
  "cells": [
    {
      "cell_type": "markdown",
      "metadata": {
        "id": "4qM2vijBAYmw"
      },
      "source": [
        "## **Aequitas**\n",
        "\n",
        "En este notebook se presenta la herramienta de auditoría de sesgo **Aequitas**, la cual permite a los usuarios probar modelos con diferentes métricas de sesgo y equidad en relación con múltiples grupos de población. La herramienta facilita la toma de decisiones informada y equitativa sobre el desarrollo y la implementación de herramientas predictivas.\n",
        "\n",
        "En este caso particular, se analizará el conjunto de datos [COMPAS](https://www.propublica.org/datastore/dataset/compas-recidivism-risk-score-data-and-analysis) de ProPublica, sobre la evaluación del riesgo de reincidencia.\n",
        "\n",
        "**<font color=\"#04a6aa\"> Este caso es de caracter punitivo y por lo tanto las metricas de falsos positivos tiene más importancia</font>**\n",
        "\n",
        "\n",
        "* *Para más información sobre este ejemplo visite este [enlace](https://dssg.github.io/aequitas/examples/compas_demo.html).*\n",
        "\n",
        "* *Para más información sobre la herramienta Aequitas visite este [enlace](http://aequitas.dssg.io/).*\n",
        "\n",
        "* *Ver [Reporte de Sesgo](http://aequitas.dssg.io/example.html) con Aequitas Web App*"
      ]
    },
    {
      "cell_type": "markdown",
      "metadata": {
        "id": "ZNHb4LdoAu7I"
      },
      "source": [
        "### Librerias"
      ]
    },
    {
      "cell_type": "code",
      "execution_count": null,
      "metadata": {
        "colab": {
          "base_uri": "https://localhost:8080/"
        },
        "id": "9P8FrJd6-6bm",
        "outputId": "049fbd79-2b86-49ad-8d1c-894e32b96aee"
      },
      "outputs": [],
      "source": [
        "%pip install -q --upgrade aequitas"
      ]
    },
    {
      "cell_type": "code",
      "execution_count": 1,
      "metadata": {
        "id": "zWxRIPISA1WB"
      },
      "outputs": [],
      "source": [
        "import pandas as pd\n",
        "import seaborn as sns\n",
        "import warnings\n",
        "import matplotlib\n",
        "\n",
        "from aequitas.group import Group\n",
        "from aequitas.bias import Bias\n",
        "from aequitas.fairness import Fairness\n",
        "import aequitas.plot as ap\n",
        "from aequitas.plotting import Plot\n",
        "\n",
        "warnings.simplefilter('ignore')\n",
        "\n",
        "pd.set_option('display.max_columns', None)\n",
        "\n",
        "%matplotlib inline"
      ]
    },
    {
      "cell_type": "markdown",
      "metadata": {
        "id": "zV15Dg-dDMYs"
      },
      "source": [
        "### Dataset"
      ]
    },
    {
      "cell_type": "markdown",
      "metadata": {
        "id": "FbKG8xB1DvvW"
      },
      "source": [
        "\"Northpointe's COMPAS (Correctional Offender Management Profiling for Alternative Sanctions o Perfil de Gestión de Delincuentes Correccionales para Sanciones Alternativas, en español) es una de las herramientas/algoritmos de evaluación de riesgos más ampliamente utilizados dentro del sistema de justicia penal para guiar decisiones como la forma de establecer una fianza\"."
      ]
    },
    {
      "cell_type": "markdown",
      "metadata": {
        "id": "ARv7wIOD076v"
      },
      "source": [
        "La columna `score` corresponde a la etiqueta predicha por el modelo.\n",
        "\n",
        "La columna `label_value` corresponde a la etiqueta a predecir o etiqueta verdadera."
      ]
    },
    {
      "cell_type": "code",
      "execution_count": 2,
      "metadata": {
        "colab": {
          "base_uri": "https://localhost:8080/",
          "height": 363
        },
        "id": "Vv2x6ZvCCFGe",
        "outputId": "3260ad60-8034-4944-984b-98852006d5fa"
      },
      "outputs": [
        {
          "data": {
            "text/html": [
              "<div>\n",
              "<style scoped>\n",
              "    .dataframe tbody tr th:only-of-type {\n",
              "        vertical-align: middle;\n",
              "    }\n",
              "\n",
              "    .dataframe tbody tr th {\n",
              "        vertical-align: top;\n",
              "    }\n",
              "\n",
              "    .dataframe thead th {\n",
              "        text-align: right;\n",
              "    }\n",
              "</style>\n",
              "<table border=\"1\" class=\"dataframe\">\n",
              "  <thead>\n",
              "    <tr style=\"text-align: right;\">\n",
              "      <th></th>\n",
              "      <th>entity_id</th>\n",
              "      <th>score</th>\n",
              "      <th>label_value</th>\n",
              "      <th>race</th>\n",
              "      <th>sex</th>\n",
              "      <th>age_cat</th>\n",
              "    </tr>\n",
              "  </thead>\n",
              "  <tbody>\n",
              "    <tr>\n",
              "      <th>0</th>\n",
              "      <td>1</td>\n",
              "      <td>0.0</td>\n",
              "      <td>0</td>\n",
              "      <td>Other</td>\n",
              "      <td>Male</td>\n",
              "      <td>Greater than 45</td>\n",
              "    </tr>\n",
              "    <tr>\n",
              "      <th>1</th>\n",
              "      <td>3</td>\n",
              "      <td>0.0</td>\n",
              "      <td>1</td>\n",
              "      <td>African-American</td>\n",
              "      <td>Male</td>\n",
              "      <td>25 - 45</td>\n",
              "    </tr>\n",
              "    <tr>\n",
              "      <th>2</th>\n",
              "      <td>4</td>\n",
              "      <td>0.0</td>\n",
              "      <td>1</td>\n",
              "      <td>African-American</td>\n",
              "      <td>Male</td>\n",
              "      <td>Less than 25</td>\n",
              "    </tr>\n",
              "    <tr>\n",
              "      <th>3</th>\n",
              "      <td>5</td>\n",
              "      <td>1.0</td>\n",
              "      <td>0</td>\n",
              "      <td>African-American</td>\n",
              "      <td>Male</td>\n",
              "      <td>Less than 25</td>\n",
              "    </tr>\n",
              "    <tr>\n",
              "      <th>4</th>\n",
              "      <td>6</td>\n",
              "      <td>0.0</td>\n",
              "      <td>0</td>\n",
              "      <td>Other</td>\n",
              "      <td>Male</td>\n",
              "      <td>25 - 45</td>\n",
              "    </tr>\n",
              "    <tr>\n",
              "      <th>5</th>\n",
              "      <td>7</td>\n",
              "      <td>0.0</td>\n",
              "      <td>0</td>\n",
              "      <td>Other</td>\n",
              "      <td>Male</td>\n",
              "      <td>25 - 45</td>\n",
              "    </tr>\n",
              "    <tr>\n",
              "      <th>6</th>\n",
              "      <td>8</td>\n",
              "      <td>1.0</td>\n",
              "      <td>1</td>\n",
              "      <td>Caucasian</td>\n",
              "      <td>Male</td>\n",
              "      <td>25 - 45</td>\n",
              "    </tr>\n",
              "    <tr>\n",
              "      <th>7</th>\n",
              "      <td>9</td>\n",
              "      <td>0.0</td>\n",
              "      <td>0</td>\n",
              "      <td>Other</td>\n",
              "      <td>Male</td>\n",
              "      <td>25 - 45</td>\n",
              "    </tr>\n",
              "    <tr>\n",
              "      <th>8</th>\n",
              "      <td>10</td>\n",
              "      <td>0.0</td>\n",
              "      <td>0</td>\n",
              "      <td>Caucasian</td>\n",
              "      <td>Female</td>\n",
              "      <td>25 - 45</td>\n",
              "    </tr>\n",
              "    <tr>\n",
              "      <th>9</th>\n",
              "      <td>13</td>\n",
              "      <td>0.0</td>\n",
              "      <td>1</td>\n",
              "      <td>Caucasian</td>\n",
              "      <td>Male</td>\n",
              "      <td>Less than 25</td>\n",
              "    </tr>\n",
              "  </tbody>\n",
              "</table>\n",
              "</div>"
            ],
            "text/plain": [
              "   entity_id  score  label_value              race     sex          age_cat\n",
              "0          1    0.0            0             Other    Male  Greater than 45\n",
              "1          3    0.0            1  African-American    Male          25 - 45\n",
              "2          4    0.0            1  African-American    Male     Less than 25\n",
              "3          5    1.0            0  African-American    Male     Less than 25\n",
              "4          6    0.0            0             Other    Male          25 - 45\n",
              "5          7    0.0            0             Other    Male          25 - 45\n",
              "6          8    1.0            1         Caucasian    Male          25 - 45\n",
              "7          9    0.0            0             Other    Male          25 - 45\n",
              "8         10    0.0            0         Caucasian  Female          25 - 45\n",
              "9         13    0.0            1         Caucasian    Male     Less than 25"
            ]
          },
          "execution_count": 2,
          "metadata": {},
          "output_type": "execute_result"
        }
      ],
      "source": [
        "df = pd.read_csv(\"https://github.com/dssg/aequitas/raw/master/examples/data/compas_for_aequitas.csv\")\n",
        "df.head(10)"
      ]
    },
    {
      "cell_type": "code",
      "execution_count": 3,
      "metadata": {
        "colab": {
          "base_uri": "https://localhost:8080/"
        },
        "id": "uI5jE_VyEdJ0",
        "outputId": "e735cb00-b6bf-4ba4-d9b5-dad91b7743f2"
      },
      "outputs": [
        {
          "name": "stdout",
          "output_type": "stream",
          "text": [
            "Cantidad de registro del dataset: 7214.\n",
            "Numero de caracteristicas: 6.\n"
          ]
        }
      ],
      "source": [
        "print(f\"Cantidad de registro del dataset: {df.shape[0]}.\")\n",
        "print(f\"Numero de caracteristicas: {df.shape[1]}.\")"
      ]
    },
    {
      "cell_type": "code",
      "execution_count": null,
      "metadata": {
        "colab": {
          "base_uri": "https://localhost:8080/"
        },
        "id": "VnLu36dhEVpQ",
        "outputId": "f8e7c18b-4725-49a5-fb8c-56a2d8c68d44"
      },
      "outputs": [],
      "source": [
        "df.info()"
      ]
    },
    {
      "cell_type": "markdown",
      "metadata": {
        "id": "tA8alqxiE94x"
      },
      "source": [
        "#### Explorando COMPAS"
      ]
    },
    {
      "cell_type": "markdown",
      "metadata": {
        "id": "KHODOGGpFCls"
      },
      "source": [
        "**Evaluación de riesgos por raza**\n",
        "\n",
        "\"COMPAS produce una puntuación de riesgo que predice la probabilidad de que una persona cometa un delito en los próximos dos años. El resultado es una puntuación entre 1 y 10 que se asigna a 'bajo', 'medio' o 'alto'. Para usar Aequitas, colapsamos esto en una predicción binaria. Una puntuación de 0 indica una predicción de riesgo 'bajo' según COMPAS, mientras que un 1 indica riesgo 'alto' o 'medio' \".\n",
        "\n",
        "- *Esta categorización se basa en la interpretación de ProPublica de la guía para profesionales de Northpointe: \"De acuerdo con la guía para profesionales de Northpointe, los puntajes COMPAS en el rango medio y alto atraen más interés de las agencias de supervisión que los puntajes bajos, ya que un puntaje bajo sugeriría que hay poco riesgo de reincidencia general, por lo que consideramos puntajes más altos que 'bajos' para indicar un riesgo de reincidencia.\"*\n",
        "\n",
        "\"En los gráficos de barras a continuación, vemos una gran diferencia en cómo estos puntajes se distribuyen por raza, con una mayoría de personas blancas e hispanas pronosticadas como de bajo riesgo (`score = 0`) y una mayoría de personas negras pronosticadas con riesgo alto y medio (`score = 1`). También vemos que mientras que la mayoría de las personas en las categorías de edad mayores de 25 años se predicen como de bajo riesgo (`score = 0`), la mayoría de las personas menores de 25 años se predicen como de riesgo alto y medio (`score = 1`)\"."
      ]
    },
    {
      "cell_type": "code",
      "execution_count": 4,
      "metadata": {
        "id": "MrsyIc1bEw2r"
      },
      "outputs": [],
      "source": [
        "# Paleta de colores de aequitas (opcional)\n",
        "aq_palette = sns.diverging_palette(225, 35, n=2)"
      ]
    },
    {
      "cell_type": "code",
      "execution_count": 5,
      "metadata": {
        "colab": {
          "base_uri": "https://localhost:8080/",
          "height": 466
        },
        "id": "m7uOxgxkIXSK",
        "outputId": "c6dc8e2e-1df0-4f8a-da9b-24ca8194a79c"
      },
      "outputs": [
        {
          "data": {
            "text/plain": [
              "<matplotlib.legend.Legend at 0x1254b8e50>"
            ]
          },
          "execution_count": 5,
          "metadata": {},
          "output_type": "execute_result"
        },
        {
          "data": {
            "image/png": "[encoded data removed]",
            "text/plain": [
              "<Figure size 640x480 with 1 Axes>"
            ]
          },
          "metadata": {},
          "output_type": "display_data"
        }
      ],
      "source": [
        "by_race = sns.countplot(x=\"race\",\n",
        "                        hue=\"score\",\n",
        "                        data=df[df.race.isin(['African-American', 'Caucasian', 'Hispanic'])],\n",
        "                        palette=aq_palette)\n",
        "\n",
        "for label in by_race.containers:\n",
        "    by_race.bar_label(label)\n",
        "\n",
        "by_race.legend(title='score', labels=['0 = low risk', '1 = medium or hish risk'], loc='upper left', bbox_to_anchor=(1, 1))"
      ]
    },
    {
      "cell_type": "code",
      "execution_count": 6,
      "metadata": {
        "colab": {
          "base_uri": "https://localhost:8080/",
          "height": 466
        },
        "id": "9lbQFnOQIeu9",
        "outputId": "de7dba1c-9880-41c7-a5f2-5802148b628f"
      },
      "outputs": [
        {
          "data": {
            "text/plain": [
              "<matplotlib.legend.Legend at 0x125649700>"
            ]
          },
          "execution_count": 6,
          "metadata": {},
          "output_type": "execute_result"
        },
        {
          "data": {
            "image/png": "[encoded data removed]",
            "text/plain": [
              "<Figure size 640x480 with 1 Axes>"
            ]
          },
          "metadata": {},
          "output_type": "display_data"
        }
      ],
      "source": [
        "by_sex = sns.countplot(x=\"sex\", hue=\"score\", data=df, palette=aq_palette)\n",
        "\n",
        "for label in by_sex.containers:\n",
        "    by_sex.bar_label(label)\n",
        "\n",
        "by_sex.legend(title='score', labels=['0 = low risk', '1 = medium or hish risk'], loc='upper left', bbox_to_anchor=(1, 1))"
      ]
    },
    {
      "cell_type": "code",
      "execution_count": 7,
      "metadata": {
        "colab": {
          "base_uri": "https://localhost:8080/",
          "height": 466
        },
        "id": "Mi0SLEclJJ5n",
        "outputId": "ed7c5278-c63f-42f0-a8d5-a7a0c3d0d9c2"
      },
      "outputs": [
        {
          "data": {
            "text/plain": [
              "<matplotlib.legend.Legend at 0x1256c9be0>"
            ]
          },
          "execution_count": 7,
          "metadata": {},
          "output_type": "execute_result"
        },
        {
          "data": {
            "image/png": "[encoded data removed]",
            "text/plain": [
              "<Figure size 640x480 with 1 Axes>"
            ]
          },
          "metadata": {},
          "output_type": "display_data"
        }
      ],
      "source": [
        "by_age = sns.countplot(x=\"age_cat\", hue=\"score\", data=df, palette=aq_palette)\n",
        "\n",
        "for label in by_age.containers:\n",
        "    by_age.bar_label(label)\n",
        "\n",
        "by_age.legend(title='score', labels=['0 = low risk', '1 = medium or hish risk'], loc='upper left', bbox_to_anchor=(1, 1))"
      ]
    },
    {
      "cell_type": "markdown",
      "metadata": {
        "id": "1UZNNDWJMU5l"
      },
      "source": [
        "**Niveles de reincidencia. ¿La persona reincidió?**\n",
        "\n",
        "\"Este conjunto de datos incluye información sobre si el sujeto reincidió o no, por lo que podemos probar directamente el 'accuracy' de las predicciones\".\n",
        "\n",
        "Primero, visualizamos las tasas de reincidencia por raza.\n",
        "\n",
        "\"Siguiendo a ProPublica, definimos la reincidencia como un nuevo arresto dentro de dos años. (Si una persona reincide `label_value = 1`).\n",
        "\n",
        "- *ProPublica basó esta decisión en la guía para profesionales de Northpointe, que dice que su puntaje de reincidencia está destinado a predecir un nuevo delito menor o mayor dentro de los dos años posteriores a la fecha de administración de COMPAS\".*"
      ]
    },
    {
      "cell_type": "code",
      "execution_count": 8,
      "metadata": {
        "colab": {
          "base_uri": "https://localhost:8080/",
          "height": 466
        },
        "id": "JR_lbvg2LswT",
        "outputId": "0250c798-b651-45da-abb6-9bcbae0a1023"
      },
      "outputs": [
        {
          "data": {
            "text/plain": [
              "<matplotlib.legend.Legend at 0x1253b4820>"
            ]
          },
          "execution_count": 8,
          "metadata": {},
          "output_type": "execute_result"
        },
        {
          "data": {
            "image/png": "[encoded data removed]",
            "text/plain": [
              "<Figure size 640x480 with 1 Axes>"
            ]
          },
          "metadata": {},
          "output_type": "display_data"
        }
      ],
      "source": [
        "# Grafico de reincidencia según la raza\n",
        "label_by_race = sns.countplot(x=\"race\",\n",
        "                              hue=\"label_value\",\n",
        "                              data=df[df.race.isin(['African-American', 'Caucasian', 'Hispanic'])],\n",
        "                              palette=aq_palette)\n",
        "\n",
        "for label in label_by_race.containers:\n",
        "    label_by_race.bar_label(label)\n",
        "\n",
        "label_by_race.legend(title='label_value', labels=[\"0 = doesn't reoffend\", '1 = reoffend'], loc='upper left', bbox_to_anchor=(1, 1))"
      ]
    },
    {
      "cell_type": "code",
      "execution_count": 9,
      "metadata": {
        "colab": {
          "base_uri": "https://localhost:8080/",
          "height": 466
        },
        "id": "o1yUPlvLNJfS",
        "outputId": "2c0789e5-591a-446f-a01b-81a79b02f4bb"
      },
      "outputs": [
        {
          "data": {
            "text/plain": [
              "<matplotlib.legend.Legend at 0x1257e3520>"
            ]
          },
          "execution_count": 9,
          "metadata": {},
          "output_type": "execute_result"
        },
        {
          "data": {
            "image/png": "[encoded data removed]",
            "text/plain": [
              "<Figure size 640x480 with 1 Axes>"
            ]
          },
          "metadata": {},
          "output_type": "display_data"
        }
      ],
      "source": [
        "# Grafico de reincidencia segun el sexo\n",
        "label_by_sex = sns.countplot(x=\"sex\", hue=\"label_value\", data=df, palette=aq_palette)\n",
        "\n",
        "for label in label_by_sex.containers:\n",
        "    label_by_sex.bar_label(label)\n",
        "\n",
        "label_by_sex.legend(title='label_value', labels=[\"0 = doesn't reoffend\", '1 = reoffend'], loc='upper left', bbox_to_anchor=(1, 1))"
      ]
    },
    {
      "cell_type": "code",
      "execution_count": 10,
      "metadata": {
        "colab": {
          "base_uri": "https://localhost:8080/",
          "height": 466
        },
        "id": "LwPXwPUQNX2x",
        "outputId": "d4fa33f0-36fc-4009-c05e-8f6be646f906"
      },
      "outputs": [
        {
          "data": {
            "text/plain": [
              "<matplotlib.legend.Legend at 0x1257a30a0>"
            ]
          },
          "execution_count": 10,
          "metadata": {},
          "output_type": "execute_result"
        },
        {
          "data": {
            "image/png": "[encoded data removed]",
            "text/plain": [
              "<Figure size 640x480 with 1 Axes>"
            ]
          },
          "metadata": {},
          "output_type": "display_data"
        }
      ],
      "source": [
        "# Grafico de reincidencia segun la edad\n",
        "label_by_age = sns.countplot(x=\"age_cat\", hue=\"label_value\", data=df, palette=aq_palette)\n",
        "\n",
        "for label in label_by_age.containers:\n",
        "    label_by_age.bar_label(label)\n",
        "\n",
        "label_by_age.legend(title='label_value', labels=[\"0 = doesn't reoffend\", '1 = reoffend'], loc='upper left', bbox_to_anchor=(1, 1))"
      ]
    },
    {
      "cell_type": "markdown",
      "metadata": {
        "id": "LOcxxQtWNnUS"
      },
      "source": [
        "\"Los gráficos anteriores muestran que las tasas base de reincidencia ($TBR$) son más altas para los acusados negros en comparación con los blancos (0.51 frente a 0.39), aunque las predicciones ($Pred$) no coinciden con las tasas base\".\n",
        "\n",
        "- **Predicciones:**\n",
        "\n",
        "\\begin{equation}\n",
        "Pred_{blancos} = \\dfrac{854}{854+1600} = 34.8\\%\n",
        "\\end{equation}\n",
        "$\n",
        "$\n",
        "\\begin{equation}\n",
        "Pred_{negros} = \\dfrac{2174}{2174+1522} = 58.8\\%\n",
        "\\end{equation}\n",
        "\n",
        "- **Tasas base (realidad):**\n",
        "\n",
        "\\begin{equation}\n",
        "TBR_{blancos} = \\dfrac{966}{966+1488} = 39.3\\% \\,\\, \\color{red}{⇑}\n",
        "\\end{equation}\n",
        "$\n",
        "$\n",
        "\\begin{equation}\n",
        "TBR_{negros} = \\dfrac{1901}{1901+1759} = 51.4\\% \\,\\, \\color{green}{⇓}\n",
        "\\end{equation}"
      ]
    },
    {
      "cell_type": "markdown",
      "metadata": {
        "id": "oE_3H_hONv7M"
      },
      "source": [
        "### Trabajando con Aequitas\n",
        "\n",
        "\"Los profesionales se enfrentan al desafío de determinar si dichos patrones reflejan o no un sesgo. El hecho de que haya múltiples formas de medir el sesgo agrega complejidad al proceso de toma de decisiones. Con Aequitas, es posible automatizar el informe de varias métricas de equidad para ayudar en este proceso\".\n",
        "\n",
        "Para usar Aequitas utilizando programación es necesario seguir un proceso de tres pasos representado por tres clases de Python:\n",
        "\n",
        "`Group()`: Definir grupos\n",
        "\n",
        "`Bias()`: Calcular disparidades\n",
        "\n",
        "`Fairness()`: Afirmar la equidad\n",
        "\n",
        "Cada clase se basa en la anterior expandiendo el DataFrame de salida.\n",
        "\n",
        "*Nota: Para visualizar las métricas se utiliza la clase `Plot()`.*"
      ]
    },
    {
      "cell_type": "markdown",
      "metadata": {
        "id": "Sx-sUdKxPQZ6"
      },
      "source": [
        "#### Formateo de datos"
      ]
    },
    {
      "cell_type": "markdown",
      "metadata": {
        "id": "Kr9l6yHjPSKX"
      },
      "source": [
        "\"Los datos de este ejemplo se preprocesaron para que fueran compatibles con Aequitas. **La herramienta Aequitas siempre requiere una columna `score` y una columna binaria `label_value` para las métricas supervisadas** (es decir, Tasa de Falsos Descubrimientos (FDR), Tasa de Falsos Positivos (FPR), Tasa de Falsas Omisiones (FOR) y Tasa de Falsos Negativos (FNR))\".\n",
        "\n",
        "- *Para más información sobre estas métricas visite los siguientes enlaces: [Sesgo y Equidad](https://textbook.coleridgeinitiative.org/chap-bias.html), [Aequitas](https://github.com/dssg/aequitas#aequitas-group-metrics), [FPR vs FDR](https://stats.stackexchange.com/questions/336455/fpr-false-positive-rate-vs-fdr-false-discovery-rate), [Some Useful Statistics Definitions](https://www.cs.rpi.edu/~leen/misc-publications/SomeStatDefs.html), [Performance Metrics: False Omission Rate](https://www.roelpeters.be/glossary/false-omission-rate/#:~:text=Given%20a%20negative%20prediction%2C%20the,is%20the%20Negative%20Predictive%20Value)*.\n",
        "\n",
        "\"El preprocesamiento incluye, entre otros, la comprobación de las columnas `score` y `label_value` obligatorias, así como al menos una columna que representa atributos específicos del conjunto de datos. Consulte la [documentación](https://dssg.github.io/aequitas/) para obtener más información sobre los datos de entrada\".\n",
        "\n",
        "\"Tenga en cuenta que, si bien `entity_id` no es necesario para este ejemplo, Aequitas lo reconoce como un nombre de columna de reserva y no lo reconocerá como una columna de atributos\"."
      ]
    },
    {
      "cell_type": "markdown",
      "metadata": {
        "id": "3Emt3J_fTkC2"
      },
      "source": [
        "#### ¿Qué sesgos existen en mi modelo?\n",
        "\n",
        "##### **Clase Group() de Aequitas**"
      ]
    },
    {
      "cell_type": "markdown",
      "metadata": {
        "id": "z2bS5OSaghfz"
      },
      "source": [
        "##### **¿Cuál es la distribución de grupos, puntajes (scores) previstos y etiquetas (labels) en mi conjunto de datos?**"
      ]
    },
    {
      "cell_type": "markdown",
      "metadata": {
        "id": "0P9yHMtjUNxf"
      },
      "source": [
        "\"La clase `Group()` de Aequitas permite a los investigadores evaluar los sesgos en todos los subgrupos de su conjunto de datos mediante el ensamblaje de una matriz de confusión de cada subgrupo, el cálculo de métricas de uso común, como la Tasa de Falsos Positivos (FPR) y la Tasa de Falsas Omisiones (FOR), así como los recuentos por grupo y la prevalencia$^{1}$ de grupo entre la población de la muestra\".\n",
        "\n",
        "\"El método `get_crosstabs()` tabula una matriz de confusión para cada subgrupo y calcula las métricas de uso común (p. ej. FOR o FPR). También proporciona conteos por grupos y prevalencias de grupos\".\n",
        "\n",
        "*$^{1}$ La prevalencia es la fracción de individuos con etiqueta positiva o en este caso la tasa de ser verdaderamente culpable.*"
      ]
    },
    {
      "cell_type": "markdown",
      "metadata": {
        "id": "piSTOwn3kdMJ"
      },
      "source": [
        "**Recuentos de grupos calculados (Group Counts):**\n",
        "\n",
        "<table>\n",
        "<colgroup>\n",
        "<col style=\"width: 62%\">\n",
        "<col style=\"width: 38%\">\n",
        "</colgroup>\n",
        "<thead>\n",
        "<tr class=\"row-odd\"><th class=\"head\"><p>Count Type</p></th>\n",
        "<th class=\"head\"><p>Column Name</p></th>\n",
        "</tr>\n",
        "</thead>\n",
        "<tbody>\n",
        "<tr class=\"row-even\"><td><p>False Positive Count</p></td>\n",
        "<td><p>‘fp’</p></td>\n",
        "</tr>\n",
        "<tr class=\"row-odd\"><td><p>False Negative Count</p></td>\n",
        "<td><p>‘fn’</p></td>\n",
        "</tr>\n",
        "<tr class=\"row-even\"><td><p>True Negative Count</p></td>\n",
        "<td><p>‘tn’</p></td>\n",
        "</tr>\n",
        "<tr class=\"row-odd\"><td><p>True Positive Count</p></td>\n",
        "<td><p>‘tp’</p></td>\n",
        "</tr>\n",
        "<tr class=\"row-even\"><td><p>Predicted Positive Count</p></td>\n",
        "<td><p>‘pp’</p></td>\n",
        "</tr>\n",
        "<tr class=\"row-odd\"><td><p>Predicted Negative Count</p></td>\n",
        "<td><p>‘pn’</p></td>\n",
        "</tr>\n",
        "<tr class=\"row-even\"><td><p>Count of Negative Labels in Group</p></td>\n",
        "<td><p>‘group_label_neg’</p></td>\n",
        "</tr>\n",
        "<tr class=\"row-odd\"><td><p>Count of Positive Labels in Group</p></td>\n",
        "<td><p>‘group_label_pos’</p></td>\n",
        "</tr>\n",
        "<tr class=\"row-even\"><td><p>Group Size</p></td>\n",
        "<td><p>‘group_size’</p></td>\n",
        "</tr>\n",
        "<tr class=\"row-odd\"><td><p>Total Entities</p></td>\n",
        "<td><p>‘total_entities’</p></td>\n",
        "</tr>\n",
        "</tbody>\n",
        "</table>"
      ]
    },
    {
      "cell_type": "markdown",
      "metadata": {
        "id": "w-ozupmvVj4p"
      },
      "source": [
        "**Métricas absolutas calculadas (Absolute Metrics):**\n",
        "\n",
        "<table class=\"docutils align-center\">\n",
        "<colgroup>\n",
        "<col style=\"width: 73%\">\n",
        "<col style=\"width: 27%\">\n",
        "</colgroup>\n",
        "<thead>\n",
        "<tr class=\"row-odd\"><th class=\"head\"><p>Metric</p></th>\n",
        "<th class=\"head\"><p>Column Name</p></th>\n",
        "</tr>\n",
        "</thead>\n",
        "<tbody>\n",
        "<tr class=\"row-even\"><td><p>True Positive Rate</p></td>\n",
        "<td><p>‘tpr’</p></td>\n",
        "</tr>\n",
        "<tr class=\"row-odd\"><td><p>True Negative Rate</p></td>\n",
        "<td><p>‘tnr’</p></td>\n",
        "</tr>\n",
        "<tr class=\"row-even\"><td><p>False Omission Rate</p></td>\n",
        "<td><p>‘for’</p></td>\n",
        "</tr>\n",
        "<tr class=\"row-odd\"><td><p>False Discovery Rate</p></td>\n",
        "<td><p>‘fdr’</p></td>\n",
        "</tr>\n",
        "<tr class=\"row-even\"><td><p>False Positive Rate</p></td>\n",
        "<td><p>‘fpr’</p></td>\n",
        "</tr>\n",
        "<tr class=\"row-odd\"><td><p>False Negative Rate</p></td>\n",
        "<td><p>‘fnr’</p></td>\n",
        "</tr>\n",
        "<tr class=\"row-even\"><td><p>Negative Predictive Value</p></td>\n",
        "<td><p>‘npv’</p></td>\n",
        "</tr>\n",
        "<tr class=\"row-odd\"><td><p>Precision</p></td>\n",
        "<td><p>‘precision’</p></td>\n",
        "</tr>\n",
        "<tr class=\"row-even\"><td><p>Predicted Positive Ratio$_k$</p></td>\n",
        "<td><p>‘ppr’</p></td>\n",
        "</tr>\n",
        "<tr class=\"row-odd\"><td><p>Predicted Positive Ratio$_g$</p></td>\n",
        "<td><p>‘pprev’</p></td>\n",
        "</tr>\n",
        "<tr class=\"row-even\"><td><p>Group Prevalence</p></td>\n",
        "<td><p>‘prev’</p></td>\n",
        "</tr>\n",
        "</tbody>\n",
        "</table>"
      ]
    },
    {
      "cell_type": "markdown",
      "metadata": {
        "id": "aIYk3RKuWVrm"
      },
      "source": [
        "\"Nota: El método `get_crosstabs()` espera un Dataframe con columnas predefinidas `score` y `label_value`, tambien trata/maneja otras columnas (con algunas excepciones) como atributos contra los cuales probar las disparidades. En este caso, incluimos `race`, `sex` y `age_cat`:"
      ]
    },
    {
      "cell_type": "code",
      "execution_count": null,
      "metadata": {
        "id": "ljTAMTFYNaNk"
      },
      "outputs": [],
      "source": [
        "g = Group()\n",
        "xtab, _ = g.get_crosstabs(df)"
      ]
    },
    {
      "cell_type": "code",
      "execution_count": null,
      "metadata": {
        "colab": {
          "base_uri": "https://localhost:8080/"
        },
        "id": "EDOROBrSa5Bu",
        "outputId": "e3c7dab4-598c-4479-e83d-79e0b998874d"
      },
      "outputs": [],
      "source": [
        "xtab.shape"
      ]
    },
    {
      "cell_type": "markdown",
      "metadata": {
        "id": "TLLFA6_eoY_S"
      },
      "source": [
        "##### **¿Qué son las métricas de sesgo entre grupos?**"
      ]
    },
    {
      "cell_type": "markdown",
      "metadata": {
        "id": "BmHnBfzKphln"
      },
      "source": [
        "Una vez que haya ejecutado el método `get_crosstabs()` de la clase `Group()`, tendrá un dataframe (`xtab`) de los recuentos de grupos (Group Counts) y las métricas de sesgo de valor de grupo (Absolute Metrics)."
      ]
    },
    {
      "cell_type": "code",
      "execution_count": null,
      "metadata": {
        "colab": {
          "base_uri": "https://localhost:8080/",
          "height": 458
        },
        "id": "f__EIfGFXG_i",
        "outputId": "5aa9787a-a6f9-41b4-8d59-af6707f052cf"
      },
      "outputs": [],
      "source": [
        "# Dataframe con los recuentos de grupos y las métricas métricas de sesgo entre grupos\n",
        "xtab.head(11)"
      ]
    },
    {
      "cell_type": "markdown",
      "metadata": {
        "id": "viiBkoM9qJbW"
      },
      "source": [
        "La clase `Group()` tiene un método `list_absolute_metrics()`, que puede usar para un corte más rápido para ver solo recuentos o métricas de sesgo."
      ]
    },
    {
      "cell_type": "code",
      "execution_count": null,
      "metadata": {
        "id": "bcu5GYpDXJsz"
      },
      "outputs": [],
      "source": [
        "# Método list_absolute_metrics(), que puede usar para un corte más rápido para ver solo recuentos o métricas de sesgo.\n",
        "absolute_metrics = g.list_absolute_metrics(xtab)"
      ]
    },
    {
      "cell_type": "code",
      "execution_count": null,
      "metadata": {
        "colab": {
          "base_uri": "https://localhost:8080/"
        },
        "id": "MHhwa1cPYvaw",
        "outputId": "3a20ebfc-02f1-4edc-866d-cd696bb3e448"
      },
      "outputs": [],
      "source": [
        "absolute_metrics"
      ]
    },
    {
      "cell_type": "markdown",
      "metadata": {
        "id": "vcfrE2ixZHoL"
      },
      "source": [
        "**Ver los recuentos de grupos (Group Counts) calculados de población de la muestra:**"
      ]
    },
    {
      "cell_type": "code",
      "execution_count": null,
      "metadata": {
        "colab": {
          "base_uri": "https://localhost:8080/",
          "height": 394
        },
        "id": "Ph2lyd6pYx86",
        "outputId": "8be2cc84-16e5-4c99-ac95-d0fc9f38b928"
      },
      "outputs": [],
      "source": [
        "df_group_counts_metrics = xtab[[col for col in xtab.columns if col not in absolute_metrics]]\n",
        "df_group_counts_metrics.head(11)"
      ]
    },
    {
      "cell_type": "markdown",
      "metadata": {
        "id": "BeC4bg4qaVpI"
      },
      "source": [
        "**Ver las métricas absolutas (Absolute Metrics) calculadas para cada grupo de población de la muestra:**"
      ]
    },
    {
      "cell_type": "code",
      "execution_count": null,
      "metadata": {
        "colab": {
          "base_uri": "https://localhost:8080/",
          "height": 394
        },
        "id": "BqBj5OzcaVZ6",
        "outputId": "7463ef57-a836-4f70-e4f1-62f64e5ee6f0"
      },
      "outputs": [],
      "source": [
        "df_absolute_metrics = xtab[['attribute_name', 'attribute_value'] + absolute_metrics].round(2)\n",
        "df_absolute_metrics.head(11)"
      ]
    },
    {
      "cell_type": "markdown",
      "metadata": {
        "id": "5-t6KheMbKVn"
      },
      "source": [
        "##### **¿Cómo interpreto los sesgos en mi modelo?**\n",
        "\n",
        "En el segmento del Dataframe de tabulación cruzada (`xtab`) creado por el método `get_crosstabs()` de la clase `Group()`, vemos que los afroamericanos tienen una tasa de falsos positivos (`fpr`) del **45%**, mientras que los caucásicos tienen una tasa de falsos positivos (`fpr`) de solo el **23%**.\n",
        "\n",
        "**Esto significa que las personas afroamericanas tienen muchas más probabilidades de ser etiquetadas falsamente como de alto riesgo que las personas blancas.**\n",
        "\n",
        "\"Por otro lado, las tasas de falsa omisión (`for`) y las tasas de falso descubrimiento (`fdr`) son mucho más cercanas para esos dos grupos (35% vs 29% y 37% vs 41%)\".\n",
        "\n",
        "**Recordemos que:**\n",
        "\n",
        "- La tasa de falsos positivos (`fpr`) hace referencia a las personas que **NO** deberían estar sujetas a la intervención (ser etiquetadas como de 'alto riesgo').\n",
        "\n",
        "  Aquí, esto preguntaría, \"para una persona inocente, ¿cuáles son las posibilidades de que sean condenados injustamente en virtud del hecho de que son miembros de un grupo determinado?\"\n",
        "\n",
        "  Definición: fracción de individuos con etiquetas reales negativas que el modelo clasifica erróneamente con una etiqueta predicha positiva.\n",
        "\n",
        "- La tasa de falso descubrimiento (`fdr`) es la fracción de individuos que el modelo predice que tendrán una etiqueta positiva pero para quienes la etiqueta real es negativa.\n",
        "\n",
        "- La tasa de falsa omisión (`for`) es la fracción de individuos que el modelo predice que tendrán una etiqueta negativa pero para quienes la etiqueta real es positiva."
      ]
    },
    {
      "cell_type": "markdown",
      "metadata": {
        "id": "_cKeD4V9z53j"
      },
      "source": [
        "##### **¿Cómo visualizo el sesgo en mi modelo?**"
      ]
    },
    {
      "cell_type": "markdown",
      "metadata": {
        "id": "1f78fdq_0EZ5"
      },
      "source": [
        "Las métricas de sesgo de grupo absoluto del dataframe de tabulación cruzada (`xtab)` creado por el metodo `get_crosstabs()` de la clase `Group()` se pueden visualizar con dos métodos en la clase `Plot()`.\n",
        "\n",
        "Se puede especificar una métrica con `plot_group_metric()`, o se puede trazar una lista de métricas particulares de interés (o todas las métricas) con `plot_group_metric_all()`."
      ]
    },
    {
      "cell_type": "code",
      "execution_count": null,
      "metadata": {
        "id": "WLkM3ma11OxE"
      },
      "outputs": [],
      "source": [
        "aqp = Plot()"
      ]
    },
    {
      "cell_type": "markdown",
      "metadata": {
        "id": "Q0wlfLpO4R-Z"
      },
      "source": [
        "**Visualización de una única métrica de grupo absoluta en todos los grupos de población:**"
      ]
    },
    {
      "cell_type": "markdown",
      "metadata": {
        "id": "7B32KiE31wjD"
      },
      "source": [
        "El siguiente gráfico muestra la tasa de falsos negativos (`fnr`) de la métrica del grupo calculada en cada atributo, coloreada según el número de muestras en el grupo de atributos.\n",
        "\n",
        "Podemos ver en las barras más largas que en los atributos `age_cat`, `sex` y `race`, los grupos que COMPAS predice incorrectamente como de riesgo 'bajo' o 'medio' con mayor frecuencia son de 25 a 45 años, hombres y afroamericanos. Por el color más oscuro, también podemos decir que estas son las tres poblaciones más grandes en el conjunto de datos."
      ]
    },
    {
      "cell_type": "code",
      "execution_count": null,
      "metadata": {
        "colab": {
          "base_uri": "https://localhost:8080/",
          "height": 495
        },
        "id": "cmQYM00k1RAE",
        "outputId": "2764c93d-b31f-42e5-c42f-d0ba31b45ef8"
      },
      "outputs": [],
      "source": [
        "fnr = aqp.plot_group_metric(xtab, 'fnr')"
      ]
    },
    {
      "cell_type": "markdown",
      "metadata": {
        "id": "mY2nt6wA4Uux"
      },
      "source": [
        "**Ver métricas de grupo solo para grupos por encima de un cierto umbral de tamaño:**"
      ]
    },
    {
      "cell_type": "markdown",
      "metadata": {
        "id": "sROvce1S2t5y"
      },
      "source": [
        "Los tamaños de grupo extremadamente pequeños aumentan el error estándar de las estimaciones y podrían ser factores en el error de predicción, como los falsos negativos.\n",
        "\n",
        "Utilice el parámetro `min_group` para visualizar solo aquellos grupos de población de muestra por encima de un porcentaje especificado por el usuario del tamaño total de la muestra. Cuando eliminamos grupos por debajo del 5% del tamaño de la muestra, nos quedan solo dos de los seis grupos de raza (`race`), ya que hay grupos mucho más pequeños en esa categoría de atributo que en sexo (`sex`) o categoría de edad (`age_cat`)."
      ]
    },
    {
      "cell_type": "code",
      "execution_count": null,
      "metadata": {
        "colab": {
          "base_uri": "https://localhost:8080/",
          "height": 495
        },
        "id": "TV8jm0zl4sWC",
        "outputId": "e10764db-2f42-4d3f-f6a3-c03b0e8bd6e0"
      },
      "outputs": [],
      "source": [
        "fnr = aqp.plot_group_metric(xtab, 'fnr', min_group_size=0.05)"
      ]
    },
    {
      "cell_type": "markdown",
      "metadata": {
        "id": "ITDK7BoK6tJp"
      },
      "source": [
        "Tasa de Falsos Positivos"
      ]
    },
    {
      "cell_type": "code",
      "execution_count": null,
      "metadata": {
        "colab": {
          "base_uri": "https://localhost:8080/",
          "height": 495
        },
        "id": "nDZx3NoC2lUC",
        "outputId": "85f7e88f-1339-4090-b4d6-3503c44a0b37"
      },
      "outputs": [],
      "source": [
        "fpr = aqp.plot_group_metric(xtab, 'fpr')"
      ]
    },
    {
      "cell_type": "markdown",
      "metadata": {
        "id": "KmOP_eV05dNJ"
      },
      "source": [
        "###### **Otras visualizaciones**"
      ]
    },
    {
      "cell_type": "markdown",
      "metadata": {
        "id": "SC3-AO345sqA"
      },
      "source": [
        "**Visualización de múltiples métricas de grupo absolutas especificadas por el usuario en todos los grupos de población**"
      ]
    },
    {
      "cell_type": "markdown",
      "metadata": {
        "id": "aXLH1KMu5km4"
      },
      "source": [
        "Los gráficos a continuación muestran todas las métricas de grupo calculadas en cada atributo, coloreadas según la magnitud absoluta de la métrica.\n",
        "\n",
        "Podemos ver que el grupo de raza más grande, los afroamericanos, se pronostican/predicen positivos con más frecuencia que cualquier otro grupo racial (tasa positiva predicha `PPR` de 0.66), y es más probable que se clasifiquen incorrectamente como de riesgo 'alto' (tasa de falsos positivos `FPR` de 0.45) que incorrectamente clasificado como riesgo 'bajo' o 'medio' (tasa de falsos negativos `FNR` de 0.28).\n",
        "\n",
        "Tenga en cuenta que los nativos americanos se pronostican/predicen positivos con una prevalencia `PPREV` más alta en relación con el tamaño de su grupo que todos los demás \"grupos raciales\" (prevalencia predicha de 0.67)."
      ]
    },
    {
      "cell_type": "code",
      "execution_count": null,
      "metadata": {
        "colab": {
          "base_uri": "https://localhost:8080/",
          "height": 776
        },
        "id": "8Bse6YCU5csZ",
        "outputId": "4a374248-c01c-4382-b105-532e636351dc"
      },
      "outputs": [],
      "source": [
        "p = aqp.plot_group_metric_all(xtab, metrics=['ppr','pprev','fnr','fpr'], ncols=2)"
      ]
    },
    {
      "cell_type": "markdown",
      "metadata": {
        "id": "bjAG__QU75-Q"
      },
      "source": [
        "**Visualización de métricas de grupo absolutas predeterminadas en todos los grupos de población**"
      ]
    },
    {
      "cell_type": "markdown",
      "metadata": {
        "id": "PjasAZLn72Ug"
      },
      "source": [
        "**Métricas de grupo absolutas predeterminadas**\n",
        "\n",
        "Al visualizar más de una métrica de grupo absoluto, puede especificar una lista de métricas, especificar todas (`all`) las métricas o usar las métricas predeterminadas de Aequitas al no proporcionar un argumento:\n",
        "- Disparidad de tasa de grupo positiva predicha (`pprev`),\n",
        "- Disparidad de tasa positiva predicha (`ppr`),\n",
        "- Tasa de falso descubrimiento (`fdr`),\n",
        "- Tasa de falsa omisión (`for`)\n",
        "- Tasa de falso positivo (`fpr`)\n",
        "- Tasa de falso negativo (`fnr`)\n",
        "\n",
        "Los gráficos a continuación muestran las métricas de grupo predeterminadas calculadas en cada atributo, coloreadas según la cantidad de muestras en el grupo de atributos.\n",
        "\n",
        "Tenga en cuenta que la categoría de edad más de 45 años tiene casi el doble de probabilidades de ser incluida incorrectamente en un grupo de intervención (tasa de falso descubrimiento `FDR` de 0.46) que de exclusión incorrecta de la intervención (tasa de falsa omisión `FOR` 0,24). También podemos ver que el modelo tiene la misma probabilidad de predecir que una mujer tiene un riesgo \"alto\" como lo es para un hombre (tasa de falsos positivos `FPR` de 0.32 tanto para hombres como para mujeres)."
      ]
    },
    {
      "cell_type": "code",
      "execution_count": null,
      "metadata": {
        "colab": {
          "base_uri": "https://localhost:8080/",
          "height": 762
        },
        "id": "nHwofu5S85vU",
        "outputId": "d9e28f23-8041-48bd-be98-bded5e3b9d6d"
      },
      "outputs": [],
      "source": [
        "a = aqp.plot_group_metric_all(xtab, ncols=3)"
      ]
    },
    {
      "cell_type": "markdown",
      "metadata": {
        "id": "qJ-YXKeZ9ZdH"
      },
      "source": [
        "-----------"
      ]
    },
    {
      "cell_type": "markdown",
      "metadata": {
        "id": "EB_bd1BUdItG"
      },
      "source": [
        "#### **¿Qué niveles de disparidad existen entre los grupos de población?**\n",
        "\n",
        "**Clase Bias() de Aequitas**"
      ]
    },
    {
      "cell_type": "markdown",
      "metadata": {
        "id": "uLpgms1zdQOP"
      },
      "source": [
        "\"Usamos la clase Aequitas `Bias()` para calcular las disparidades entre grupos en función de la tabulación cruzada (`xtab`) devuelta por el método `get_crosstabs()` de la clase `Group()` descrito anteriormente.\n",
        "\n",
        "**Las disparidades se calculan como una proporción de una métrica para un grupo de interés en comparación con un grupo base\"**.\n",
        "\n",
        "Por ejemplo, la Disparidad de tasa de falsos negativos (`fnr_disparity`) para los acusados negros frente a los blancos es:"
      ]
    },
    {
      "cell_type": "markdown",
      "metadata": {
        "id": "a0f03Ez4e3nF"
      },
      "source": [
        "$$Disparity_{FNR} =  \\frac{FNR_{black}}{FNR_{white}}$$"
      ]
    },
    {
      "cell_type": "markdown",
      "metadata": {
        "id": "PuQgYW4heXRX"
      },
      "source": [
        "\"A continuación, usamos `get_disparity_predefined_groups()` que nos permite elegir grupos de referencia que aclaran el resultado para el profesional\".\n",
        "\n",
        "\"La clase `Bias()` incluye dos funciones adicionales de obtención de disparidad: `get_disparity_major_group()` y `get_disparity_min_metric()`, que automatizan la selección del grupo base en función de la mayoría de la muestra (en cada atributo) y el valor mínimo para cada métrica de sesgo calculada, respectivamente\".\n",
        "\n",
        "\"`get_disparity_predefined_groups()` permite al usuario definir un grupo base para cada atributo, como se ilustra a continuación\"."
      ]
    },
    {
      "cell_type": "markdown",
      "metadata": {
        "id": "x0POb91jfFAe"
      },
      "source": [
        "**Disparidades calculadas:**\n",
        "\n",
        "<table class=\"docutils align-center\">\n",
        "<colgroup>\n",
        "<col style=\"width: 66%\">\n",
        "<col style=\"width: 34%\">\n",
        "</colgroup>\n",
        "<thead>\n",
        "<tr class=\"row-odd\"><th class=\"head\"><p>Metric</p></th>\n",
        "<th class=\"head\"><p>Column Name</p></th>\n",
        "</tr>\n",
        "</thead>\n",
        "<tbody>\n",
        "<tr class=\"row-even\"><td><p>True Positive Rate Disparity</p></td>\n",
        "<td><p>‘tpr_disparity’</p></td>\n",
        "</tr>\n",
        "<tr class=\"row-odd\"><td><p>True Negative Rate</p></td>\n",
        "<td><p>‘tnr_disparity’</p></td>\n",
        "</tr>\n",
        "<tr class=\"row-even\"><td><p>False Omission Rate</p></td>\n",
        "<td><p>‘for_disparity’</p></td>\n",
        "</tr>\n",
        "<tr class=\"row-odd\"><td><p>False Discovery Rate</p></td>\n",
        "<td><p>‘fdr_disparity’</p></td>\n",
        "</tr>\n",
        "<tr class=\"row-even\"><td><p>False Positive Rate</p></td>\n",
        "<td><p>‘fpr_disparity’</p></td>\n",
        "</tr>\n",
        "<tr class=\"row-odd\"><td><p>False NegativeRate</p></td>\n",
        "<td><p>‘fnr_disparity’</p></td>\n",
        "</tr>\n",
        "<tr class=\"row-even\"><td><p>Negative Predictive Value</p></td>\n",
        "<td><p>‘npv_disparity’</p></td>\n",
        "</tr>\n",
        "<tr class=\"row-odd\"><td><p>Precision Disparity</p></td>\n",
        "<td><p>‘precision_disparity’</p></td>\n",
        "</tr>\n",
        "<tr class=\"row-even\"><td><p>Predicted Positive Ratio$_k$ Disparity</p></td>\n",
        "<td><p>‘ppr_disparity’</p></td>\n",
        "</tr>\n",
        "<tr class=\"row-odd\"><td><p>Predicted Positive Ratio$_g$ Disparity</p></td>\n",
        "<td><p>‘pprev_disparity’</p></td>\n",
        "</tr>\n",
        "</tbody>\n",
        "</table>"
      ]
    },
    {
      "cell_type": "markdown",
      "metadata": {
        "id": "fgQzcAAYfKbf"
      },
      "source": [
        "\"Las columnas para cada disparidad se agregan al Dataframe de la tabla de referencias cruzadas (`xtab`), junto con una columna que indica el grupo de referencia para cada métrica calculada (indicada por `[NOMBRE DE LA MÉTRICA]_ref_group_value`)\".\n",
        "\n",
        "Vemos una porción del Dataframe con métricas calculadas en la siguiente sección."
      ]
    },
    {
      "cell_type": "code",
      "execution_count": null,
      "metadata": {
        "id": "wnJOWyGueTlF"
      },
      "outputs": [],
      "source": [
        "b = Bias()"
      ]
    },
    {
      "cell_type": "markdown",
      "metadata": {
        "id": "Sq41e-zifj_g"
      },
      "source": [
        "**Disparidades calculadas en relación con un grupo especificado por el usuario para cada atributo:**"
      ]
    },
    {
      "cell_type": "code",
      "execution_count": null,
      "metadata": {
        "colab": {
          "base_uri": "https://localhost:8080/"
        },
        "id": "ROyNmn8PZbDw",
        "outputId": "083f4636-0f79-4ed0-9895-dd8fb3408140"
      },
      "outputs": [],
      "source": [
        "# Hombres caucasicos entre los 24 y 45 años = grupo de referencia especificado\n",
        "\n",
        "bdf = b.get_disparity_predefined_groups(xtab, original_df=df,\n",
        "                                        ref_groups_dict={'race':'Caucasian', 'sex':'Male', 'age_cat':'25 - 45'}\n",
        "                                        )\n",
        "\n",
        "# Dataframe con recuentos por grupo, metricas absolutas y disparidades por grupo de referencia:\n",
        "# bdf.head(11)"
      ]
    },
    {
      "cell_type": "markdown",
      "metadata": {
        "id": "3ZA0T9pLgPaf"
      },
      "source": [
        "La clase `Bias()` incluye un método para devolver rápidamente una lista de disparidades calculadas del Dataframe devuelto por los métodos `get_disparity_`."
      ]
    },
    {
      "cell_type": "code",
      "execution_count": null,
      "metadata": {
        "colab": {
          "base_uri": "https://localhost:8080/"
        },
        "id": "CpkCn4fig3Fb",
        "outputId": "91129a1e-2e8a-4966-ab33-b39751a5d19b"
      },
      "outputs": [],
      "source": [
        "list_disparities = b.list_disparities(bdf)\n",
        "list_disparities"
      ]
    },
    {
      "cell_type": "code",
      "execution_count": null,
      "metadata": {
        "colab": {
          "base_uri": "https://localhost:8080/",
          "height": 394
        },
        "id": "Aqep42jVgFd6",
        "outputId": "4c32374c-1174-458d-8317-63b9006ac86c"
      },
      "outputs": [],
      "source": [
        "# Ver métricas de disparidad agregadas al Dataframe\n",
        "bdf[['attribute_name', 'attribute_value'] + list_disparities].style"
      ]
    },
    {
      "cell_type": "markdown",
      "metadata": {
        "id": "mOOMpUodBxGW"
      },
      "source": [
        "##### **¿Cómo interpreto las tasas de disparidad calculadas?**"
      ]
    },
    {
      "cell_type": "markdown",
      "metadata": {
        "id": "hEQLG5IDB5Xm"
      },
      "source": [
        "Las disparidades calculadas del dataframe devuelto por los métodos `get_disparity_` de la clase `Bias()` están en relación con un grupo de referencia, que siempre tendrá una disparidad de 1.0\n",
        "\n",
        "Las diferencias en las tasas de falsos positivos (`fpr`), anotadas en la discusión de la clase `Group()` anterior, se aclaran utilizando la relación de disparidad (`fpr_disparity`). Las personas negras son identificadas falsamente como de alto o mediano riesgo 1.9 veces más que las personas blancas.\n",
        "\n",
        "Como se vio anteriormente, las tasas de falso descubrimiento (`fdr`) tienen mucha menos disparidad (`fdr_disparity`), o fracción de falsos positivos sobre los positivos previstos en un grupo. Como los grupos de referencia tienen disparidad = 1 por diseño en Aequitas, la disparidad más baja se destaca por el valor `fdr_disparity` cercano a 1.0 (0.906) para el grupo de atributos de raza afroamericano (`African-American`) cuando las disparidades se calculan utilizando el grupo base predefinido caucásico (`Caucasian`). Tenga en cuenta que COMPAS está calibrado para equilibrar la tasa de falsos positivos (`fpr`) y las tasas de falsos descubrimientos (`fdr`) en los grupos."
      ]
    },
    {
      "cell_type": "markdown",
      "metadata": {
        "id": "9urY0HYhER6O"
      },
      "source": [
        "##### **¿Cómo afecta el grupo de referencia seleccionado los cálculos de disparidad?**"
      ]
    },
    {
      "cell_type": "markdown",
      "metadata": {
        "id": "qtu8icveEYa8"
      },
      "source": [
        "Las disparidades calculadas en la clase `Bias()` basadas en la tabulación cruzada (`xtab`) devuelta por el método `get_crosstabs()` de la clase `Group()` se pueden derivar utilizando varios grupos base diferentes. Además de usar los grupos especificados por el usuario que se ilustran arriba, Aequitas puede automatizar la selección del grupo base en función de las características del conjunto de datos:"
      ]
    },
    {
      "cell_type": "markdown",
      "metadata": {
        "id": "RDexZ-q5Enqu"
      },
      "source": [
        "**Evaluación de las disparidades calculadas en relación con un grupo de referencia de raza diferente**\n",
        "\n",
        "Cambiar incluso un atributo en los grupos predefinidos alterará las disparidades calculadas. Cuando se usa un grupo predefinido diferente hispano (`Hispanic`), podemos ver que las personas negras tienen 2.1 veces más probabilidades de ser falsamente identificadas como de riesgo alto o medio que las personas hispanas (en comparación con 1.9 veces más probabilidades que las personas blancas), e incluso es menos probable que se los identifique falsamente como de bajo riesgo en comparación con los hispanos en lugar de los blancos."
      ]
    },
    {
      "cell_type": "code",
      "execution_count": null,
      "metadata": {
        "colab": {
          "base_uri": "https://localhost:8080/"
        },
        "id": "XyIY1NCSFWhz",
        "outputId": "de293f0e-6343-4682-fbe1-3098019c5aa3"
      },
      "outputs": [],
      "source": [
        "# Hombres hispanos entre los 24 y 45 años = grupo de referencia especificado\n",
        "\n",
        "hbdf = b.get_disparity_predefined_groups(xtab, original_df=df,\n",
        "                                         ref_groups_dict={'race':'Hispanic', 'sex':'Male', 'age_cat':'25 - 45'}\n",
        "                                         )\n",
        "\n",
        "# Dataframe con recuentos por grupo, metricas absolutas y disparidades por grupo de referencia:\n",
        "# hbdf.head(11)"
      ]
    },
    {
      "cell_type": "code",
      "execution_count": null,
      "metadata": {
        "colab": {
          "base_uri": "https://localhost:8080/",
          "height": 394
        },
        "id": "qG_XBovxF3Ak",
        "outputId": "6ccd58f1-2c9e-4e16-b57f-96f06986efaa"
      },
      "outputs": [],
      "source": [
        "# Ver métricas de disparidad adicionadas al dataframe\n",
        "hbdf[['attribute_name', 'attribute_value'] +  b.list_disparities(hbdf)].style"
      ]
    },
    {
      "cell_type": "markdown",
      "metadata": {
        "id": "E2VzSfJM_g6z"
      },
      "source": [
        "###### **Otras disparidades**"
      ]
    },
    {
      "cell_type": "markdown",
      "metadata": {
        "id": "9qjRDO4kGljO"
      },
      "source": [
        "**Disparidades calculadas en relación con el grupo mayoritario de la población de la muestra (en términos de prevalencia del grupo) para cada atributo**\n",
        "\n",
        "Los grupos de población mayoritarios para cada atributo (`race`, `sex`, `age_cat`) en el conjunto de datos COMPAS son `African-American`, `Male` y `25 - 45`.\n",
        "\n",
        "El uso del método de cálculo `get_disparity_major_group()` permite a los investigadores evaluar rápidamente cuánto más (o cuánto menos) otros grupos se identifican falsa o correctamente como de riesgo alto o medio en relación con el grupo del que tienen más datos."
      ]
    },
    {
      "cell_type": "code",
      "execution_count": null,
      "metadata": {
        "colab": {
          "base_uri": "https://localhost:8080/"
        },
        "id": "1tykUb5_HHcc",
        "outputId": "39dce2b1-81b5-4ade-a4a5-94dfcd521bc1"
      },
      "outputs": [],
      "source": [
        "majority_bdf = b.get_disparity_major_group(xtab, original_df=df)"
      ]
    },
    {
      "cell_type": "code",
      "execution_count": null,
      "metadata": {
        "colab": {
          "base_uri": "https://localhost:8080/",
          "height": 394
        },
        "id": "fGmvfq3gHP-U",
        "outputId": "6fb0c528-09fe-434e-b274-17fed49b5794"
      },
      "outputs": [],
      "source": [
        "# Ver métricas de disparidad adicionadas al dataframe\n",
        "majority_bdf[['attribute_name', 'attribute_value'] +  b.list_disparities(majority_bdf)].style"
      ]
    },
    {
      "cell_type": "markdown",
      "metadata": {
        "id": "QxfijYikHqVD"
      },
      "source": [
        "**Disparidades calculadas en relación al valor mínimo de cada métrica**\n",
        "\n",
        "Cuando no tiene un marco de referencia preexistente o un contexto de política para el conjunto de datos (por ejemplo, caucásicos u hombres históricamente favorecidos), puede optar por ver las disparidades en relación con el grupo con el valor más bajo para cada métrica de disparidad, ya que entonces el valor de cada grupo será al menos 1.0 y las relaciones se pueden evaluar de forma más lineal.\n",
        "\n",
        "Tenga en cuenta que las disparidades son mucho más variadas y pueden tener una magnitud mayor cuando se usa el valor mínimo por métrica como grupo de referencia en comparación con uno de los otros dos métodos."
      ]
    },
    {
      "cell_type": "code",
      "execution_count": null,
      "metadata": {
        "colab": {
          "base_uri": "https://localhost:8080/"
        },
        "id": "QpuTY7f0H8e0",
        "outputId": "b5a6b745-0472-44ea-f803-a6ce43d9e45d"
      },
      "outputs": [],
      "source": [
        "min_metric_bdf = b.get_disparity_min_metric(df=xtab, original_df=df)"
      ]
    },
    {
      "cell_type": "code",
      "execution_count": null,
      "metadata": {
        "colab": {
          "base_uri": "https://localhost:8080/",
          "height": 394
        },
        "id": "b-R60FwiH__k",
        "outputId": "ad34fc37-8889-4bd5-c562-dcb086cd01f8"
      },
      "outputs": [],
      "source": [
        "# Ver métricas de disparidad adicionadas al dataframe\n",
        "min_metric_bdf[['attribute_name', 'attribute_value'] + b.list_disparities(min_metric_bdf)].style"
      ]
    },
    {
      "cell_type": "markdown",
      "metadata": {
        "id": "BZBm0FQyA3tz"
      },
      "source": [
        "##### **Otras visualizaciones**"
      ]
    },
    {
      "cell_type": "markdown",
      "metadata": {
        "id": "BpO8FULsJygj"
      },
      "source": [
        "Para visualizar las disparidades en el dataframe devuelto por uno de los métodos `get_disparity_` de la clase `Bias()`, utilice uno de los dos métodos de la clase `Plot()`:\n",
        "\n",
        "Se puede especificar una métrica de disparidad particular con `plot_disparity()`. Para trazar una sola disparidad, se debe especificar una métrica y un atributo.\n",
        "\n",
        "Las disparidades relacionadas con una lista de métricas particulares de interés o todas (`all`) las métricas se pueden trazar con `plot_disparity_all()`. Se debe especificar al menos una métrica o al menos un atributo al trazar múltiples disparidades (o la misma disparidad en múltiples atributos). Por ejemplo, para trazar `PPR` y Disparidad de `precision` para todos los atributos, especifique `metrics=['ppr', 'precision']` sin especificar ningún atributo, y para trazar métricas predeterminadas por raza, especifique `atributes=['race']` y sin métricas especificadas.\n",
        "\n",
        "Los grupos de referencia se muestran en gris y siempre tienen una disparidad = 1. Tenga en cuenta que las disparidades superiores a 10x del grupo de referencia se visualizarán como 10x, y las disparidades inferiores a 0.1x del grupo de referencia se visualizarán como 0.1x.\n",
        "\n",
        "La significancia estadística (con un valor predeterminado de 0.05) se indica mediante dos asteriscos (**) junto al valor de un cuadrado del mapa de árbol (tree map)."
      ]
    },
    {
      "cell_type": "markdown",
      "metadata": {
        "id": "L3BmvIjGIG8e"
      },
      "source": [
        "###### **Visualización de disparidades entre grupos en un único atributo especificado por el usuario para una única métrica de disparidad especificada por el usuario**\n",
        "\n",
        "El siguiente diagrama de árbol (Treemap) muestra los valores de disparidad de FPR (False Positive Rate) calculados utilizando un grupo predefinido, en este caso, el grupo `Caucasian` dentro del atributo de raza, dimensionado según el tamaño del grupo y coloreado según la magnitud de la disparidad.\n",
        "\n",
        "Podemos ver en los asteriscos que las disparidades entre el grupo de población de referencia `Caucasian` y los grupos de población de raza `African-American` y `Other` son estadísticamente significativas al nivel del 5%.\n",
        "\n",
        "Nota: Los grupos se visualizan en no menos de 0.1 veces el tamaño del grupo de referencia y no más de 10 veces el tamaño del grupo de referencia."
      ]
    },
    {
      "cell_type": "code",
      "execution_count": null,
      "metadata": {
        "id": "tqRq92nCJwkk"
      },
      "outputs": [],
      "source": [
        "aqp = Plot()"
      ]
    },
    {
      "cell_type": "code",
      "execution_count": null,
      "metadata": {
        "colab": {
          "base_uri": "https://localhost:8080/",
          "height": 455
        },
        "id": "5xcHHtUqFWUt",
        "outputId": "39964e7f-d1e8-4ffc-84c3-42f371643c1b"
      },
      "outputs": [],
      "source": [
        "aqp.plot_disparity(bdf, group_metric='fpr_disparity', attribute_name='race')"
      ]
    },
    {
      "cell_type": "markdown",
      "metadata": {
        "id": "VfQEfjm6KAqn"
      },
      "source": [
        "\"Cuando otro grupo, 'Hispanic', es el grupo de referencia, los colores cambian para indicar mayor o menor disparidad en relación con ese grupo. Los tamaños de los cuadrados del mapa de árbol también se pueden ajustar, ya que los límites de tamaño de grupo para la visualización están en relación con el grupo de referencia (mínimo 0,1 veces el tamaño del grupo de referencia y máximo 10 veces el tamaño del grupo de referencia)\"."
      ]
    },
    {
      "cell_type": "code",
      "execution_count": null,
      "metadata": {
        "colab": {
          "base_uri": "https://localhost:8080/",
          "height": 455
        },
        "id": "io7QgiaoKAa_",
        "outputId": "7c6fbd6d-aadd-43da-81bd-98956a07da16"
      },
      "outputs": [],
      "source": [
        "aqp.plot_disparity(hbdf, group_metric='fpr_disparity', attribute_name='race')"
      ]
    },
    {
      "cell_type": "markdown",
      "metadata": {
        "id": "Vxk8lJa7LPeh"
      },
      "source": [
        "###### **Visualización de disparidades entre todos los grupos para una sola métrica de disparidad especificada por el usuario**\n",
        "\n",
        "\"Los Treemaps a continuación muestran las disparidades de precisión (Precision Disparity) calculadas en función de grupos de referencia predefinidos (Hombres hispanos entre los 25 y 45 años de edad), dimensionados según el tamaño del grupo y coloreados según la magnitud de disparidad\".\n",
        "\n",
        "\"Está claro que la mayoría de las muestras en los datos son afroamericanos, hombres y de 25 a 45 años para los atributos de categoría de raza, sexo y edad, respectivamente. Según los colores más claros en los diagramas de árbol, vemos que hay una disparidad de precisión relativamente cercana a 1 (una disparidad de 1 indica que no hay disparidad) en todos los atributos\"."
      ]
    },
    {
      "cell_type": "code",
      "execution_count": null,
      "metadata": {
        "colab": {
          "base_uri": "https://localhost:8080/",
          "height": 575
        },
        "id": "wXnZjfkDLLH5",
        "outputId": "f4552151-7e1f-4ff6-af2e-54f42991ee31"
      },
      "outputs": [],
      "source": [
        "j = aqp.plot_disparity_all(majority_bdf, metrics=['precision_disparity'])"
      ]
    },
    {
      "cell_type": "markdown",
      "metadata": {
        "id": "P0L8nJNhMuIa"
      },
      "source": [
        "###### **Visualización de disparidades entre grupos en un solo atributo especificado por el usuario para métricas predeterminadas**\n",
        "\n",
        "\"Al visualizar más de una disparidad, puede especificar una lista de métricas de disparidad, todas las métricas de disparidad (`all`) o usar las métricas de disparidad predeterminadas de Aequitas al no proporcionar un argumento\":\n",
        "\n",
        "- Predicted Positive Group Rate Disparity (`pprev_disparity`)\n",
        "- Predicted Positive Rate Disparity (`ppr_disparity`)\n",
        "- False Discovery Rate Disparity (`fdr_disparity`)\n",
        "- False Omission Rate Disparity (`for_disparity`)\n",
        "- False Positive Rate Disparity (`fpr_disparity`)\n",
        "- False Negative Rate Disparity (`fnr_disparity`)\n",
        "\n",
        "\"Los Treemaps a continuación muestran las disparidades predeterminadas entre los grupos `age_cat` calculadas en función del valor mínimo de cada métrica, coloreadas en función de la magnitud de la disparidad. Podemos ver, basándonos en el coloreado, que hay un nivel más bajo de disparidad de tasa de descubrimiento falso (`fdr_disparity`) entre categorías de edad que la disparidad de tasa de grupo positivo pronosticada (`pprev_disparity`) o la disparidad de tasa positiva pronosticada (`ppr_disparity`)\"."
      ]
    },
    {
      "cell_type": "code",
      "execution_count": null,
      "metadata": {
        "colab": {
          "base_uri": "https://localhost:8080/",
          "height": 701
        },
        "id": "DgBzNby1N_qb",
        "outputId": "f0d02c54-6b13-4562-de79-217696b80492"
      },
      "outputs": [],
      "source": [
        "min_met = aqp.plot_disparity_all(min_metric_bdf, attributes=['age_cat'], significance_alpha=0.05)"
      ]
    },
    {
      "cell_type": "markdown",
      "metadata": {
        "id": "tWjKXIkROQg7"
      },
      "source": [
        "###### **Visualización de disparidades entre grupos en un solo atributo especificado por el usuario para todas las métricas de disparidad calculadas**\n",
        "\n",
        "\"Los Treemaps a continuación muestran las disparidades entre los grupos de atributos de raza calculados en función de grupos de referencia predefinidos (Hombres hispanos entre los 25 y 45 años de edad) para las 10 métricas de disparidad, coloreadas según la magnitud de la disparidad\"."
      ]
    },
    {
      "cell_type": "code",
      "execution_count": null,
      "metadata": {
        "colab": {
          "base_uri": "https://localhost:8080/",
          "height": 1000
        },
        "id": "0xWkv0tSOmy4",
        "outputId": "12a086b3-08fa-4650-cd50-dffaf57423c6"
      },
      "outputs": [],
      "source": [
        "tm_capped = aqp.plot_disparity_all(hbdf, attributes=['race'], metrics = 'all', significance_alpha=0.05)"
      ]
    },
    {
      "cell_type": "markdown",
      "metadata": {
        "id": "0Y4ojLKqOzDS"
      },
      "source": [
        "###### **Visualización de la disparidad entre todos los grupos para múltiples métricas de disparidad especificadas por el usuario**\n",
        "\n",
        "\"Los Treemaps a continuación muestran las disparidades de la Tasa de omisiones falsas (for_disparity) y la Tasa de falsos positivos (fpr_disparity), calculadas en relación con el grupo mayoritario de la muestra para cada atributo, entre los grupos de los tres atributos, coloreadas según la magnitud de la disparidad\".\n",
        "\n",
        "\"Vemos que varios grupos ('Asian', 'Native American') tienen una tasa de omisiones falsas (FOR) mucho más baja que la de los afroamericanos, con tasas de omisiones falsas (FOR) bastante similares entre los sexos y los dos grupos de mayor edad. Aunque hay muchos más hombres en la muestra, los dos grupos tienen tasas de falsos positivos (FPR) casi idénticas, mientras que el color nos dice que hay mayores disparidades en la tasa de falsos positivos (fpr_disparity) entre razas y categorías de edad que la disparidad en la tasa de falsas omisiones (for_disparity)\"."
      ]
    },
    {
      "cell_type": "code",
      "execution_count": null,
      "metadata": {
        "colab": {
          "base_uri": "https://localhost:8080/",
          "height": 733
        },
        "id": "AGJ27WeUP5xL",
        "outputId": "d30e2a32-15d9-4404-8d07-13ac954fc886"
      },
      "outputs": [],
      "source": [
        "dp = aqp.plot_disparity_all(majority_bdf, metrics=['for_disparity', 'fpr_disparity'], significance_alpha=0.05)"
      ]
    },
    {
      "cell_type": "markdown",
      "metadata": {
        "id": "zEAw1fxy62_H"
      },
      "source": [
        "---"
      ]
    },
    {
      "cell_type": "markdown",
      "metadata": {
        "id": "JxM5LJWU63xG"
      },
      "source": [
        "#### **¿Cómo evalúo la equidad del modelo?**\n",
        "\n",
        "**Clase Fairness() de Aequitas**"
      ]
    },
    {
      "cell_type": "markdown",
      "metadata": {
        "id": "3CsXCd_EmiYd"
      },
      "source": [
        "\"Finalmente, la clase `Fairness()` proporciona tres funciones que brindan un resumen de equidad de alto nivel. Esta clase se basa en el dataframe devuelto por uno de los tres métodos `get_dispariy_` de la clase `Bias()`\".\n",
        "\n",
        "\"Usando la disparidad de FPR como ejemplo y el umbral de equidad predeterminado, tenemos\":\n",
        "\n",
        "$$0.8 < Disparity_{FNR} = \\frac{FPR_{Group} }{FPR_{BaseGroup}} < 1.25$$"
      ]
    },
    {
      "cell_type": "markdown",
      "metadata": {
        "id": "eciltQvrnpEc"
      },
      "source": [
        "Es posible evaluar la equidad en varios niveles de detalle:"
      ]
    },
    {
      "cell_type": "markdown",
      "metadata": {
        "id": "RFPJfNLennB8"
      },
      "source": [
        "##### **Equidad a nivel de grupo (Group Level Fairness)**\n",
        "\n",
        "\"Cuando la columna `label_value` no está incluida en el conjunto de datos original, Aequitas calcula solo la paridad estadística y las paridades de impacto\".\n",
        "\n",
        "\"Cuando `label_value` se incluye en el conjunto de datos original, la función `get_group_value_fairness()` se basa en el dataframe anterior (dataframe `bdf`). La función `get_group_value_fairness()` nos brinda estadísticas a nivel de grupo de atributos para determinaciones de equidad\":"
      ]
    },
    {
      "cell_type": "markdown",
      "metadata": {
        "id": "4TdSqGytohZV"
      },
      "source": [
        "**Paridades calculadas:**\n",
        "\n",
        "| Parity | Column Name |\n",
        "| --- | --- |\n",
        "| True Positive Rate Parity | ‘TPR Parity’ |\n",
        "| True Negative Rate Parity | ‘TNR Parity’ |\n",
        "| False Omission Rate Parity | ‘FOR Parity’ |\n",
        "| False Discovery Rate Parity | ‘FDR Parity’ |\n",
        "| False Positive Rate Parity | ‘FPR Parity’ |\n",
        "| False Negative Rate Parity | ‘FNR Parity’ |\n",
        "| Negative Predictive Value Parity | ‘NPV Parity’ |\n",
        "| Precision Parity | ‘Precision Parity’ |\n",
        "| Predicted Positive Ratio$_k$ Parity | 'Statistical Parity'|\n",
        "| Predicted Positive Ratio$_g$ Parity | ‘Impact Parity’ |\n",
        "|"
      ]
    },
    {
      "cell_type": "markdown",
      "metadata": {
        "id": "J9YWE3sOpcBd"
      },
      "source": [
        "También se evaluó:\n",
        "\n",
        "- **Paridad Tipo I (Type I Parity)**: Equidad tanto en la Paridad FDR como en la Paridad FPR\n",
        "\n",
        "- **Paridad Tipo II (Type II Parity)**: equidad tanto en la paridad FOR como en la paridad FNR\n",
        "\n",
        "- **Cuotas Igualadas (Equalized Odds)**: Equidad tanto en la paridad FPR como en la paridad TPR\n",
        "\n",
        "- **Equidad no Supervisada (Unsupervised Fairness)**: Equidad tanto en paridad estadística como en paridad de impacto\n",
        "\n",
        "- **Equidad Supervisada (Supervised Fairness)**: Equidad tanto en la paridad tipo I como en la paridad tipo II\n",
        "\n",
        "- **Equidad General (Overall Fairness)**: Equidad en todas las paridades para todos los atributos"
      ]
    },
    {
      "cell_type": "code",
      "execution_count": null,
      "metadata": {
        "id": "MMdGNW6LnmzP"
      },
      "outputs": [],
      "source": [
        "f = Fairness()\n",
        "fdf = f.get_group_value_fairness(bdf)"
      ]
    },
    {
      "cell_type": "markdown",
      "metadata": {
        "id": "i1LjZrJTqULl"
      },
      "source": [
        "\"La clase `Fairness()` incluye un método para devolver rápidamente una lista de determinaciones de equidad del dataframe devuelto por el método `get_group_value_fairness()`\"."
      ]
    },
    {
      "cell_type": "code",
      "execution_count": null,
      "metadata": {
        "id": "trSoOR4uqrzP"
      },
      "outputs": [],
      "source": [
        "calculated_disparities = b.list_disparities(bdf)"
      ]
    },
    {
      "cell_type": "code",
      "execution_count": null,
      "metadata": {
        "id": "v3S1wWNo5OVK"
      },
      "outputs": [],
      "source": [
        "parity_determinations = f.list_parities(fdf)"
      ]
    },
    {
      "cell_type": "code",
      "execution_count": null,
      "metadata": {
        "colab": {
          "base_uri": "https://localhost:8080/",
          "height": 476
        },
        "id": "mndojeemqo5B",
        "outputId": "30ac3e3d-98aa-40da-ec37-d1837b8218c1"
      },
      "outputs": [],
      "source": [
        "fdf[['attribute_name', 'attribute_value'] + absolute_metrics + calculated_disparities + parity_determinations]"
      ]
    },
    {
      "cell_type": "markdown",
      "metadata": {
        "id": "Svs_i_00rkNQ"
      },
      "source": [
        "##### **¿Cómo interpreto las paridades?**\n",
        "\n",
        "\"Llamar al método `get_group_value_fairness()` de la clase `Fairness()` en el dataframe devuelto por un método `get_disparity_` de la clase `Bias()` devolverá el dataframe con columnas adicionales que indican las paridades, como se ve en la celda del dataframe de arriba\".\n",
        "\n",
        "\"En este caso, nuestro grupo de referencia es Hombres caucasicos entre los 25 y 45 años de edad. Por construcción, el grupo de referencia ha supervisado la equidad. (La razón de disparidad es 1). En relación con los grupos de referencia, las predicciones de COMPAS solo brindan imparcialidad supervisada a un grupo, 'Hispanic' \".\n",
        "\n",
        "\"Arriba, la falsa omisión (for) afroamericana y el falso descubrimiento (fdr) están dentro de los límites de equidad. Se espera este resultado porque COMPAS está calibrado. (Dada la calibración, es sorprendente que las tasas de asiáticos y nativos americanos sean tan bajas. Esto puede ser una cuestión de tener pocas observaciones para estos grupos)\".\n",
        "\n",
        "\"Por otro lado, los afroamericanos tienen aproximadamente el doble de probabilidades de tener falsos positivos (fpr) y un 40% menos de falsos negativos (fnr). En términos reales, el 44,8% de los afroamericanos que no reincidieron estaban marcados como de riesgo alto o medio (con la posibilidad de sanciones asociadas), en comparación con el 23,4% de los no reincidentes caucásicos. Esto es injusto/no equitativo y está marcado como 'Falso' a continuación\".\n",
        "\n",
        "\"Estos hallazgos marcan una compensación inherente entre FPR Fairness, FNR Fairness y calibración, que está presente en cualquier sistema de decisión donde las tasas (Ratios) de referencia no son iguales. Ver [Chouldechova (2017)](https://www.andrew.cmu.edu/user/achoulde/files/disparate_impact.pdf). Aequitas ayuda a llevar esta compensación al frente con métricas claras y pide a los diseñadores de sistemas que tomen una decisión razonada basada en su caso de uso\"."
      ]
    },
    {
      "cell_type": "markdown",
      "metadata": {
        "id": "jwyHCbKntEkP"
      },
      "source": [
        "##### **Equidad a nivel de atributo (Attribute Level Fairness)**\n",
        "\n",
        "\"Utilice la función `get_group_attribute_fairness()` para ver solo las paridades calculadas de la función `get_group_value_fairness()` a nivel de atributo\"."
      ]
    },
    {
      "cell_type": "code",
      "execution_count": null,
      "metadata": {
        "colab": {
          "base_uri": "https://localhost:8080/",
          "height": 205
        },
        "id": "3z_Um3qbrFXO",
        "outputId": "da8890ad-4f37-4275-d743-6d776a71f2d9"
      },
      "outputs": [],
      "source": [
        "gaf = f.get_group_attribute_fairness(fdf)\n",
        "gaf"
      ]
    },
    {
      "cell_type": "markdown",
      "metadata": {
        "id": "-xYSQStnvquV"
      },
      "source": [
        "##### **Equidad general (Overall Fairness)**\n",
        "\n",
        "\"La función `get_overall_fairness()` brinda una evaluación booleana rápida de la salida de `get_group_value_fairness()` o `get_group_attribute_fairness()`, devolviendo un diccionario con una determinación en todos los atributos para cada uno de los tipos de equidades\":\n",
        "- Equidad no Supervisada.\n",
        "- Equidad Supervisada.\n",
        "- Equidad General."
      ]
    },
    {
      "cell_type": "code",
      "execution_count": null,
      "metadata": {
        "colab": {
          "base_uri": "https://localhost:8080/"
        },
        "id": "smumZgedvYNb",
        "outputId": "3124b326-3694-422d-dc56-df51d64235bf"
      },
      "outputs": [],
      "source": [
        "gof = f.get_overall_fairness(fdf)\n",
        "gof"
      ]
    },
    {
      "cell_type": "markdown",
      "metadata": {
        "id": "EaAwj0FMwWqr"
      },
      "source": [
        "##### **¿Cómo visualizo la paridad de las métricas de sesgo?**\n",
        "\n",
        "\"Una vez que haya ejecutado la clase `Group()` para recuperar una tabla cruzada (`xtab`) de métricas de sesgo de valor de grupo absoluto, haya agregado disparidades calculadas a través de una de las funciones `get_disparity` de la clase `Bias()` y haya agregado determinaciones de paridad a través de la clase `Fairness()` (métodod `get_group_value_fairness()` o `get_group_attribute_fairness()`), está listo para visualizar sesgos y disparidades en términos de determinación de equidad\".\n",
        "\n",
        "\"Para visualizar la equidad métrica absoluta con la clase `Plot()` de Aequitas, se puede especificar una métrica particular con `plot_fairness_group()`. Se puede trazar una lista de métricas particulares de interés o todas las métricas con `plot_fairness_group_all()`\"."
      ]
    },
    {
      "cell_type": "markdown",
      "metadata": {
        "id": "s5-Evk6Dy8lV"
      },
      "source": [
        "###### **Visualización de la paridad de una única métrica de grupo absoluto en todos los grupos de población**\n",
        "\n",
        "\"El siguiente gráfico muestra la disparidad de tasa positiva prevista (ppr) de la métrica absoluta del grupo en cada atributo, coloreada según la determinación de imparcialidad para ese grupo de atributos (verde = 'Verdadero' y rojo = 'Falso')\".\n",
        "\n",
        "\"Podemos ver en el color verde que solo se ha determinado que el grupo de edad de 25 a 45 años, la categoría masculina y los grupos caucásicos son equitativos. ¿Suena familiar? ¡Ellos deberían! Estos son los grupos seleccionados como grupos de referencia, por lo que este modelo no es justo en términos de Paridad Estadística (Statistical Parity) para ninguno de los otros grupos\"."
      ]
    },
    {
      "cell_type": "code",
      "execution_count": null,
      "metadata": {
        "colab": {
          "base_uri": "https://localhost:8080/",
          "height": 465
        },
        "id": "KXWFnHgewWGE",
        "outputId": "d55b367e-5b7d-49b6-98fe-f849498f641b"
      },
      "outputs": [],
      "source": [
        "z = aqp.plot_fairness_group(fdf, group_metric='ppr')"
      ]
    },
    {
      "cell_type": "markdown",
      "metadata": {
        "id": "wiptde7S0BsV"
      },
      "source": [
        "###### **Visualización de todas las métricas de grupo absolutas en todos los grupos de población**\n",
        "\n",
        "\"Los gráficos a continuación muestran todas las métricas de grupo absolutas calculadas en cada atributo, coloreadas según la determinación de equidad para ese grupo de atributos (verde = 'Verdadero' y rojo = 'Falso')\".\n",
        "\n",
        "\"Inmediatamente podemos ver que el estado de paridad predictiva negativa (npv) es 'Verdadero' para todos los grupos de población, y que solo dos grupos tenían una determinación 'Falsa' para la paridad negativa verdadera (tnr)\"."
      ]
    },
    {
      "cell_type": "code",
      "execution_count": null,
      "metadata": {
        "colab": {
          "base_uri": "https://localhost:8080/",
          "height": 1000
        },
        "id": "EhxcbrltwL3U",
        "outputId": "321bcc32-fd00-4cf6-8179-31076bccbbce"
      },
      "outputs": [],
      "source": [
        "fg = aqp.plot_fairness_group_all(fdf, ncols=4, metrics = \"all\")"
      ]
    },
    {
      "cell_type": "markdown",
      "metadata": {
        "id": "PqWuk3o11RAA"
      },
      "source": [
        "##### **¿Cómo visualizo la paridad entre grupos en mi modelo?**\n",
        "\n",
        "\"Para visualizar la equidad de disparidad basada en el dataframe devuelto por el método `get_group_value_fairness()` de la clase `Fairness()`, se puede especificar una métrica de disparidad particular con el método `plot_fairness_disparity()` en la clase `Plot()`. Para trazar una sola disparidad, se debe especificar una métrica y un atributo\".\n",
        "\n",
        "\"Las disparidades relacionadas con una lista de métricas particulares de interés o todas las métricas se pueden trazar con `plot_fairness_disparity_all()`. Se debe especificar al menos una métrica o al menos un atributo cuando se grafican múltiples disparidades de equidad (o la misma disparidad entre múltiples atributos)\"."
      ]
    },
    {
      "cell_type": "markdown",
      "metadata": {
        "id": "Wu8790eT5B45"
      },
      "source": [
        "###### **Visualización de la paridad entre grupos en un solo atributo especificado por el usuario para todas las métricas de disparidad calculadas**\n",
        "\n",
        "\"El Treemap a continuación muestra los valores de disparidad de la Tasa de descubrimiento falso (`fdr_disparity`) entre los grupos de atributos raciales calculados en función de un grupo de referencia predefinido ('Caucasian'), coloreados según la determinación de imparcialidad para ese grupo de atributos (verde = 'Verdadero' y rojo = 'Falso'). Vemos muy rápidamente que solo dos grupos tienen una determinación de paridad 'Falsa' \"."
      ]
    },
    {
      "cell_type": "code",
      "execution_count": null,
      "metadata": {
        "colab": {
          "base_uri": "https://localhost:8080/",
          "height": 455
        },
        "id": "k7L_YEif1QdZ",
        "outputId": "90a87b97-f114-4829-f76c-835b814c8121"
      },
      "outputs": [],
      "source": [
        "m = aqp.plot_fairness_disparity(fdf, group_metric='fdr', attribute_name='race')"
      ]
    },
    {
      "cell_type": "markdown",
      "metadata": {
        "id": "7XF6Lgbw5mMG"
      },
      "source": [
        "###### **Verificación del Investigador: ¿La equidad que estoy viendo podría estar relacionada con el tamaño de los grupos pequeños en mi muestra?**\n",
        "\n",
        "\"Utilice el parámetro `min_group` en todos los métodos de visualización para visualizar paridades solo para aquellos grupos de población de muestra por encima de un porcentaje especificado por el usuario del tamaño total de la muestra. Tenga en cuenta que solo los grupos más pequeños tuvieron una determinación 'Falso' para la paridad de la tasa de descubrimiento falso (`fdr_disparity`) anterior. La determinación de paridad es 'Verdadera' para todos los grupos al menos el 1% del tamaño de la muestra\"."
      ]
    },
    {
      "cell_type": "code",
      "execution_count": null,
      "metadata": {
        "colab": {
          "base_uri": "https://localhost:8080/",
          "height": 377
        },
        "id": "seA4ZViy068f",
        "outputId": "8fafcf29-44cb-438e-87dd-229ddc09d25e"
      },
      "outputs": [],
      "source": [
        "m = aqp.plot_fairness_disparity(fdf, group_metric='fdr',\n",
        "                                attribute_name='race',\n",
        "                                min_group_size=0.01,\n",
        "                                significance_alpha=0.05)"
      ]
    },
    {
      "cell_type": "markdown",
      "metadata": {
        "id": "b1Pklrj16gCW"
      },
      "source": [
        "###### **Visualización de la paridad entre grupos en un solo atributo especificado por el usuario para todas las métricas de disparidad calculadas**\n",
        "\n",
        "\"Los Treemaps a continuación muestran las disparidades entre los grupos de atributos raciales calculados en función de un grupo de referencia predefinido ('Caucasian') para las 10 métricas de disparidad, coloreadas según la determinación de equidad para ese grupo de atributos (verde = 'Verdadero' y rojo = 'Falso')\".\n",
        "\n",
        "\"Como todos los cuadrados del Treemap se dimensionan y posicionan en función del tamaño del grupo, los grupos de población en todas las subparcelas se encuentran en el mismo lugar en todas las métricas de disparidad, lo que permite una fácil comparación de las determinaciones de equidad para cada grupo de 'raza' en cada métrica de disparidad calculada\"."
      ]
    },
    {
      "cell_type": "code",
      "execution_count": null,
      "metadata": {
        "colab": {
          "base_uri": "https://localhost:8080/",
          "height": 1000
        },
        "id": "-t9hW9xe6WBe",
        "outputId": "2d6f2d95-1faa-4043-ecde-805fb3b3651f"
      },
      "outputs": [],
      "source": [
        "a_tm = aqp.plot_fairness_disparity_all(fdf, attributes=['race'],\n",
        "                                       metrics='all')"
      ]
    },
    {
      "cell_type": "markdown",
      "metadata": {
        "id": "aiUcdOgL7euP"
      },
      "source": [
        "###### **Visualización de la paridad entre todos los grupos para múltiples métricas de disparidad especificadas por el usuario**\n",
        "\n",
        "\"Los Treemaps a continuación muestran las disparidades de la tasa de grupo positivo pronosticada (pprev) y la tasa de positivo pronosticada (ppr) entre los grupos de atributos para los tres atributos (raza, sexo, categoría de edad) calculadas en función de grupos de referencia predefinidos (Hombres caucasicos entre los 25 y 45 años de edad), coloreado según la determinación de imparcialidad para ese grupo de atributos (verde = 'Verdadero' y rojo = 'Falso'). Como queremos graficar para todos los grupos, no es necesario especificar ningún atributo\".\n",
        "\n",
        "\"Podemos ver que la determinación de la paridad de tasa de grupo positiva pronosticada (Impact Parity) fue 'Falsa' para casi todas las razas en comparación con los caucásicos, y 'Falsa' para todas las demás categorías de edad en comparación con el grupo de edad de 25 a 45 años, y que en general la tasa de paridad positiva pronosticada (Statistical Parity) no tuvo ninguna determinación de equidad 'Verdadera' en absoluto\"."
      ]
    },
    {
      "cell_type": "code",
      "execution_count": null,
      "metadata": {
        "colab": {
          "base_uri": "https://localhost:8080/",
          "height": 1000
        },
        "id": "AYNumu-77AP1",
        "outputId": "d42e002a-41a0-4df4-8c63-a6f87ac7b6f1"
      },
      "outputs": [],
      "source": [
        "r_tm = aqp.plot_fairness_disparity_all(fdf,\n",
        "                                       metrics=['pprev_disparity', 'ppr_disparity'],\n",
        "                                       significance_alpha=0.05)"
      ]
    },
    {
      "cell_type": "markdown",
      "metadata": {
        "id": "BPzPZ3HH9VOe"
      },
      "source": [
        "###### **Visualización de la paridad entre grupos en múltiples atributos especificados por el usuario**\n",
        "\n",
        "\"Los siguientes Treemaps muestran disparidades entre grupos de atributos para los dos atributos (sexo, categoría de edad) calculados en función de grupos de referencia predefinidos (Hombres entre los 25 y 45 años de edad) para las seis métricas de disparidad predeterminadas, basadas en colores en la determinación de equidad para ese grupo de atributos (verde = 'Verdadero' y rojo = 'Falso'). Como queremos ver solo las métricas predeterminadas, no necesitamos configurar el parámetro `metrics`\".\n",
        "\n",
        "\"Tenga en cuenta que hay un poco más de paridad entre los sexos (FNR, FDR, FNR y Statistical Parity) que entre las categorías de edad (solo Paridad FDR)\"."
      ]
    },
    {
      "cell_type": "code",
      "execution_count": null,
      "metadata": {
        "colab": {
          "base_uri": "https://localhost:8080/",
          "height": 1000
        },
        "id": "7KCFpfkP9D7x",
        "outputId": "9acaf3bb-6b7b-4e1c-87b6-e87cd379e180"
      },
      "outputs": [],
      "source": [
        "n_tm = aqp.plot_fairness_disparity_all(fdf,\n",
        "                                       attributes=['sex', 'age_cat'],\n",
        "                                       significance_alpha=0.05)"
      ]
    },
    {
      "cell_type": "code",
      "execution_count": null,
      "metadata": {
        "id": "pth_HXzN-ZdR"
      },
      "outputs": [],
      "source": []
    }
  ],
  "metadata": {
    "colab": {
      "collapsed_sections": [
        "KmOP_eV05dNJ",
        "E2VzSfJM_g6z",
        "BZBm0FQyA3tz"
      ],
      "provenance": [],
      "toc_visible": true
    },
    "kernelspec": {
      "display_name": "Python 3",
      "name": "python3"
    },
    "language_info": {
      "codemirror_mode": {
        "name": "ipython",
        "version": 3
      },
      "file_extension": ".py",
      "mimetype": "text/x-python",
      "name": "python",
      "nbconvert_exporter": "python",
      "pygments_lexer": "ipython3",
      "version": "3.9.6"
    }
  },
  "nbformat": 4,
  "nbformat_minor": 0
}
