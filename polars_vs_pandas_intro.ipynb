{
 "cells": [
  {
   "cell_type": "markdown",
   "id": "2e39c44c",
   "metadata": {},
   "source": [
    "# Polars vs Pandas: introducción rápida\n"
   ]
  },
  {
   "cell_type": "markdown",
   "id": "3fef1d2e",
   "metadata": {},
   "source": [
    "## 1. Instalación rápida\n",
    "```bash\n",
    "pip install polars pandas\n",
    "```\n",
    "Polars distribuye binarios optimizados (Rust); la instalación suele ser < 10 s."
   ]
  },
  {
   "cell_type": "code",
   "execution_count": 3,
   "id": "37544e02",
   "metadata": {},
   "outputs": [
    {
     "name": "stdout",
     "output_type": "stream",
     "text": [
      "Pandas\n"
     ]
    },
    {
     "data": {
      "text/html": [
       "<div>\n",
       "<style scoped>\n",
       "    .dataframe tbody tr th:only-of-type {\n",
       "        vertical-align: middle;\n",
       "    }\n",
       "\n",
       "    .dataframe tbody tr th {\n",
       "        vertical-align: top;\n",
       "    }\n",
       "\n",
       "    .dataframe thead th {\n",
       "        text-align: right;\n",
       "    }\n",
       "</style>\n",
       "<table border=\"1\" class=\"dataframe\">\n",
       "  <thead>\n",
       "    <tr style=\"text-align: right;\">\n",
       "      <th></th>\n",
       "      <th>grupo</th>\n",
       "      <th>valor</th>\n",
       "      <th>fecha</th>\n",
       "    </tr>\n",
       "  </thead>\n",
       "  <tbody>\n",
       "    <tr>\n",
       "      <th>0</th>\n",
       "      <td>C</td>\n",
       "      <td>11</td>\n",
       "      <td>2025-01-01</td>\n",
       "    </tr>\n",
       "    <tr>\n",
       "      <th>1</th>\n",
       "      <td>A</td>\n",
       "      <td>11</td>\n",
       "      <td>2025-01-02</td>\n",
       "    </tr>\n",
       "    <tr>\n",
       "      <th>2</th>\n",
       "      <td>C</td>\n",
       "      <td>4</td>\n",
       "      <td>2025-01-03</td>\n",
       "    </tr>\n",
       "    <tr>\n",
       "      <th>3</th>\n",
       "      <td>C</td>\n",
       "      <td>8</td>\n",
       "      <td>2025-01-04</td>\n",
       "    </tr>\n",
       "    <tr>\n",
       "      <th>4</th>\n",
       "      <td>A</td>\n",
       "      <td>3</td>\n",
       "      <td>2025-01-05</td>\n",
       "    </tr>\n",
       "    <tr>\n",
       "      <th>5</th>\n",
       "      <td>A</td>\n",
       "      <td>2</td>\n",
       "      <td>2025-01-06</td>\n",
       "    </tr>\n",
       "    <tr>\n",
       "      <th>6</th>\n",
       "      <td>C</td>\n",
       "      <td>12</td>\n",
       "      <td>2025-01-07</td>\n",
       "    </tr>\n",
       "    <tr>\n",
       "      <th>7</th>\n",
       "      <td>B</td>\n",
       "      <td>6</td>\n",
       "      <td>2025-01-08</td>\n",
       "    </tr>\n",
       "    <tr>\n",
       "      <th>8</th>\n",
       "      <td>C</td>\n",
       "      <td>2</td>\n",
       "      <td>2025-01-09</td>\n",
       "    </tr>\n",
       "    <tr>\n",
       "      <th>9</th>\n",
       "      <td>C</td>\n",
       "      <td>1</td>\n",
       "      <td>2025-01-10</td>\n",
       "    </tr>\n",
       "  </tbody>\n",
       "</table>\n",
       "</div>"
      ],
      "text/plain": [
       "  grupo  valor      fecha\n",
       "0     C     11 2025-01-01\n",
       "1     A     11 2025-01-02\n",
       "2     C      4 2025-01-03\n",
       "3     C      8 2025-01-04\n",
       "4     A      3 2025-01-05\n",
       "5     A      2 2025-01-06\n",
       "6     C     12 2025-01-07\n",
       "7     B      6 2025-01-08\n",
       "8     C      2 2025-01-09\n",
       "9     C      1 2025-01-10"
      ]
     },
     "metadata": {},
     "output_type": "display_data"
    },
    {
     "name": "stdout",
     "output_type": "stream",
     "text": [
      "Polars\n"
     ]
    },
    {
     "data": {
      "text/html": [
       "<div><style>\n",
       ".dataframe > thead > tr,\n",
       ".dataframe > tbody > tr {\n",
       "  text-align: right;\n",
       "  white-space: pre-wrap;\n",
       "}\n",
       "</style>\n",
       "<small>shape: (10, 3)</small><table border=\"1\" class=\"dataframe\"><thead><tr><th>grupo</th><th>valor</th><th>fecha</th></tr><tr><td>str</td><td>i64</td><td>datetime[ns]</td></tr></thead><tbody><tr><td>&quot;C&quot;</td><td>11</td><td>2025-01-01 00:00:00</td></tr><tr><td>&quot;A&quot;</td><td>11</td><td>2025-01-02 00:00:00</td></tr><tr><td>&quot;C&quot;</td><td>4</td><td>2025-01-03 00:00:00</td></tr><tr><td>&quot;C&quot;</td><td>8</td><td>2025-01-04 00:00:00</td></tr><tr><td>&quot;A&quot;</td><td>3</td><td>2025-01-05 00:00:00</td></tr><tr><td>&quot;A&quot;</td><td>2</td><td>2025-01-06 00:00:00</td></tr><tr><td>&quot;C&quot;</td><td>12</td><td>2025-01-07 00:00:00</td></tr><tr><td>&quot;B&quot;</td><td>6</td><td>2025-01-08 00:00:00</td></tr><tr><td>&quot;C&quot;</td><td>2</td><td>2025-01-09 00:00:00</td></tr><tr><td>&quot;C&quot;</td><td>1</td><td>2025-01-10 00:00:00</td></tr></tbody></table></div>"
      ],
      "text/plain": [
       "shape: (10, 3)\n",
       "┌───────┬───────┬─────────────────────┐\n",
       "│ grupo ┆ valor ┆ fecha               │\n",
       "│ ---   ┆ ---   ┆ ---                 │\n",
       "│ str   ┆ i64   ┆ datetime[ns]        │\n",
       "╞═══════╪═══════╪═════════════════════╡\n",
       "│ C     ┆ 11    ┆ 2025-01-01 00:00:00 │\n",
       "│ A     ┆ 11    ┆ 2025-01-02 00:00:00 │\n",
       "│ C     ┆ 4     ┆ 2025-01-03 00:00:00 │\n",
       "│ C     ┆ 8     ┆ 2025-01-04 00:00:00 │\n",
       "│ A     ┆ 3     ┆ 2025-01-05 00:00:00 │\n",
       "│ A     ┆ 2     ┆ 2025-01-06 00:00:00 │\n",
       "│ C     ┆ 12    ┆ 2025-01-07 00:00:00 │\n",
       "│ B     ┆ 6     ┆ 2025-01-08 00:00:00 │\n",
       "│ C     ┆ 2     ┆ 2025-01-09 00:00:00 │\n",
       "│ C     ┆ 1     ┆ 2025-01-10 00:00:00 │\n",
       "└───────┴───────┴─────────────────────┘"
      ]
     },
     "execution_count": 3,
     "metadata": {},
     "output_type": "execute_result"
    }
   ],
   "source": [
    "import pandas as pd\n",
    "import polars as pl\n",
    "import numpy as np\n",
    "\n",
    "# Datos de ejemplo\n",
    "np.random.seed(42)\n",
    "pdf = pd.DataFrame({\n",
    "    'grupo': np.random.choice(list('ABC'), 10),\n",
    "    'valor': np.random.randint(1, 20, 10),\n",
    "    'fecha': pd.date_range('2025-01-01', periods=10, freq='D')\n",
    "})\n",
    "print('Pandas')\n",
    "display(pdf)\n",
    "\n",
    "pldf = pl.from_pandas(pdf)\n",
    "print('Polars')\n",
    "pldf"
   ]
  },
  {
   "cell_type": "markdown",
   "id": "e3bcd2d5",
   "metadata": {},
   "source": [
    "## 2. Filtrado simple\n",
    "### Pandas\n",
    "```python\n",
    "pdf[pdf['valor'] > 10]\n",
    "```\n",
    "### Polars (eager)\n",
    "```python\n",
    "pldf.filter(pl.col('valor') > 10)\n",
    "```"
   ]
  },
  {
   "cell_type": "code",
   "execution_count": 5,
   "id": "af78c5a3",
   "metadata": {},
   "outputs": [
    {
     "name": "stdout",
     "output_type": "stream",
     "text": [
      "CPU times: user 2 µs, sys: 1 µs, total: 3 µs\n",
      "Wall time: 7.87 µs\n"
     ]
    }
   ],
   "source": [
    "%time\n",
    "pandas_filtrado = pdf[pdf['valor'] > 10]"
   ]
  },
  {
   "cell_type": "code",
   "execution_count": 6,
   "id": "72cfc6ad",
   "metadata": {},
   "outputs": [
    {
     "name": "stdout",
     "output_type": "stream",
     "text": [
      "CPU times: user 1 µs, sys: 1 µs, total: 2 µs\n",
      "Wall time: 4.05 µs\n"
     ]
    }
   ],
   "source": [
    "%time\n",
    "polars_filtrado = pldf.filter(pl.col('valor') > 10)\n"
   ]
  },
  {
   "cell_type": "code",
   "execution_count": 7,
   "id": "ed27d965",
   "metadata": {},
   "outputs": [
    {
     "data": {
      "text/plain": [
       "(  grupo  valor      fecha\n",
       " 0     C     11 2025-01-01\n",
       " 1     A     11 2025-01-02\n",
       " 6     C     12 2025-01-07,\n",
       " shape: (3, 3)\n",
       " ┌───────┬───────┬─────────────────────┐\n",
       " │ grupo ┆ valor ┆ fecha               │\n",
       " │ ---   ┆ ---   ┆ ---                 │\n",
       " │ str   ┆ i64   ┆ datetime[ns]        │\n",
       " ╞═══════╪═══════╪═════════════════════╡\n",
       " │ C     ┆ 11    ┆ 2025-01-01 00:00:00 │\n",
       " │ A     ┆ 11    ┆ 2025-01-02 00:00:00 │\n",
       " │ C     ┆ 12    ┆ 2025-01-07 00:00:00 │\n",
       " └───────┴───────┴─────────────────────┘)"
      ]
     },
     "execution_count": 7,
     "metadata": {},
     "output_type": "execute_result"
    }
   ],
   "source": [
    "pandas_filtrado, polars_filtrado"
   ]
  },
  {
   "cell_type": "markdown",
   "id": "13f97875",
   "metadata": {},
   "source": [
    "## 3. Agregación `groupby`\n",
    "### Pandas\n",
    "```python\n",
    "pdf.groupby('grupo')['valor'].mean()\n",
    "```\n",
    "### Polars\n",
    "```python\n",
    "pldf.groupby('grupo').agg(pl.col('valor').mean())\n",
    "```"
   ]
  },
  {
   "cell_type": "code",
   "execution_count": 8,
   "id": "5013f1dc",
   "metadata": {},
   "outputs": [
    {
     "name": "stdout",
     "output_type": "stream",
     "text": [
      "CPU times: user 2 µs, sys: 0 ns, total: 2 µs\n",
      "Wall time: 5.01 µs\n"
     ]
    }
   ],
   "source": [
    "%time\n",
    "pandas_grouped = pdf.groupby('grupo')['valor'].mean()"
   ]
  },
  {
   "cell_type": "code",
   "execution_count": 10,
   "id": "da6f2c37",
   "metadata": {},
   "outputs": [
    {
     "name": "stdout",
     "output_type": "stream",
     "text": [
      "CPU times: user 3 µs, sys: 1 µs, total: 4 µs\n",
      "Wall time: 8.11 µs\n"
     ]
    },
    {
     "ename": "AttributeError",
     "evalue": "'DataFrame' object has no attribute 'groupby'",
     "output_type": "error",
     "traceback": [
      "\u001b[0;31m---------------------------------------------------------------------------\u001b[0m",
      "\u001b[0;31mAttributeError\u001b[0m                            Traceback (most recent call last)",
      "Cell \u001b[0;32mIn[10], line 5\u001b[0m\n\u001b[1;32m      3\u001b[0m \u001b[38;5;28;01mif\u001b[39;00m \u001b[38;5;129;01mnot\u001b[39;00m \u001b[38;5;28misinstance\u001b[39m(pldf, pl\u001b[38;5;241m.\u001b[39mDataFrame):\n\u001b[1;32m      4\u001b[0m \tpldf \u001b[38;5;241m=\u001b[39m pl\u001b[38;5;241m.\u001b[39mfrom_pandas(pdf)\n\u001b[0;32m----> 5\u001b[0m polars_grouped \u001b[38;5;241m=\u001b[39m \u001b[43mpldf\u001b[49m\u001b[38;5;241;43m.\u001b[39;49m\u001b[43mgroupby\u001b[49m(\u001b[38;5;124m'\u001b[39m\u001b[38;5;124mgrupo\u001b[39m\u001b[38;5;124m'\u001b[39m)\u001b[38;5;241m.\u001b[39magg(pl\u001b[38;5;241m.\u001b[39mcol(\u001b[38;5;124m'\u001b[39m\u001b[38;5;124mvalor\u001b[39m\u001b[38;5;124m'\u001b[39m)\u001b[38;5;241m.\u001b[39mmean())\n",
      "\u001b[0;31mAttributeError\u001b[0m: 'DataFrame' object has no attribute 'groupby'"
     ]
    }
   ],
   "source": [
    "%time\n",
    "# Ensure pldf is a Polars DataFrame\n",
    "if not isinstance(pldf, pl.DataFrame):\n",
    "\tpldf = pl.from_pandas(pdf)\n",
    "polars_grouped = pldf.groupby('grupo').agg(pl.col('valor').mean())"
   ]
  },
  {
   "cell_type": "code",
   "execution_count": null,
   "id": "6bb8ed50",
   "metadata": {},
   "outputs": [],
   "source": [
    "pandas_grouped, polars_grouped"
   ]
  },
  {
   "cell_type": "markdown",
   "id": "86d3d9cd",
   "metadata": {},
   "source": [
    "## 4. Lazy pipeline (ventaja de Polars)\n",
    "```python\n",
    "resultado = (\n",
    "    pldf.lazy()\n",
    "        .with_columns((pl.col('valor') * 2).alias('valor_x2'))\n",
    "        .filter(pl.col('valor_x2') < 25)\n",
    "        .collect()\n",
    ")\n",
    "```\n",
    "En Pandas cada paso se evalúa inmediatamente; Polars optimiza toda la cadena antes de ejecutarla."
   ]
  },
  {
   "cell_type": "code",
   "execution_count": 11,
   "id": "a9a20e43",
   "metadata": {},
   "outputs": [
    {
     "data": {
      "text/html": [
       "<div><style>\n",
       ".dataframe > thead > tr,\n",
       ".dataframe > tbody > tr {\n",
       "  text-align: right;\n",
       "  white-space: pre-wrap;\n",
       "}\n",
       "</style>\n",
       "<small>shape: (10, 4)</small><table border=\"1\" class=\"dataframe\"><thead><tr><th>grupo</th><th>valor</th><th>fecha</th><th>valor_x2</th></tr><tr><td>str</td><td>i64</td><td>datetime[ns]</td><td>i64</td></tr></thead><tbody><tr><td>&quot;C&quot;</td><td>11</td><td>2025-01-01 00:00:00</td><td>22</td></tr><tr><td>&quot;A&quot;</td><td>11</td><td>2025-01-02 00:00:00</td><td>22</td></tr><tr><td>&quot;C&quot;</td><td>4</td><td>2025-01-03 00:00:00</td><td>8</td></tr><tr><td>&quot;C&quot;</td><td>8</td><td>2025-01-04 00:00:00</td><td>16</td></tr><tr><td>&quot;A&quot;</td><td>3</td><td>2025-01-05 00:00:00</td><td>6</td></tr><tr><td>&quot;A&quot;</td><td>2</td><td>2025-01-06 00:00:00</td><td>4</td></tr><tr><td>&quot;C&quot;</td><td>12</td><td>2025-01-07 00:00:00</td><td>24</td></tr><tr><td>&quot;B&quot;</td><td>6</td><td>2025-01-08 00:00:00</td><td>12</td></tr><tr><td>&quot;C&quot;</td><td>2</td><td>2025-01-09 00:00:00</td><td>4</td></tr><tr><td>&quot;C&quot;</td><td>1</td><td>2025-01-10 00:00:00</td><td>2</td></tr></tbody></table></div>"
      ],
      "text/plain": [
       "shape: (10, 4)\n",
       "┌───────┬───────┬─────────────────────┬──────────┐\n",
       "│ grupo ┆ valor ┆ fecha               ┆ valor_x2 │\n",
       "│ ---   ┆ ---   ┆ ---                 ┆ ---      │\n",
       "│ str   ┆ i64   ┆ datetime[ns]        ┆ i64      │\n",
       "╞═══════╪═══════╪═════════════════════╪══════════╡\n",
       "│ C     ┆ 11    ┆ 2025-01-01 00:00:00 ┆ 22       │\n",
       "│ A     ┆ 11    ┆ 2025-01-02 00:00:00 ┆ 22       │\n",
       "│ C     ┆ 4     ┆ 2025-01-03 00:00:00 ┆ 8        │\n",
       "│ C     ┆ 8     ┆ 2025-01-04 00:00:00 ┆ 16       │\n",
       "│ A     ┆ 3     ┆ 2025-01-05 00:00:00 ┆ 6        │\n",
       "│ A     ┆ 2     ┆ 2025-01-06 00:00:00 ┆ 4        │\n",
       "│ C     ┆ 12    ┆ 2025-01-07 00:00:00 ┆ 24       │\n",
       "│ B     ┆ 6     ┆ 2025-01-08 00:00:00 ┆ 12       │\n",
       "│ C     ┆ 2     ┆ 2025-01-09 00:00:00 ┆ 4        │\n",
       "│ C     ┆ 1     ┆ 2025-01-10 00:00:00 ┆ 2        │\n",
       "└───────┴───────┴─────────────────────┴──────────┘"
      ]
     },
     "execution_count": 11,
     "metadata": {},
     "output_type": "execute_result"
    }
   ],
   "source": [
    "resultado = (\n",
    "    pldf.lazy()\n",
    "        .with_columns((pl.col('valor') * 2).alias('valor_x2'))\n",
    "        .filter(pl.col('valor_x2') < 25)\n",
    "        .collect()\n",
    ")\n",
    "resultado"
   ]
  },
  {
   "cell_type": "markdown",
   "id": "15578568",
   "metadata": {},
   "source": [
    "## 5. Diferencias clave\n",
    "- **Motor**: Polars (Rust, multihilo) vs Pandas (C/NumPy, un solo hilo).\n",
    "- **Lazy evaluation**: Optativo en Polars.\n",
    "- **Sintaxis basada en expresiones**: `pl.col`, más parecida a SQL o Spark.\n",
    "- **Memoria y velocidad**: Polars suele ser 2‑10× más rápido y eficiente.\n",
    "- **Manejo de valores nulos**: Polars distingue `null` y `NaN`.\n",
    "- **Ecosistema**: Pandas tiene más extensiones; Polars evoluciona rápido."
   ]
  },
  {
   "cell_type": "markdown",
   "id": "60ddf7c3",
   "metadata": {},
   "source": [
    "## 6. Recursos adicionales\n",
    "- [Documentación oficial de Polars](https://pola.rs/)\n",
    "- [Guía de migración Pandas → Polars](https://pola.rs/guide/migration/)\n",
    "- Benchmarks: <https://github.com/pola-rs/polars-benchmarks>"
   ]
  }
 ],
 "metadata": {
  "kernelspec": {
   "display_name": "Python 3",
   "language": "python",
   "name": "python3"
  },
  "language_info": {
   "codemirror_mode": {
    "name": "ipython",
    "version": 3
   },
   "file_extension": ".py",
   "mimetype": "text/x-python",
   "name": "python",
   "nbconvert_exporter": "python",
   "pygments_lexer": "ipython3",
   "version": "3.9.6"
  }
 },
 "nbformat": 4,
 "nbformat_minor": 5
}
