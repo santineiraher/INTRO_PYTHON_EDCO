{
 "cells": [
  {
   "cell_type": "markdown",
   "metadata": {},
   "source": [
    "# **Introducción al análisis de datos en Python** \n",
    "#### Profesor: Juan Pablo Salas\n",
    "## Clase 7. Introducción a la regresión"
   ]
  },
  {
   "cell_type": "markdown",
   "metadata": {},
   "source": [
    "### Regresión Lineal\n",
    "La regresión lineal es una técnica estadística utilizada para analizar la relación entre una variable una variable dependiente ($Y$) y un conjunto de variables explicativas ($X$). El objetivo de la regresión lineal es encontrar la mejor línea recta que pueda explicar la relación entre las variables y predecir el valor de $Y$ para cualquier valor dado de $X$.\n",
    "\n",
    "La ecuación de la línea recta se representa como:\n",
    "\n",
    "$$Y = \\alpha + \\beta X$$\n",
    "\n",
    "Donde $\\alpha$ es la intersección en $Y$, $\\beta$ es la pendiente de la línea recta y $X$ es el valor de la variable independiente. La pendiente de la línea recta indica cuánto aumenta (o disminuye) Y por cada unidad de cambio en $X$.\n",
    "\n",
    "La regresión lineal se utiliza comúnmente en la investigación y en los negocios para predecir el valor de una variable dependiente en función de una variable independiente. Por ejemplo, se puede utilizar la regresión lineal para predecir la cantidad de ventas que una empresa puede esperar para un determinado nivel de publicidad."
   ]
  },
  {
   "cell_type": "code",
   "execution_count": 121,
   "metadata": {},
   "outputs": [],
   "source": [
    "import pandas as pd\n",
    "import seaborn as sns\n",
    "import matplotlib.pyplot as plt"
   ]
  },
  {
   "cell_type": "code",
   "execution_count": null,
   "metadata": {},
   "outputs": [],
   "source": [
    "propiedades = pd.read_csv('./co_properties.csv')\n",
    "propiedades.head()"
   ]
  },
  {
   "cell_type": "code",
   "execution_count": 123,
   "metadata": {},
   "outputs": [],
   "source": [
    "propiedades = propiedades[propiedades.currency=='COP']\n",
    "propiedades = propiedades.dropna(subset='surface_covered')\n",
    "propiedades = propiedades[(propiedades.l3=='Bogotá D.C') &(propiedades.l4=='Zona Noroccidental')]\n",
    "propiedades = propiedades[(propiedades.price<1e9)&(propiedades.surface_covered<500)&(propiedades.price>1e8)]\n",
    "propiedades = propiedades[(propiedades.property_type.isin(['Apartamento','Casa']))]\n",
    "propiedades = propiedades[propiedades.operation_type=='Venta']"
   ]
  },
  {
   "cell_type": "code",
   "execution_count": null,
   "metadata": {},
   "outputs": [],
   "source": [
    "propiedades.shape"
   ]
  },
  {
   "cell_type": "code",
   "execution_count": null,
   "metadata": {},
   "outputs": [],
   "source": [
    "sns.jointplot(data=propiedades,x='surface_covered',y='price')"
   ]
  },
  {
   "cell_type": "code",
   "execution_count": 126,
   "metadata": {},
   "outputs": [],
   "source": [
    "#!pip install statsmodels\n",
    "import statsmodels.api as sm"
   ]
  },
  {
   "cell_type": "code",
   "execution_count": 127,
   "metadata": {},
   "outputs": [],
   "source": [
    "y = propiedades['price']\n",
    "X = propiedades['surface_covered']"
   ]
  },
  {
   "cell_type": "markdown",
   "metadata": {},
   "source": [
    "$$Y = \\beta X$$"
   ]
  },
  {
   "cell_type": "code",
   "execution_count": 128,
   "metadata": {},
   "outputs": [],
   "source": [
    "X = sm.add_constant(X)"
   ]
  },
  {
   "cell_type": "code",
   "execution_count": null,
   "metadata": {},
   "outputs": [],
   "source": [
    "X"
   ]
  },
  {
   "cell_type": "code",
   "execution_count": 130,
   "metadata": {},
   "outputs": [],
   "source": [
    "#OLS -> Regresión (Ordinary Least Squares - Mínimos Cuadrados Ordinarios)\n",
    "modelo1 = sm.OLS(endog = y, exog = X)"
   ]
  },
  {
   "cell_type": "code",
   "execution_count": 131,
   "metadata": {},
   "outputs": [],
   "source": [
    "# Entrenamos\n",
    "resultado1 = modelo1.fit()"
   ]
  },
  {
   "cell_type": "markdown",
   "metadata": {},
   "source": [
    "$y=\\alpha + \\beta X$"
   ]
  },
  {
   "cell_type": "code",
   "execution_count": null,
   "metadata": {},
   "outputs": [],
   "source": [
    "resultado1.summary()"
   ]
  },
  {
   "cell_type": "markdown",
   "metadata": {},
   "source": [
    "$$precio = \\alpha + \\beta*surface\\_covered$$"
   ]
  },
  {
   "cell_type": "code",
   "execution_count": null,
   "metadata": {},
   "outputs": [],
   "source": [
    "alpha = resultado1.params['const']\n",
    "beta_surface_covered = resultado1.params['surface_covered']\n",
    "print(f'alpha: {alpha}, beta: {beta_surface_covered}')"
   ]
  },
  {
   "cell_type": "code",
   "execution_count": null,
   "metadata": {},
   "outputs": [],
   "source": [
    "superficie = 88\n",
    "precio = float(alpha+beta_surface_covered*superficie)\n",
    "precio"
   ]
  },
  {
   "cell_type": "code",
   "execution_count": 135,
   "metadata": {},
   "outputs": [],
   "source": [
    "# Construyamos el ajuste dentro de muestra\n",
    "y_hat = resultado1.predict()"
   ]
  },
  {
   "cell_type": "code",
   "execution_count": null,
   "metadata": {},
   "outputs": [],
   "source": [
    "y_hat"
   ]
  },
  {
   "cell_type": "code",
   "execution_count": null,
   "metadata": {},
   "outputs": [],
   "source": [
    "X"
   ]
  },
  {
   "cell_type": "code",
   "execution_count": null,
   "metadata": {},
   "outputs": [],
   "source": [
    "prediccion = X.copy()\n",
    "prediccion['y_pred'] = y_hat\n",
    "prediccion['y_real'] = y\n",
    "prediccion"
   ]
  },
  {
   "cell_type": "code",
   "execution_count": 139,
   "metadata": {},
   "outputs": [],
   "source": [
    "import seaborn as sns"
   ]
  },
  {
   "cell_type": "code",
   "execution_count": null,
   "metadata": {},
   "outputs": [],
   "source": [
    "# Gráfico automático\n",
    "fig, ax = plt.subplots(figsize = (10, 6))\n",
    "sns.regplot(x = \"surface_covered\", y = \"price\", data = propiedades, ax = ax,\n",
    "            scatter_kws = {\"color\": \"darkblue\", \"s\": 3}, \n",
    "            line_kws = {\"color\": \"red\", \"linestyle\": \"--\", \"linewidth\": 1})\n",
    "plt.legend([\"Real\", \"Predicho\", \"Intervalo de Confianza\"])\n",
    "plt.xlabel(\"Superficie ($m^2$)\")\n",
    "plt.ylabel(\"Precio (COP)\")"
   ]
  },
  {
   "cell_type": "code",
   "execution_count": null,
   "metadata": {},
   "outputs": [],
   "source": [
    "prueba = pd.DataFrame({'surface_covered':[376,400,57,152,88,45]})\n",
    "prueba"
   ]
  },
  {
   "cell_type": "code",
   "execution_count": null,
   "metadata": {},
   "outputs": [],
   "source": [
    "X"
   ]
  },
  {
   "cell_type": "code",
   "execution_count": null,
   "metadata": {},
   "outputs": [],
   "source": [
    "prueba = sm.add_constant(prueba)\n",
    "prueba"
   ]
  },
  {
   "cell_type": "code",
   "execution_count": null,
   "metadata": {},
   "outputs": [],
   "source": [
    "resultado1.predict(exog=prueba)"
   ]
  },
  {
   "cell_type": "code",
   "execution_count": 145,
   "metadata": {},
   "outputs": [],
   "source": [
    "prueba['precio'] = resultado1.predict(exog=prueba)"
   ]
  },
  {
   "cell_type": "code",
   "execution_count": null,
   "metadata": {},
   "outputs": [],
   "source": [
    "prueba"
   ]
  },
  {
   "cell_type": "code",
   "execution_count": null,
   "metadata": {},
   "outputs": [],
   "source": [
    "prueba.plot(kind='scatter',x='surface_covered',y='precio')"
   ]
  },
  {
   "cell_type": "markdown",
   "metadata": {},
   "source": [
    "### Regresión multilineal"
   ]
  },
  {
   "cell_type": "code",
   "execution_count": null,
   "metadata": {},
   "outputs": [],
   "source": [
    "propiedades.head()"
   ]
  },
  {
   "cell_type": "code",
   "execution_count": null,
   "metadata": {},
   "outputs": [],
   "source": [
    "propiedades.columns"
   ]
  },
  {
   "cell_type": "code",
   "execution_count": null,
   "metadata": {},
   "outputs": [],
   "source": [
    "propiedades.describe()"
   ]
  },
  {
   "cell_type": "code",
   "execution_count": 151,
   "metadata": {},
   "outputs": [],
   "source": [
    "propiedades = propiedades.dropna(subset=['bedrooms','bathrooms','rooms','surface_total'])"
   ]
  },
  {
   "cell_type": "code",
   "execution_count": 152,
   "metadata": {},
   "outputs": [],
   "source": [
    "y = propiedades['price']\n",
    "X = propiedades[['bedrooms','bathrooms','surface_covered','rooms','surface_total']]"
   ]
  },
  {
   "cell_type": "code",
   "execution_count": null,
   "metadata": {},
   "outputs": [],
   "source": [
    "X"
   ]
  },
  {
   "cell_type": "code",
   "execution_count": 154,
   "metadata": {},
   "outputs": [],
   "source": [
    "X = sm.add_constant(X)"
   ]
  },
  {
   "cell_type": "code",
   "execution_count": 155,
   "metadata": {},
   "outputs": [],
   "source": [
    "modelo2 = sm.OLS(endog = y, exog = X) #Construcción Regresión Lineal"
   ]
  },
  {
   "cell_type": "code",
   "execution_count": 156,
   "metadata": {},
   "outputs": [],
   "source": [
    "# Entrenar el modelo de aprendizaje\n",
    "resultado2 = modelo2.fit() #Calcule el modelo de regresión lineal"
   ]
  },
  {
   "cell_type": "markdown",
   "metadata": {},
   "source": [
    "$precio = a*bedrooms + b*bathrooms+c*surface\\_covered + d$"
   ]
  },
  {
   "cell_type": "code",
   "execution_count": null,
   "metadata": {},
   "outputs": [],
   "source": [
    "resultado2.summary()"
   ]
  },
  {
   "cell_type": "code",
   "execution_count": 158,
   "metadata": {},
   "outputs": [],
   "source": [
    "# Construyamos el ajuste dentro de muestra\n",
    "y_hat = resultado2.predict()"
   ]
  },
  {
   "cell_type": "code",
   "execution_count": 159,
   "metadata": {},
   "outputs": [],
   "source": [
    "predicciones = X.copy()\n",
    "predicciones['y_pred'] = y_hat\n",
    "predicciones['y_true'] = y"
   ]
  },
  {
   "cell_type": "code",
   "execution_count": null,
   "metadata": {},
   "outputs": [],
   "source": [
    "predicciones"
   ]
  },
  {
   "cell_type": "code",
   "execution_count": 161,
   "metadata": {},
   "outputs": [],
   "source": [
    "#!pip install scikit-learn"
   ]
  },
  {
   "cell_type": "code",
   "execution_count": 162,
   "metadata": {},
   "outputs": [],
   "source": [
    "from sklearn.metrics import mean_absolute_percentage_error, mean_absolute_error"
   ]
  },
  {
   "cell_type": "markdown",
   "metadata": {},
   "source": [
    "**Mean Absolute Percentage Error (MAPE):** Error absoluto promedio porcentual.\n",
    "\n",
    "$$\\hat{e} = \\frac{|y_{real}-y_{pred}|}{y_{real}}$$"
   ]
  },
  {
   "cell_type": "code",
   "execution_count": null,
   "metadata": {},
   "outputs": [],
   "source": [
    "y_hat"
   ]
  },
  {
   "cell_type": "code",
   "execution_count": null,
   "metadata": {},
   "outputs": [],
   "source": [
    "y.values"
   ]
  },
  {
   "cell_type": "code",
   "execution_count": null,
   "metadata": {},
   "outputs": [],
   "source": [
    "print(f'{mean_absolute_percentage_error(y_hat,y):.2%}')"
   ]
  },
  {
   "cell_type": "code",
   "execution_count": null,
   "metadata": {},
   "outputs": [],
   "source": [
    "print(f'{mean_absolute_error(y_hat,y):,}')"
   ]
  },
  {
   "cell_type": "markdown",
   "metadata": {},
   "source": [
    "## Introducción al webscraping\n",
    "\n",
    "Web scraping es una técnica usada para automatizar los procesos de extracción de información de sitios web, como tablas, textos o link a otras páginas. **¿Por qué hacer web-scraping?**\n",
    "\n",
    "-   Funciona mejor que copiar y pegar la información de la web.\n",
    "-   Es rápido y replicable.\n",
    "\n",
    "### Robots.txt\n",
    "\n",
    "El ***robots exclusion standard***, también conocido como ***protocolo de exclusión para robots*** o simplemente `robots.txt`, es un protocolo estándar usado en algunos sitios web para comunicarse con buscadores y otros robots en la web. Este protocolo le indica a los buscadores o robots web sobre las partes de ese sitio web que no ***deben/pueden*** procesarse o escanearse. Veamos algunos ejemplos de `robots.txt`:\n",
    "\n",
    "**Ejemplo 1: permite a cualquier robot procesar/escanear todos los elementos de la pagína**\n",
    "\n",
    "<table style=\"background-color:#f9f2f4\">\n",
    "<tr><th><code style=\"background-color:#f9f2f4\"> # robots.txt for https://example.com/</code></th></tr>\n",
    "<tr><td><code style=\"background-color:#f9f2f4\"> User-agent: * </code></td></tr>\n",
    "<tr><td><code style=\"background-color:#f9f2f4\"> Disallow:</code></td></tr>\n",
    "</table>\n",
    "\n",
    "**Ejemplo 2: no permite procesar/escanear ningún elemento de la pagína**\n",
    "\n",
    "<table style=\"background-color:#f9f2f4\">\n",
    "<tr><th><code style=\"background-color:#f9f2f4\"> # robots.txt for https://example.com/</code></th></tr>\n",
    "<tr><td><code style=\"background-color:#f9f2f4\"> User-agent: * </code></td></tr>\n",
    "<tr><td><code style=\"background-color:#f9f2f4\"> Disallow: / </code></td></tr>\n",
    "</table>\n",
    "\n",
    "**Ejemplo 3: no permite procesar/escanear ningún elemento del archivo /public/index.html**\n",
    "\n",
    "<table style=\"background-color:#f9f2f4\">\n",
    "<tr><th><code style=\"background-color:#f9f2f4\"> # robots.txt for https://example.com/</code></th></tr>\n",
    "<tr><td><code style=\"background-color:#f9f2f4\"> User-agent: * </code></td></tr>\n",
    "<tr><td><code style=\"background-color:#f9f2f4\"> Disallow: /public/index.html </code></td></tr>\n",
    "</table>\n",
    "\n",
    "**Ejemplo 4: no le permite al robot `BadBot` procesar/escanear ningún elemento de la pagína:**\n",
    "\n",
    "<table style=\"background-color:#f9f2f4\">\n",
    "<tr><th><code style=\"background-color:#f9f2f4\"> # robots.txt for https://example.com/</code></th></tr>\n",
    "<tr><td> <code style=\"background-color:#f9f2f4\"> User-agent: BadBot </code></td></tr>\n",
    "<tr><td><code style=\"background-color:#f9f2f4\"> Disallow: / </code></td></tr>\n",
    "</table>\n",
    "\n",
    "Puede accederse al protocolo de exclusión de una página agregando `robots.txt` al dominio principal de la página. Por ejemplo `https://example.com/robots.txt`"
   ]
  },
  {
   "cell_type": "markdown",
   "metadata": {},
   "source": [
    "##### Abrir el archivo robots.txt de Wikipedia\n",
    "https://en.wikipedia.org/robots.txt"
   ]
  },
  {
   "cell_type": "markdown",
   "metadata": {},
   "source": [
    "### Hyper Text Markup Language (HTML)\n",
    "\n",
    "Un ***Hyper Text Markup Language*** no es un lenguaje de programación, sino más bien un lenguaje de marcado de hipertexto. Un ***HTML*** se escribe en su totalidad con elementos, los que a su vez están constituidos por etiquetas, contenido y atributos (mas adelante veremos que es cada uno de ellos). Los elementos están estructurados como un árbol (tronco, ramas, hojas). Por tanto, para poder extraer un elemento (por ejemplo una hoja), se rastrear la ruta del nodo o etiqueta (indicarle el tronco y la rama que contiene la hoja). Los ***HTML*** son interpretados por los navegadores web visualizando su contenido (una página web por ejemplo) tal y como estamos acostumbrados a verlo. **Puede acceder al HTML de una página web así:**\n",
    "\n",
    "\n",
    "\n",
    "<center>\n",
    "<div>\n",
    "<img src=\"img/view_html.gif\" width=\"800\"/>\n",
    "</div>\n",
    "</center>"
   ]
  },
  {
   "cell_type": "markdown",
   "metadata": {},
   "source": [
    "#### Elementos en un HTML\n",
    "\n",
    "Un elemento esta compuesto por una etiqueta `<p>`, atributos `id=\"texto\"` (no siempre contiene atributos) y el contenido `Hola mundo`. Por ejemplo:\n",
    "\n",
    "`<p id=\"texto\"> Hola mundo </p>`\n",
    "\n",
    "Las etiquetas sirven para delimitar el inicio (`< >`) y el final (`<\\ >`) de un elemento. Aquí puede observar algunas etiquetas de elementos comunes en HTML:\n",
    "\n",
    "-   `<p>`: Párrafos\n",
    "-   `<head>`: Encabezado de la pagina\n",
    "-   `<body>`: Cuerpo de la pagina\n",
    "-   `<h1>, <h2>,...,<hi>`: Encabezados, Secciones\n",
    "-   `<a>`: links\n",
    "-   `<li>`: Ítem en una lista\n",
    "-   `<table>`: Tablas\n",
    "-   `<td>`: Una celda de datos en una tabla\n",
    "-   `<div>`: División. Sirve para crear secciones o agrupar contenidos.\n",
    "-   `<script>`: Se utiliza para insertar o hacer referencia a un script\n",
    "\n",
    "Por otra parte, los atributos sirven para configurar o proveer información adicional a un elemento. Siempre se expresan en la etiqueta de inicio y tienen asignado un nombre y un valor. Por ejemplo:\n",
    "\n",
    "`<a class=\"document-toc-link\" col=\"red\">Lista de Atributos</a>`\n",
    "\n",
    "Aquí la etiqueta del elemento es `a` y tiene dos atributos `class` que indica que el contenido es un link a otro sitio web y `col` que indica que debe visualizarce de color rojo."
   ]
  },
  {
   "cell_type": "markdown",
   "metadata": {},
   "source": [
    "####  Mi primer HTML\n",
    "Ya puedes escribir su primer **HTML**. Abra un archivo en el bloc de notas de su computador y copie y pegue el siguiente código:\n",
    "\n",
    "```html\n",
    "<!DOCTYPE html> \n",
    "<html>\n",
    "<meta charset=\"utf-8\">\n",
    "<head>\n",
    "<title> Título de la página: ejemplo de clase </title>\n",
    "</head>\n",
    "<body>\n",
    "<h1> Title 1.</h1>\n",
    "<h2> Subtitle <u>subrayado-1</u>. </h2>\n",
    "<p> Este es un párrafo muy pequeño que se encuentra dentro de la etiqueta <b>p</b> de <i>html</i> </p>\n",
    "</body>\n",
    "</html>\n",
    "```"
   ]
  },
  {
   "cell_type": "markdown",
   "metadata": {},
   "source": [
    "Posteriormente guarde el archivo con el nombre que quiera, pero cámbiele la extensión de `.txt` a `.html`. Cuando abra el archivo después de guardarlo debería encontrar algo así\n",
    "\n",
    "<center>\n",
    "<div>\n",
    "<img src=\"img/my_page.png\" width=\"800\"/>\n",
    "</div>\n",
    "</center>"
   ]
  },
  {
   "cell_type": "markdown",
   "metadata": {},
   "source": [
    "**Ejercicio:** Modifique el archivo html que acaba de crear en el bloc de notas agregando un elemento `h1` en el que escriba su nombre y ubiquelo después del elemento `p`. Ejecute el código nuevamente y vea como cambió el html."
   ]
  },
  {
   "cell_type": "markdown",
   "metadata": {},
   "source": [
    "Ahora si, vayamos manos a la obra a traer de extraer algunas tablas de la página de Wikipedia de la Copa Mundial de Futbol."
   ]
  },
  {
   "cell_type": "code",
   "execution_count": 169,
   "metadata": {},
   "outputs": [],
   "source": [
    "#!pip install bs4\n",
    "import requests\n",
    "from bs4 import BeautifulSoup"
   ]
  },
  {
   "cell_type": "code",
   "execution_count": 170,
   "metadata": {},
   "outputs": [],
   "source": [
    "html_copa = requests.get(\"https://es.wikipedia.org/wiki/Copa_Mundial_de_F%C3%BAtbol\")"
   ]
  },
  {
   "cell_type": "code",
   "execution_count": null,
   "metadata": {},
   "outputs": [],
   "source": [
    "html_copa"
   ]
  },
  {
   "cell_type": "code",
   "execution_count": null,
   "metadata": {},
   "outputs": [],
   "source": [
    "html_copa.text"
   ]
  },
  {
   "cell_type": "markdown",
   "metadata": {},
   "source": [
    "Ahora vamos a utilizar la librería `Beautiful Soup` para facilitar el análisis del código html. Esto nos va a permitir encontrar con mayor facilidad los diferentes elementos que queremos buscar."
   ]
  },
  {
   "cell_type": "code",
   "execution_count": 173,
   "metadata": {},
   "outputs": [],
   "source": [
    "soup = BeautifulSoup(html_copa.text, 'html.parser')"
   ]
  },
  {
   "cell_type": "code",
   "execution_count": null,
   "metadata": {},
   "outputs": [],
   "source": [
    "# Se ve igual que antes, pero en el fondo es mucho mejor. Ya veremos por qué\n",
    "soup"
   ]
  },
  {
   "cell_type": "markdown",
   "metadata": {},
   "source": [
    "Con el método `find_all()` vamos a poder encontrar los diferentes elementos html que nos interesen. Por ejemplo, encontremos todos los Títulos (`h1`) y los Subtítulos (`h2`)."
   ]
  },
  {
   "cell_type": "code",
   "execution_count": null,
   "metadata": {},
   "outputs": [],
   "source": [
    "# Buscar títulos\n",
    "titulos = soup.find_all(\"h1\")\n",
    "titulos"
   ]
  },
  {
   "cell_type": "code",
   "execution_count": null,
   "metadata": {},
   "outputs": [],
   "source": [
    "# Naturalmente solo hay un título\n",
    "len(titulos)"
   ]
  },
  {
   "cell_type": "code",
   "execution_count": null,
   "metadata": {},
   "outputs": [],
   "source": [
    "titulos[0].text"
   ]
  },
  {
   "cell_type": "code",
   "execution_count": null,
   "metadata": {},
   "outputs": [],
   "source": [
    "# Buscar subtítulos\n",
    "subtitulos = soup.find_all(\"h2\")\n",
    "subtitulos"
   ]
  },
  {
   "cell_type": "code",
   "execution_count": null,
   "metadata": {},
   "outputs": [],
   "source": [
    "len(subtitulos)"
   ]
  },
  {
   "cell_type": "code",
   "execution_count": null,
   "metadata": {},
   "outputs": [],
   "source": [
    "[i.text for i in subtitulos]"
   ]
  },
  {
   "cell_type": "markdown",
   "metadata": {},
   "source": [
    "Ahora hagamos algo más interesante, busquemos todas las tablas"
   ]
  },
  {
   "cell_type": "code",
   "execution_count": null,
   "metadata": {},
   "outputs": [],
   "source": [
    "# Tenemos 16 tablas!\n",
    "tablas = soup.find_all(\"table\")\n",
    "len(tablas)"
   ]
  },
  {
   "cell_type": "markdown",
   "metadata": {},
   "source": [
    "Veamos la primera tabla de nuestra lista"
   ]
  },
  {
   "cell_type": "code",
   "execution_count": null,
   "metadata": {},
   "outputs": [],
   "source": [
    "tablas[0]"
   ]
  },
  {
   "cell_type": "markdown",
   "metadata": {},
   "source": [
    "Ni idea que será eso. De pronto viendo el texto de la tabla podemos tener una idea del tipo de información que hay en la tabla"
   ]
  },
  {
   "cell_type": "code",
   "execution_count": null,
   "metadata": {},
   "outputs": [],
   "source": [
    "tablas[0].text"
   ]
  },
  {
   "cell_type": "markdown",
   "metadata": {},
   "source": [
    "Si queremos convertir la tabla en un DataFrame debemos convertir nuestro html en texto (`str`) y luego utilizar la función `pd.read_html()` de `pandas`:"
   ]
  },
  {
   "cell_type": "code",
   "execution_count": null,
   "metadata": {},
   "outputs": [],
   "source": [
    "pd.read_html(str(tablas[0]))[0]"
   ]
  },
  {
   "cell_type": "markdown",
   "metadata": {},
   "source": [
    "La tabla que se extrajo fue la siguiente:\n",
    "<center>\n",
    "<div>\n",
    "<img src=\"img/world_cup1.png\"/>\n",
    "</div>\n",
    "</center>\n",
    "\n",
    "Note que por la naturaleza de la tabla, Python no la importó a la perfección. Es necesario hacer una pequeña limpieza de datos. \n",
    "\n",
    "Para encontrar una tabla específica dentro de la página, puede ser algo engorrioso tratar de revisar una por una. Otra alternativa más eficiente que tenemos es usar el `Xpath`\n",
    "\n",
    "#### Xpath\n",
    "\n",
    "**¿Cómo se puede extraer un elemento especifico de un HTML?**. El lenguaje Xpath (*XML Path Language*) es el sistema que permite construir expresiones usadas para recorrer y consultar los elementos de un documento XML. Es decir, un `XPath` permite buscar un elemento teniendo en cuenta la estructura jerárquica del XML.\n",
    "\n",
    "<center>\n",
    "<div>\n",
    "<img src=\"img/body_html.png\"/>\n",
    "</div>\n",
    "</center>\n",
    "\n",
    "Por el ejemplo, para obtener el elemento marcado con un recuadro rojo, el `xpath` le indica a Python cuál es el camino que debe recorrer para extraer ese elemento. Puede obtener el `xpath` inspeccionando el elemento así: \n",
    "\n",
    "<center>\n",
    "<div>\n",
    "<img src=\"img/xpath.gif\"/>\n",
    "</div>\n",
    "</center>"
   ]
  },
  {
   "cell_type": "markdown",
   "metadata": {},
   "source": [
    "Por ejemplo, busquemos el `Xpath` para sacar la tabla de goleadores."
   ]
  },
  {
   "cell_type": "code",
   "execution_count": 185,
   "metadata": {},
   "outputs": [],
   "source": [
    "goleadores_xpath = '//*[@id=\"mw-content-text\"]/div[1]/table[7]'"
   ]
  },
  {
   "cell_type": "code",
   "execution_count": 186,
   "metadata": {},
   "outputs": [],
   "source": [
    "from lxml import html\n",
    "tree = html.fromstring(html_copa.content)\n",
    "goleadores_table = tree.xpath(goleadores_xpath)[0]"
   ]
  },
  {
   "cell_type": "code",
   "execution_count": null,
   "metadata": {},
   "outputs": [],
   "source": [
    "pd.read_html(html.tostring(goleadores_table))[0]"
   ]
  },
  {
   "cell_type": "code",
   "execution_count": null,
   "metadata": {},
   "outputs": [],
   "source": [
    "pd.read_html(str(tablas[7]))[0]"
   ]
  },
  {
   "cell_type": "markdown",
   "metadata": {},
   "source": [
    "Otra forma sencilla es hacer uso de `pandas` directamente"
   ]
  },
  {
   "cell_type": "code",
   "execution_count": 189,
   "metadata": {},
   "outputs": [],
   "source": [
    "world_cup = pd.read_html(\"https://es.wikipedia.org/wiki/Copa_Mundial_de_F%C3%BAtbol\")"
   ]
  },
  {
   "cell_type": "code",
   "execution_count": null,
   "metadata": {},
   "outputs": [],
   "source": [
    "len(world_cup)"
   ]
  },
  {
   "cell_type": "code",
   "execution_count": null,
   "metadata": {},
   "outputs": [],
   "source": [
    "world_cup[7]"
   ]
  },
  {
   "cell_type": "code",
   "execution_count": null,
   "metadata": {},
   "outputs": [],
   "source": [
    "world_cup[1]"
   ]
  },
  {
   "cell_type": "markdown",
   "metadata": {},
   "source": [
    "### Ejemplo: Vehículos de TuCarro"
   ]
  },
  {
   "cell_type": "code",
   "execution_count": 193,
   "metadata": {},
   "outputs": [],
   "source": [
    "url = \"https://listado.tucarro.com.co/toyota#D[A:toyota]\"\n",
    "html_tc = requests.get(url)"
   ]
  },
  {
   "cell_type": "code",
   "execution_count": null,
   "metadata": {},
   "outputs": [],
   "source": [
    "html_tc.content"
   ]
  },
  {
   "cell_type": "code",
   "execution_count": 195,
   "metadata": {},
   "outputs": [],
   "source": [
    "tree = html.fromstring(html_tc.content)\n",
    "xpath_contenido = '//div[@class=\"poly-card__content\"]'\n",
    "propiedades_card = tree.xpath(xpath_contenido)"
   ]
  },
  {
   "cell_type": "code",
   "execution_count": null,
   "metadata": {},
   "outputs": [],
   "source": [
    "propiedades_card[0].getchildren()"
   ]
  },
  {
   "cell_type": "code",
   "execution_count": null,
   "metadata": {},
   "outputs": [],
   "source": [
    "propiedades_card[0].getchildren()[0].getchildren()[0].text"
   ]
  },
  {
   "cell_type": "code",
   "execution_count": null,
   "metadata": {},
   "outputs": [],
   "source": [
    "propiedades_card[0].getchildren()[1].getchildren()[0].getchildren()[0].getchildren()[1].text"
   ]
  },
  {
   "cell_type": "code",
   "execution_count": null,
   "metadata": {},
   "outputs": [],
   "source": [
    "propiedades_card[0].getchildren()[2].getchildren()[0].getchildren()[0].text"
   ]
  },
  {
   "cell_type": "code",
   "execution_count": null,
   "metadata": {},
   "outputs": [],
   "source": [
    "propiedades_card[0].getchildren()[2].getchildren()[0].getchildren()[1].text"
   ]
  },
  {
   "cell_type": "code",
   "execution_count": 202,
   "metadata": {},
   "outputs": [],
   "source": [
    "datos_vehiculos = pd.DataFrame(columns=['Modelo','Precio','año','km'])\n",
    "\n",
    "for k in range(len(propiedades_card)):\n",
    "    elemento = propiedades_card[k]\n",
    "    titulo = elemento.getchildren()[0].getchildren()[0].text\n",
    "    precio = elemento.getchildren()[1].getchildren()[0].getchildren()[0].getchildren()[1].text\n",
    "    año = elemento.getchildren()[2].getchildren()[0].getchildren()[0].text\n",
    "    km = elemento.getchildren()[2].getchildren()[0].getchildren()[1].text\n",
    "    datos_vehiculos.loc[len(datos_vehiculos)] = [titulo,precio,año,km]"
   ]
  },
  {
   "cell_type": "code",
   "execution_count": null,
   "metadata": {},
   "outputs": [],
   "source": [
    "datos_vehiculos"
   ]
  },
  {
   "cell_type": "code",
   "execution_count": null,
   "metadata": {},
   "outputs": [],
   "source": []
  }
 ],
 "metadata": {
  "kernelspec": {
   "display_name": ".venv",
   "language": "python",
   "name": "python3"
  },
  "language_info": {
   "codemirror_mode": {
    "name": "ipython",
    "version": 3
   },
   "file_extension": ".py",
   "mimetype": "text/x-python",
   "name": "python",
   "nbconvert_exporter": "python",
   "pygments_lexer": "ipython3",
   "version": "3.13.1"
  }
 },
 "nbformat": 4,
 "nbformat_minor": 2
}
